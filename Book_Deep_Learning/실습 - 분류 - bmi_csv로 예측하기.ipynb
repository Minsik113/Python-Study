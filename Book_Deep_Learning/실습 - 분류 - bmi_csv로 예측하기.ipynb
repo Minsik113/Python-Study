{
 "cells": [
  {
   "cell_type": "markdown",
   "metadata": {},
   "source": [
    "# bmi.csv\n",
    "- 딥러닝 모델을 만들어 보세요\n",
    "\n",
    "- [178, 57] 사람의 label을 예측해라 thin\n",
    "- [173, 68] 사람의 label을 예측해라 normal\n",
    "\n"
   ]
  },
  {
   "cell_type": "code",
   "execution_count": 5,
   "metadata": {},
   "outputs": [],
   "source": [
    "import pandas as pd\n",
    "from tensorflow.keras.layers import Dense\n",
    "from tensorflow.keras.models import Sequential\n",
    "from sklearn.model_selection import train_test_split"
   ]
  },
  {
   "cell_type": "markdown",
   "metadata": {},
   "source": [
    "# 1.데이터 로드"
   ]
  },
  {
   "cell_type": "code",
   "execution_count": 4,
   "metadata": {},
   "outputs": [
    {
     "data": {
      "text/html": [
       "<div>\n",
       "<style scoped>\n",
       "    .dataframe tbody tr th:only-of-type {\n",
       "        vertical-align: middle;\n",
       "    }\n",
       "\n",
       "    .dataframe tbody tr th {\n",
       "        vertical-align: top;\n",
       "    }\n",
       "\n",
       "    .dataframe thead th {\n",
       "        text-align: right;\n",
       "    }\n",
       "</style>\n",
       "<table border=\"1\" class=\"dataframe\">\n",
       "  <thead>\n",
       "    <tr style=\"text-align: right;\">\n",
       "      <th></th>\n",
       "      <th>height</th>\n",
       "      <th>weight</th>\n",
       "      <th>label</th>\n",
       "    </tr>\n",
       "  </thead>\n",
       "  <tbody>\n",
       "    <tr>\n",
       "      <th>0</th>\n",
       "      <td>186</td>\n",
       "      <td>47</td>\n",
       "      <td>thin</td>\n",
       "    </tr>\n",
       "    <tr>\n",
       "      <th>1</th>\n",
       "      <td>143</td>\n",
       "      <td>74</td>\n",
       "      <td>fat</td>\n",
       "    </tr>\n",
       "    <tr>\n",
       "      <th>2</th>\n",
       "      <td>144</td>\n",
       "      <td>55</td>\n",
       "      <td>fat</td>\n",
       "    </tr>\n",
       "    <tr>\n",
       "      <th>3</th>\n",
       "      <td>173</td>\n",
       "      <td>60</td>\n",
       "      <td>normal</td>\n",
       "    </tr>\n",
       "    <tr>\n",
       "      <th>4</th>\n",
       "      <td>170</td>\n",
       "      <td>74</td>\n",
       "      <td>fat</td>\n",
       "    </tr>\n",
       "  </tbody>\n",
       "</table>\n",
       "</div>"
      ],
      "text/plain": [
       "   height  weight   label\n",
       "0     186      47    thin\n",
       "1     143      74     fat\n",
       "2     144      55     fat\n",
       "3     173      60  normal\n",
       "4     170      74     fat"
      ]
     },
     "execution_count": 4,
     "metadata": {},
     "output_type": "execute_result"
    }
   ],
   "source": [
    "df = pd.read_csv('../data/bmi.csv')\n",
    "df.shape # 20000 x 3\n",
    "df.head()"
   ]
  },
  {
   "cell_type": "code",
   "execution_count": 16,
   "metadata": {},
   "outputs": [
    {
     "data": {
      "text/plain": [
       "array(['thin', 'fat', 'normal'], dtype=object)"
      ]
     },
     "execution_count": 16,
     "metadata": {},
     "output_type": "execute_result"
    }
   ],
   "source": [
    "df['label'].unique() # 종류 3개 -> activation function는 소프트맥스로 하는게 나아보임?"
   ]
  },
  {
   "cell_type": "code",
   "execution_count": 57,
   "metadata": {},
   "outputs": [
    {
     "data": {
      "text/html": [
       "<div>\n",
       "<style scoped>\n",
       "    .dataframe tbody tr th:only-of-type {\n",
       "        vertical-align: middle;\n",
       "    }\n",
       "\n",
       "    .dataframe tbody tr th {\n",
       "        vertical-align: top;\n",
       "    }\n",
       "\n",
       "    .dataframe thead th {\n",
       "        text-align: right;\n",
       "    }\n",
       "</style>\n",
       "<table border=\"1\" class=\"dataframe\">\n",
       "  <thead>\n",
       "    <tr style=\"text-align: right;\">\n",
       "      <th></th>\n",
       "      <th>fat</th>\n",
       "      <th>normal</th>\n",
       "      <th>thin</th>\n",
       "    </tr>\n",
       "  </thead>\n",
       "  <tbody>\n",
       "    <tr>\n",
       "      <th>0</th>\n",
       "      <td>0</td>\n",
       "      <td>0</td>\n",
       "      <td>1</td>\n",
       "    </tr>\n",
       "    <tr>\n",
       "      <th>1</th>\n",
       "      <td>1</td>\n",
       "      <td>0</td>\n",
       "      <td>0</td>\n",
       "    </tr>\n",
       "    <tr>\n",
       "      <th>2</th>\n",
       "      <td>1</td>\n",
       "      <td>0</td>\n",
       "      <td>0</td>\n",
       "    </tr>\n",
       "    <tr>\n",
       "      <th>3</th>\n",
       "      <td>0</td>\n",
       "      <td>1</td>\n",
       "      <td>0</td>\n",
       "    </tr>\n",
       "    <tr>\n",
       "      <th>4</th>\n",
       "      <td>1</td>\n",
       "      <td>0</td>\n",
       "      <td>0</td>\n",
       "    </tr>\n",
       "    <tr>\n",
       "      <th>...</th>\n",
       "      <td>...</td>\n",
       "      <td>...</td>\n",
       "      <td>...</td>\n",
       "    </tr>\n",
       "    <tr>\n",
       "      <th>19995</th>\n",
       "      <td>0</td>\n",
       "      <td>0</td>\n",
       "      <td>1</td>\n",
       "    </tr>\n",
       "    <tr>\n",
       "      <th>19996</th>\n",
       "      <td>0</td>\n",
       "      <td>0</td>\n",
       "      <td>1</td>\n",
       "    </tr>\n",
       "    <tr>\n",
       "      <th>19997</th>\n",
       "      <td>1</td>\n",
       "      <td>0</td>\n",
       "      <td>0</td>\n",
       "    </tr>\n",
       "    <tr>\n",
       "      <th>19998</th>\n",
       "      <td>0</td>\n",
       "      <td>1</td>\n",
       "      <td>0</td>\n",
       "    </tr>\n",
       "    <tr>\n",
       "      <th>19999</th>\n",
       "      <td>1</td>\n",
       "      <td>0</td>\n",
       "      <td>0</td>\n",
       "    </tr>\n",
       "  </tbody>\n",
       "</table>\n",
       "<p>20000 rows × 3 columns</p>\n",
       "</div>"
      ],
      "text/plain": [
       "       fat  normal  thin\n",
       "0        0       0     1\n",
       "1        1       0     0\n",
       "2        1       0     0\n",
       "3        0       1     0\n",
       "4        1       0     0\n",
       "...    ...     ...   ...\n",
       "19995    0       0     1\n",
       "19996    0       0     1\n",
       "19997    1       0     0\n",
       "19998    0       1     0\n",
       "19999    1       0     0\n",
       "\n",
       "[20000 rows x 3 columns]"
      ]
     },
     "execution_count": 57,
     "metadata": {},
     "output_type": "execute_result"
    }
   ],
   "source": [
    "X = df.iloc[:,0:2]\n",
    "y = df.iloc[:,2]\n",
    "y = pd.get_dummies(y) # 분류니까 one hot 인코딩\n",
    "y"
   ]
  },
  {
   "cell_type": "code",
   "execution_count": 60,
   "metadata": {},
   "outputs": [],
   "source": [
    "X_train, X_test, y_train, y_test = \\\n",
    "    train_test_split(X, y, test_size=0.3, shuffle=True) # 무작위 섞음"
   ]
  },
  {
   "cell_type": "code",
   "execution_count": 61,
   "metadata": {},
   "outputs": [
    {
     "data": {
      "text/plain": [
       "(14000, 3)"
      ]
     },
     "execution_count": 61,
     "metadata": {},
     "output_type": "execute_result"
    }
   ],
   "source": [
    "X_train.shape # 14000 x 2\n",
    "X_test.shape # 6000 x 2\n",
    "y_train.shape # 14000 x 3"
   ]
  },
  {
   "cell_type": "code",
   "execution_count": 69,
   "metadata": {},
   "outputs": [
    {
     "name": "stdout",
     "output_type": "stream",
     "text": [
      "Model: \"sequential_6\"\n",
      "_________________________________________________________________\n",
      " Layer (type)                Output Shape              Param #   \n",
      "=================================================================\n",
      " dense_15 (Dense)            (None, 24)                72        \n",
      "                                                                 \n",
      " dense_16 (Dense)            (None, 10)                250       \n",
      "                                                                 \n",
      " dense_17 (Dense)            (None, 3)                 33        \n",
      "                                                                 \n",
      "=================================================================\n",
      "Total params: 355\n",
      "Trainable params: 355\n",
      "Non-trainable params: 0\n",
      "_________________________________________________________________\n"
     ]
    }
   ],
   "source": [
    "# 모델설정\n",
    "model = Sequential()\n",
    "model.add(Dense(24, input_shape=(X_train.shape[1],), activation='relu')) # 입력층 x 출력층 + bias = \n",
    "model.add(Dense(10, activation='relu')) # 입력층 x 출력층 + bias = \n",
    "model.add(Dense(3, activation='softmax')) # 입력층 x 출력층 + bias = \n",
    "model.summary()"
   ]
  },
  {
   "cell_type": "code",
   "execution_count": 70,
   "metadata": {},
   "outputs": [],
   "source": [
    "# 모델 컴파일\n",
    "model.compile(loss='categorical_crossentropy'\n",
    "             ,optimizer='adam'\n",
    "             ,metrics=['accuracy'])"
   ]
  },
  {
   "cell_type": "code",
   "execution_count": 72,
   "metadata": {},
   "outputs": [
    {
     "name": "stdout",
     "output_type": "stream",
     "text": [
      "Epoch 1/30\n",
      "2800/2800 [==============================] - 3s 898us/step - loss: 0.5285 - accuracy: 0.7501\n",
      "Epoch 2/30\n",
      "2800/2800 [==============================] - 2s 886us/step - loss: 0.4560 - accuracy: 0.7816\n",
      "Epoch 3/30\n",
      "2800/2800 [==============================] - 2s 879us/step - loss: 0.4098 - accuracy: 0.8044\n",
      "Epoch 4/30\n",
      "2800/2800 [==============================] - 2s 886us/step - loss: 0.3385 - accuracy: 0.8441\n",
      "Epoch 5/30\n",
      "2800/2800 [==============================] - 2s 889us/step - loss: 0.2719 - accuracy: 0.8806\n",
      "Epoch 6/30\n",
      "2800/2800 [==============================] - 3s 901us/step - loss: 0.2244 - accuracy: 0.9048\n",
      "Epoch 7/30\n",
      "2800/2800 [==============================] - 3s 898us/step - loss: 0.2046 - accuracy: 0.9107\n",
      "Epoch 8/30\n",
      "2800/2800 [==============================] - 2s 884us/step - loss: 0.1836 - accuracy: 0.9229\n",
      "Epoch 9/30\n",
      "2800/2800 [==============================] - 3s 904us/step - loss: 0.1698 - accuracy: 0.9279\n",
      "Epoch 10/30\n",
      "2800/2800 [==============================] - 2s 890us/step - loss: 0.1588 - accuracy: 0.9317\n",
      "Epoch 11/30\n",
      "2800/2800 [==============================] - 3s 904us/step - loss: 0.1612 - accuracy: 0.9293\n",
      "Epoch 12/30\n",
      "2800/2800 [==============================] - 3s 898us/step - loss: 0.1423 - accuracy: 0.9414\n",
      "Epoch 13/30\n",
      "2800/2800 [==============================] - 3s 909us/step - loss: 0.1427 - accuracy: 0.9386\n",
      "Epoch 14/30\n",
      "2800/2800 [==============================] - 3s 896us/step - loss: 0.1463 - accuracy: 0.9381\n",
      "Epoch 15/30\n",
      "2800/2800 [==============================] - 2s 887us/step - loss: 0.1442 - accuracy: 0.9408\n",
      "Epoch 16/30\n",
      "2800/2800 [==============================] - 2s 891us/step - loss: 0.1268 - accuracy: 0.9479\n",
      "Epoch 17/30\n",
      "2800/2800 [==============================] - 3s 894us/step - loss: 0.1496 - accuracy: 0.9344\n",
      "Epoch 18/30\n",
      "2800/2800 [==============================] - 3s 910us/step - loss: 0.1322 - accuracy: 0.9433\n",
      "Epoch 19/30\n",
      "2800/2800 [==============================] - 3s 894us/step - loss: 0.1341 - accuracy: 0.9422\n",
      "Epoch 20/30\n",
      "2800/2800 [==============================] - 3s 906us/step - loss: 0.1207 - accuracy: 0.9491\n",
      "Epoch 21/30\n",
      "2800/2800 [==============================] - 3s 907us/step - loss: 0.1250 - accuracy: 0.9451\n",
      "Epoch 22/30\n",
      "2800/2800 [==============================] - 3s 897us/step - loss: 0.1279 - accuracy: 0.9468\n",
      "Epoch 23/30\n",
      "2800/2800 [==============================] - 3s 902us/step - loss: 0.1237 - accuracy: 0.9484\n",
      "Epoch 24/30\n",
      "2800/2800 [==============================] - 3s 945us/step - loss: 0.1194 - accuracy: 0.9499\n",
      "Epoch 25/30\n",
      "2800/2800 [==============================] - 3s 898us/step - loss: 0.1069 - accuracy: 0.9546\n",
      "Epoch 26/30\n",
      "2800/2800 [==============================] - 3s 929us/step - loss: 0.1339 - accuracy: 0.9443\n",
      "Epoch 27/30\n",
      "2800/2800 [==============================] - 3s 907us/step - loss: 0.1133 - accuracy: 0.9510\n",
      "Epoch 28/30\n",
      "2800/2800 [==============================] - 3s 895us/step - loss: 0.1114 - accuracy: 0.9511\n",
      "Epoch 29/30\n",
      "2800/2800 [==============================] - 3s 893us/step - loss: 0.1111 - accuracy: 0.9540\n",
      "Epoch 30/30\n",
      "2800/2800 [==============================] - 3s 915us/step - loss: 0.1044 - accuracy: 0.9538\n"
     ]
    }
   ],
   "source": [
    "# 모델 실행\n",
    "history = model.fit(X_train, y_train, epochs=30, batch_size=5)"
   ]
  },
  {
   "cell_type": "markdown",
   "metadata": {},
   "source": [
    "# 테스트데이터 넣어보기"
   ]
  },
  {
   "cell_type": "code",
   "execution_count": 79,
   "metadata": {},
   "outputs": [
    {
     "name": "stdout",
     "output_type": "stream",
     "text": [
      "188/188 [==============================] - 0s 736us/step - loss: 0.0666 - accuracy: 0.9778\n",
      "Test accuracy 0.978\n"
     ]
    }
   ],
   "source": [
    "score = model.evaluate(X_test, y_test)\n",
    "print(f'Test accuracy {score[1]:0.3}') # 정확도 0.978"
   ]
  },
  {
   "cell_type": "code",
   "execution_count": 137,
   "metadata": {},
   "outputs": [],
   "source": [
    "def get_answer(check_list):\n",
    "    idx  = 0 # 첫번재 index\n",
    "    prev = check_list[0] # 첫번째 값\n",
    "    temp = check_list\n",
    "    for i in range(1, len(check_list)):\n",
    "        if prev < temp[i]:\n",
    "            prev = temp[i]\n",
    "            idx = i\n",
    "    return y.columns[idx]\n"
   ]
  },
  {
   "cell_type": "code",
   "execution_count": 139,
   "metadata": {},
   "outputs": [
    {
     "name": "stdout",
     "output_type": "stream",
     "text": [
      "1/1 [==============================] - 0s 20ms/step\n",
      "1/1 [==============================] - 0s 21ms/step\n"
     ]
    },
    {
     "data": {
      "text/plain": [
       "['thin', 'normal']"
      ]
     },
     "execution_count": 139,
     "metadata": {},
     "output_type": "execute_result"
    }
   ],
   "source": [
    "# 예측데이터 입력\n",
    "h = []\n",
    "h.append([178,57])\n",
    "h.append([173,68])\n",
    "\n",
    "ans = []\n",
    "for i in h:\n",
    "    a = get_answer(model.predict([i])[0])\n",
    "    ans.append(a)\n",
    "ans # ['thin', 'normal']"
   ]
  },
  {
   "cell_type": "markdown",
   "metadata": {},
   "source": [
    "# 모델저장"
   ]
  },
  {
   "cell_type": "code",
   "execution_count": 84,
   "metadata": {},
   "outputs": [],
   "source": [
    "from tensorflow.keras.models import load_model\n",
    "model.save('model/실습-bmi.hdf5')"
   ]
  }
 ],
 "metadata": {
  "kernelspec": {
   "display_name": "Python 3",
   "language": "python",
   "name": "python3"
  },
  "language_info": {
   "codemirror_mode": {
    "name": "ipython",
    "version": 3
   },
   "file_extension": ".py",
   "mimetype": "text/x-python",
   "name": "python",
   "nbconvert_exporter": "python",
   "pygments_lexer": "ipython3",
   "version": "3.7.4"
  }
 },
 "nbformat": 4,
 "nbformat_minor": 2
}
