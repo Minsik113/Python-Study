{
 "cells": [
  {
   "cell_type": "markdown",
   "metadata": {},
   "source": [
    "## 튜플 자료형"
   ]
  },
  {
   "cell_type": "code",
   "execution_count": 19,
   "metadata": {},
   "outputs": [
    {
     "name": "stdout",
     "output_type": "stream",
     "text": [
      "(2, 1, 2, 3, 6, 7)\n"
     ]
    }
   ],
   "source": [
    "tuple_a = (2,1,2,3,6,7)\n",
    "print(f'{tuple_a}')"
   ]
  },
  {
   "cell_type": "markdown",
   "metadata": {},
   "source": [
    "튜플은 값 변경 안된다"
   ]
  },
  {
   "cell_type": "code",
   "execution_count": 20,
   "metadata": {},
   "outputs": [
    {
     "ename": "TypeError",
     "evalue": "'tuple' object does not support item assignment",
     "output_type": "error",
     "traceback": [
      "\u001b[1;31m---------------------------------------------------------------------------\u001b[0m",
      "\u001b[1;31mTypeError\u001b[0m                                 Traceback (most recent call last)",
      "\u001b[1;32m<ipython-input-20-57cd3b390b99>\u001b[0m in \u001b[0;36m<module>\u001b[1;34m\u001b[0m\n\u001b[1;32m----> 1\u001b[1;33m \u001b[0mtuple_a\u001b[0m\u001b[1;33m[\u001b[0m\u001b[1;36m2\u001b[0m\u001b[1;33m]\u001b[0m \u001b[1;33m=\u001b[0m \u001b[1;36m99\u001b[0m\u001b[1;33m\u001b[0m\u001b[1;33m\u001b[0m\u001b[0m\n\u001b[0m\u001b[0;32m      2\u001b[0m \u001b[0mprint\u001b[0m\u001b[1;33m(\u001b[0m\u001b[1;34mf'{tuple_a}'\u001b[0m\u001b[1;33m)\u001b[0m\u001b[1;33m\u001b[0m\u001b[1;33m\u001b[0m\u001b[0m\n",
      "\u001b[1;31mTypeError\u001b[0m: 'tuple' object does not support item assignment"
     ]
    }
   ],
   "source": [
    "tuple_a[2] = 99\n",
    "print(f'{tuple_a}')"
   ]
  },
  {
   "cell_type": "markdown",
   "metadata": {},
   "source": [
    "## 딕셔너리 자료형"
   ]
  },
  {
   "cell_type": "code",
   "execution_count": 52,
   "metadata": {},
   "outputs": [
    {
     "name": "stdout",
     "output_type": "stream",
     "text": [
      "{'name': 'pay', 'phone': '0119993323', 'birth': '1118'}\n",
      "pay\n",
      "{'name': 'pay', 'phone': '0119993323', 'birth': '1118', 'test': 'test'}\n"
     ]
    }
   ],
   "source": [
    "dict_a = {'name':'pay'\n",
    "         , 'phone':'0119993323'\n",
    "         ,'birth':'1118'}\n",
    "\n",
    "print(f'{dict_a}')\n",
    "print(f'{dict_a[\"name\"]}')\n",
    "dict_a['test'] = 'test'\n",
    "print(f'{dict_a}')"
   ]
  },
  {
   "cell_type": "code",
   "execution_count": 31,
   "metadata": {},
   "outputs": [
    {
     "name": "stdout",
     "output_type": "stream",
     "text": [
      "{'phoen': '0119993323', 'birth': '1118', 'test': 'test'}\n"
     ]
    }
   ],
   "source": [
    "del dict_a[\"name\"]\n",
    "print(f'{dict_a}')"
   ]
  },
  {
   "cell_type": "markdown",
   "metadata": {},
   "source": [
    " "
   ]
  },
  {
   "cell_type": "markdown",
   "metadata": {},
   "source": [
    "### dict.items()\n",
    "- 딕셔너리 조합들\n",
    "- 리턴타입 dict.items()\n",
    "\n",
    "### dict.keys()\n",
    "- 딕셔너리 키들\n",
    "- 리턴타입 dict.keys()\n",
    "\n",
    "### dict_values()\n",
    "- 딕셔너리 값들\n",
    "- 리턴타입 dict.values()\n"
   ]
  },
  {
   "cell_type": "code",
   "execution_count": 53,
   "metadata": {},
   "outputs": [
    {
     "name": "stdout",
     "output_type": "stream",
     "text": [
      "dict_a 조합: dict_items([('name', 'pay'), ('phone', '0119993323'), ('birth', '1118'), ('test', 'test')])\n",
      "dict_a key들: dict_keys(['name', 'phone', 'birth', 'test'])\n",
      "dict_a value들: dict_values(['pay', '0119993323', '1118', 'test'])\n"
     ]
    }
   ],
   "source": [
    "print(f\"dict_a 조합: {dict_a.items()}\")\n",
    "print(f'dict_a key들: {dict_a.keys()}')\n",
    "print(f'dict_a value들: {dict_a.values()}')"
   ]
  },
  {
   "cell_type": "markdown",
   "metadata": {},
   "source": [
    "#### 리턴 타입 확인"
   ]
  },
  {
   "cell_type": "code",
   "execution_count": 54,
   "metadata": {},
   "outputs": [
    {
     "name": "stdout",
     "output_type": "stream",
     "text": [
      "dict_a key들: ['name', 'phone', 'birth', 'test']\n",
      "dict_a key들: dict_keys(['name', 'phone', 'birth', 'test'])\n",
      "<class 'list'>\n"
     ]
    }
   ],
   "source": [
    "print(f'dict_a key들: {list(dict_a.keys())}')\n",
    "print(f'dict_a key들: {dict_a.keys()}')\n",
    "print(type(list(dict_a.keys())))"
   ]
  },
  {
   "cell_type": "markdown",
   "metadata": {},
   "source": [
    "### key로 value가져오기"
   ]
  },
  {
   "cell_type": "code",
   "execution_count": 55,
   "metadata": {},
   "outputs": [
    {
     "data": {
      "text/plain": [
       "'0119993323'"
      ]
     },
     "execution_count": 55,
     "metadata": {},
     "output_type": "execute_result"
    }
   ],
   "source": [
    "dict_a.get(\"phone\")"
   ]
  },
  {
   "cell_type": "markdown",
   "metadata": {},
   "source": [
    "### 딕셔너리에 해당 key가 존재하는지 확인"
   ]
  },
  {
   "cell_type": "code",
   "execution_count": 56,
   "metadata": {},
   "outputs": [
    {
     "data": {
      "text/plain": [
       "True"
      ]
     },
     "execution_count": 56,
     "metadata": {},
     "output_type": "execute_result"
    }
   ],
   "source": [
    "\"name\" in dict_a"
   ]
  },
  {
   "cell_type": "code",
   "execution_count": 57,
   "metadata": {},
   "outputs": [
    {
     "data": {
      "text/plain": [
       "False"
      ]
     },
     "execution_count": 57,
     "metadata": {},
     "output_type": "execute_result"
    }
   ],
   "source": [
    "\"address\" in dict_a"
   ]
  },
  {
   "cell_type": "markdown",
   "metadata": {},
   "source": [
    "### key, value 지우기"
   ]
  },
  {
   "cell_type": "code",
   "execution_count": 58,
   "metadata": {},
   "outputs": [],
   "source": [
    "dict_a.clear()"
   ]
  },
  {
   "cell_type": "code",
   "execution_count": 59,
   "metadata": {},
   "outputs": [
    {
     "data": {
      "text/plain": [
       "{}"
      ]
     },
     "execution_count": 59,
     "metadata": {},
     "output_type": "execute_result"
    }
   ],
   "source": [
    "dict_a"
   ]
  },
  {
   "cell_type": "markdown",
   "metadata": {},
   "source": [
    "## 집합 자료형\n",
    "- 순서가 없다. <br/>\n",
    "- 중복 X<br/>\n",
    "- 교집합, 합집합, 차집합"
   ]
  },
  {
   "cell_type": "code",
   "execution_count": 81,
   "metadata": {},
   "outputs": [
    {
     "data": {
      "text/plain": [
       "{1, 2, 3}"
      ]
     },
     "execution_count": 81,
     "metadata": {},
     "output_type": "execute_result"
    }
   ],
   "source": [
    "s1 = set([1,2,3])\n",
    "s1"
   ]
  },
  {
   "cell_type": "code",
   "execution_count": 83,
   "metadata": {},
   "outputs": [
    {
     "data": {
      "text/plain": [
       "{1, 2, 3, 4}"
      ]
     },
     "execution_count": 83,
     "metadata": {},
     "output_type": "execute_result"
    }
   ],
   "source": [
    "s1.add(4)\n",
    "s1"
   ]
  },
  {
   "cell_type": "markdown",
   "metadata": {},
   "source": [
    "### 교집합, 합집합, 차집합"
   ]
  },
  {
   "cell_type": "code",
   "execution_count": 92,
   "metadata": {},
   "outputs": [
    {
     "name": "stdout",
     "output_type": "stream",
     "text": [
      "{4, 5, 6}\n",
      "{4, 5, 6}\n"
     ]
    }
   ],
   "source": [
    "#교집합\n",
    "s1 = {1,2,3,4,5,6}\n",
    "s2 = {4,5,6,7,8,9}\n",
    "print(s1 & s2)\n",
    "print(s1.intersection(s2))"
   ]
  },
  {
   "cell_type": "code",
   "execution_count": 91,
   "metadata": {},
   "outputs": [
    {
     "name": "stdout",
     "output_type": "stream",
     "text": [
      "{1, 2, 3, 4, 5, 6, 7, 8, 9}\n",
      "{1, 2, 3, 4, 5, 6, 7, 8, 9}\n"
     ]
    }
   ],
   "source": [
    "# 합집합\n",
    "print(s1 | s2)\n",
    "print(s1.union(s2))"
   ]
  },
  {
   "cell_type": "code",
   "execution_count": 93,
   "metadata": {},
   "outputs": [
    {
     "name": "stdout",
     "output_type": "stream",
     "text": [
      "{1, 2, 3}\n",
      "{1, 2, 3}\n",
      "{8, 9, 7}\n",
      "{8, 9, 7}\n"
     ]
    }
   ],
   "source": [
    "# 차집합\n",
    "print(s1 - s2)\n",
    "print(s1.difference(s2))\n",
    "print(s2 - s1)\n",
    "print(s2.difference(s1))"
   ]
  },
  {
   "cell_type": "markdown",
   "metadata": {},
   "source": [
    "### 값 추가 및 제거하기\n",
    "- add: 1개 추가\n",
    "- update: 여러개 추가\n",
    "- remove: 단일요소 제거.\n",
    "    - 차집합으로 여러개 제거해라"
   ]
  },
  {
   "cell_type": "code",
   "execution_count": 113,
   "metadata": {},
   "outputs": [
    {
     "data": {
      "text/plain": [
       "{1, 2, 3, 4}"
      ]
     },
     "execution_count": 113,
     "metadata": {},
     "output_type": "execute_result"
    }
   ],
   "source": [
    "# add\n",
    "s1=set([1,2,3])\n",
    "s1.add(4)\n",
    "s1"
   ]
  },
  {
   "cell_type": "code",
   "execution_count": 114,
   "metadata": {},
   "outputs": [
    {
     "data": {
      "text/plain": [
       "{1, 2, 3, 4, 5, 6}"
      ]
     },
     "execution_count": 114,
     "metadata": {},
     "output_type": "execute_result"
    }
   ],
   "source": [
    "# update\n",
    "s1.update([4,5,6])\n",
    "s1"
   ]
  },
  {
   "cell_type": "code",
   "execution_count": 115,
   "metadata": {},
   "outputs": [
    {
     "data": {
      "text/plain": [
       "{1, 2, 3, 5, 6}"
      ]
     },
     "execution_count": 115,
     "metadata": {},
     "output_type": "execute_result"
    }
   ],
   "source": [
    "# remove\n",
    "s1.remove(4)\n",
    "s1"
   ]
  },
  {
   "cell_type": "code",
   "execution_count": 116,
   "metadata": {},
   "outputs": [
    {
     "data": {
      "text/plain": [
       "{1}"
      ]
     },
     "execution_count": 116,
     "metadata": {},
     "output_type": "execute_result"
    }
   ],
   "source": [
    "# 여러 요소 제거\n",
    "s1 = {1,2,3,4,5,6}\n",
    "s2 = {2,3,4,5,6,7,8,9,0}\n",
    "s1 = s1 - s2\n",
    "s1"
   ]
  },
  {
   "cell_type": "markdown",
   "metadata": {},
   "source": [
    " \n"
   ]
  },
  {
   "cell_type": "markdown",
   "metadata": {},
   "source": [
    " "
   ]
  },
  {
   "cell_type": "code",
   "execution_count": 118,
   "metadata": {},
   "outputs": [
    {
     "name": "stdout",
     "output_type": "stream",
     "text": [
      "{1, 2, 3, 5}\n"
     ]
    }
   ],
   "source": [
    "a= [1,2,3,1,1,1,5,2,1,1,2,5]\n",
    "print(set(a))"
   ]
  },
  {
   "cell_type": "markdown",
   "metadata": {},
   "source": [
    "### 문자, 튜플, 딕셔너리, 숫자 0, 값이 비어있으면 <font color=\"red\">False</font>를 반환한다."
   ]
  },
  {
   "cell_type": "code",
   "execution_count": 120,
   "metadata": {},
   "outputs": [
    {
     "name": "stdout",
     "output_type": "stream",
     "text": [
      "True\n",
      "False\n"
     ]
    }
   ],
   "source": [
    "print(bool('2'))\n",
    "print(bool(''))"
   ]
  },
  {
   "cell_type": "code",
   "execution_count": 122,
   "metadata": {},
   "outputs": [
    {
     "name": "stdout",
     "output_type": "stream",
     "text": [
      "4\n",
      "3\n",
      "2\n",
      "1\n"
     ]
    }
   ],
   "source": [
    "a = [1,2,3,4]\n",
    "while a:\n",
    "    print(a.pop())"
   ]
  },
  {
   "cell_type": "markdown",
   "metadata": {},
   "source": [
    "## 리스트복사\n",
    "- 복사한 리스트와 주소가 같으면, 값 변경 시 둘 다 변경된다\n",
    "- b=a[:]나 copy library의 copy()를 이용한다"
   ]
  },
  {
   "cell_type": "code",
   "execution_count": 129,
   "metadata": {
    "scrolled": true
   },
   "outputs": [
    {
     "name": "stdout",
     "output_type": "stream",
     "text": [
      "2533817977416\n",
      "2533817977416\n",
      "[1, 2, 99]\n",
      "[1, 2, 99]\n"
     ]
    }
   ],
   "source": [
    "# 단순 대입 -> 복사 실패\n",
    "a=[1,2,3]\n",
    "b=a\n",
    "print(id(a))\n",
    "print(id(b))\n",
    "a[2] = 99\n",
    "print(a)\n",
    "print(b)"
   ]
  },
  {
   "cell_type": "code",
   "execution_count": 130,
   "metadata": {},
   "outputs": [
    {
     "name": "stdout",
     "output_type": "stream",
     "text": [
      "2533818551112\n",
      "2533817776712\n",
      "[1, 2, 99]\n",
      "[1, 2, 3]\n"
     ]
    }
   ],
   "source": [
    "# [:] 복사 -> 복사 성공\n",
    "a = [1,2,3]\n",
    "b = a[:]\n",
    "print(id(a))\n",
    "print(id(b))\n",
    "a[2] = 99\n",
    "print(a)\n",
    "print(b)"
   ]
  },
  {
   "cell_type": "code",
   "execution_count": 134,
   "metadata": {},
   "outputs": [
    {
     "name": "stdout",
     "output_type": "stream",
     "text": [
      "2533818765576\n",
      "2533818767688\n",
      "[1, 2, 99]\n",
      "[1, 2, 3]\n"
     ]
    }
   ],
   "source": [
    "# copy =-> 복사 성공\n",
    "from copy import copy \n",
    "a = [1,2,3]\n",
    "b = copy(a)\n",
    "print(id(a))\n",
    "print(id(b))\n",
    "a[2] = 99\n",
    "print(a)\n",
    "print(b)"
   ]
  },
  {
   "cell_type": "code",
   "execution_count": 158,
   "metadata": {},
   "outputs": [
    {
     "name": "stdout",
     "output_type": "stream",
     "text": [
      "구입 금액을 입력하시오:110000\n",
      "지불 금액은 104500.0입니다.\n"
     ]
    }
   ],
   "source": [
    "m = int(input(\"구입 금액을 입력하시오:\"))\n",
    "if m>100000:\n",
    "    m*=0.95\n",
    "print(f'지불 금액은 {m}입니다.')"
   ]
  },
  {
   "cell_type": "code",
   "execution_count": 159,
   "metadata": {},
   "outputs": [
    {
     "name": "stdout",
     "output_type": "stream",
     "text": [
      "구입 금액을 입력하시오:100000\n",
      "지불 금액은 100000입니다.\n"
     ]
    }
   ],
   "source": [
    "m = int(input(\"구입 금액을 입력하시오:\"))\n",
    "t = m*0.95 if m>100000 else m\n",
    "print(f'지불 금액은 {t}입니다.')"
   ]
  },
  {
   "cell_type": "markdown",
   "metadata": {},
   "source": [
    " "
   ]
  },
  {
   "cell_type": "code",
   "execution_count": 205,
   "metadata": {},
   "outputs": [
    {
     "data": {
      "text/plain": [
       "180"
      ]
     },
     "execution_count": 205,
     "metadata": {},
     "output_type": "execute_result"
    }
   ],
   "source": [
    "adict = {'하이': 300, '헬로': 180}\n",
    "adict.get('헬로') "
   ]
  },
  {
   "cell_type": "code",
   "execution_count": 215,
   "metadata": {},
   "outputs": [
    {
     "name": "stdout",
     "output_type": "stream",
     "text": [
      "aa 10\n",
      "aa 9\n",
      "aa 8\n",
      "aa 5\n"
     ]
    }
   ],
   "source": [
    "a = 10\n",
    "while a>5:\n",
    "    if a==7:\n",
    "        a-=2\n",
    "        print('aa',a)\n",
    "        continue\n",
    "    print('aa',a)\n",
    "    a-=1"
   ]
  },
  {
   "cell_type": "code",
   "execution_count": null,
   "metadata": {},
   "outputs": [],
   "source": []
  },
  {
   "cell_type": "markdown",
   "metadata": {},
   "source": [
    " "
   ]
  },
  {
   "cell_type": "code",
   "execution_count": 225,
   "metadata": {},
   "outputs": [
    {
     "name": "stdout",
     "output_type": "stream",
     "text": [
      "0 1 2 3 4 5 6 7 8 9 \n",
      "0 1 2 3 4 5 6 7 8 9 "
     ]
    }
   ],
   "source": [
    "a = range(10)\n",
    "for i in a:\n",
    "    print(f'{i}',end=' ')\n",
    "print(end='\\n')\n",
    "for i in range(len(a)):\n",
    "    print(i, end=' ')"
   ]
  },
  {
   "cell_type": "code",
   "execution_count": 226,
   "metadata": {},
   "outputs": [
    {
     "name": "stdout",
     "output_type": "stream",
     "text": [
      "w\n"
     ]
    }
   ],
   "source": [
    "print(\"w\",end='\\n')"
   ]
  },
  {
   "cell_type": "code",
   "execution_count": 229,
   "metadata": {},
   "outputs": [
    {
     "name": "stdout",
     "output_type": "stream",
     "text": [
      "0누르면 나가짐: 2\n",
      "2\n",
      "0누르면 나가짐: 4\n",
      "4\n",
      "0누르면 나가짐: 쇼\n",
      "쇼\n",
      "0누르면 나가짐: 0\n"
     ]
    }
   ],
   "source": [
    "while True:\n",
    "    aa = input(\"0누르면 나가짐: \")\n",
    "    if aa == '0':\n",
    "        break;\n",
    "\n",
    "    print(aa)"
   ]
  },
  {
   "cell_type": "code",
   "execution_count": null,
   "metadata": {},
   "outputs": [],
   "source": []
  },
  {
   "cell_type": "code",
   "execution_count": null,
   "metadata": {},
   "outputs": [],
   "source": []
  },
  {
   "cell_type": "code",
   "execution_count": null,
   "metadata": {},
   "outputs": [],
   "source": []
  },
  {
   "cell_type": "code",
   "execution_count": null,
   "metadata": {},
   "outputs": [],
   "source": []
  },
  {
   "cell_type": "markdown",
   "metadata": {},
   "source": [
    " "
   ]
  },
  {
   "cell_type": "markdown",
   "metadata": {},
   "source": [
    "## 연습문제"
   ]
  },
  {
   "cell_type": "code",
   "execution_count": 62,
   "metadata": {},
   "outputs": [
    {
     "name": "stdout",
     "output_type": "stream",
     "text": [
      "{'학번': 1000, '이름': '김새싹', '학과': '컴퓨터학과', '연락처': '01012345678'}\n",
      "{'학번': 1000, '이름': '김새싹', '학과': '전자공학과', '연락처': '01012345678'}\n",
      "전자공학과\n",
      "dict_keys(['학번', '이름', '학과', '연락처'])\n"
     ]
    }
   ],
   "source": [
    "#1번\n",
    "student = {\n",
    "    \"학번\":1000\n",
    "    ,\"이름\":\"김새싹\"\n",
    "    ,\"학과\":\"컴퓨터학과\"\n",
    "}\n",
    "\n",
    "#2번\n",
    "student[\"연락처\"]=\"01012345678\"\n",
    "print(student)\n",
    "#3번\n",
    "student[\"학과\"]=\"전자공학과\"\n",
    "print(student)\n",
    "#4번\n",
    "print(student[\"학과\"])\n",
    "#5번\n",
    "print(student.keys())"
   ]
  },
  {
   "cell_type": "code",
   "execution_count": 75,
   "metadata": {},
   "outputs": [],
   "source": [
    "#6번\n",
    "tuple_my1=(10,20,30)\n",
    "list_my1 = list(tuple_my1)\n",
    "list_my1.append(40)\n",
    "tuple_my1=tuple(list_my1)"
   ]
  },
  {
   "cell_type": "code",
   "execution_count": 76,
   "metadata": {},
   "outputs": [
    {
     "data": {
      "text/plain": [
       "(10, 20, 30, 40)"
      ]
     },
     "execution_count": 76,
     "metadata": {},
     "output_type": "execute_result"
    }
   ],
   "source": [
    "tuple_my1"
   ]
  },
  {
   "cell_type": "code",
   "execution_count": 80,
   "metadata": {},
   "outputs": [
    {
     "name": "stdout",
     "output_type": "stream",
     "text": [
      "(40,)\n",
      "(10, 20, 30, 40)\n"
     ]
    }
   ],
   "source": [
    "t = (10,20,30)\n",
    "t = t+(40,)\n",
    "print(f'{40,}')\n",
    "print(t)"
   ]
  },
  {
   "cell_type": "code",
   "execution_count": 139,
   "metadata": {},
   "outputs": [
    {
     "name": "stdout",
     "output_type": "stream",
     "text": [
      "Tell me your age22\n",
      "22\n",
      "Welcome to the Club.\n",
      "Tell me your age33\n",
      "33\n",
      "Oh! no. you are not accepted.\n"
     ]
    }
   ],
   "source": [
    "# 1번\n",
    "n = 2\n",
    "while n>0: \n",
    "    age = int(input(\"Tell me your age\"))\n",
    "    print(age)\n",
    "\n",
    "    if age < 30:\n",
    "        print(\"Welcome to the Club.\")\n",
    "    else:\n",
    "        print(\"Oh! no. you are not accepted.\")\n",
    "    \n",
    "    n -= 1\n",
    "    "
   ]
  },
  {
   "cell_type": "code",
   "execution_count": 141,
   "metadata": {},
   "outputs": [
    {
     "name": "stdout",
     "output_type": "stream",
     "text": [
      "정수를 입력하세요: 255\n",
      "홀수를 입력했군요\n"
     ]
    }
   ],
   "source": [
    "# 홀수짝수\n",
    "n = int(input(\"정수를 입력하세요: \"))\n",
    "if n%2 == 0:\n",
    "    print(\"짝수를 입력했군요\")\n",
    "else:\n",
    "    print(\"홀수를 입력했군요\")"
   ]
  },
  {
   "cell_type": "markdown",
   "metadata": {},
   "source": [
    "#### coffee.py"
   ]
  },
  {
   "cell_type": "code",
   "execution_count": 203,
   "metadata": {},
   "outputs": [
    {
     "name": "stdout",
     "output_type": "stream",
     "text": [
      "돈을 넣어주세요: 5500\n",
      "거스름돈 5200을 주고 커피를 줍니다.\n",
      "돈을 넣어주세요: 300\n",
      "커피를 줍니다.\n",
      "돈을 넣어주세요: 400\n",
      "거스름돈 100을 주고 커피를 줍니다.\n",
      "커피가 다 떨어졌습니다. 판매 중지\n"
     ]
    }
   ],
   "source": [
    "coffee=3\n",
    "while True:\n",
    "    money = int(input(\"돈을 넣어주세요: \"))\n",
    "    if money == 300:\n",
    "        print(\"커피를 줍니다.\")\n",
    "        coffee -= 1\n",
    "    elif money > 300:\n",
    "        print(f'거스름돈 {money-300}을 주고 커피를 줍니다.')\n",
    "        coffee -= 1\n",
    "    else:\n",
    "        print(\"돈을 다시 돌려주고 커피를 주지 않습니다.\")\n",
    "        print(f'남은 커피의 양은 {coffee}개 입니다.')\n",
    "    if coffee == 0:\n",
    "        print(\"커피가 다 떨어졌습니다. 판매 중지\")\n",
    "        break\n"
   ]
  },
  {
   "cell_type": "markdown",
   "metadata": {},
   "source": [
    "### 학점.py"
   ]
  },
  {
   "cell_type": "code",
   "execution_count": 204,
   "metadata": {},
   "outputs": [
    {
     "name": "stdout",
     "output_type": "stream",
     "text": [
      "점수를 입력하세요:85\n",
      "B+\n"
     ]
    }
   ],
   "source": [
    "score = int(input(\"점수를 입력하세요:\"))\n",
    "t='F'\n",
    "if score >=95:\n",
    "    t='A+'\n",
    "elif score >= 90:\n",
    "    t= 'A0'\n",
    "elif score >= 85:\n",
    "    t= 'B+'\n",
    "elif score >= 80:\n",
    "    t= 'B0'\n",
    "elif score >= 75:\n",
    "    t= 'C+'\n",
    "elif score >= 70:\n",
    "    t= 'C0'\n",
    "elif score >= 65:\n",
    "    t= 'D+'\n",
    "elif score >= 60:\n",
    "    t= 'D0'\n",
    "else: \n",
    "    pass\n",
    "print(t)"
   ]
  },
  {
   "cell_type": "markdown",
   "metadata": {},
   "source": [
    "### 사칙연산"
   ]
  },
  {
   "cell_type": "code",
   "execution_count": 246,
   "metadata": {},
   "outputs": [
    {
     "name": "stdout",
     "output_type": "stream",
     "text": [
      "계산할 첫 번째 수를 입력하세요:33\n",
      "계산할 두 번째 수를 입력하세요:22\n",
      "계산할 연산자를 입력하세요: *\n",
      "33 * 22 = 726\n",
      "계산할 첫 번째 수를 입력하세요:1\n",
      "계산할 두 번째 수를 입력하세요:2\n",
      "계산할 연산자를 입력하세요: +\n",
      "1 + 2 = 3\n"
     ]
    }
   ],
   "source": [
    "n = 2\n",
    "while n>0:\n",
    "    a = input(\"계산할 첫 번째 수를 입력하세요:\")\n",
    "    b = input(\"계산할 두 번째 수를 입력하세요:\")\n",
    "    c = input(\"계산할 연산자를 입력하세요: \")\n",
    "    res = a+c+b\n",
    "    print(f'{a} {c} {b} = {eval(res)}')\n",
    "    n -= 1"
   ]
  },
  {
   "cell_type": "markdown",
   "metadata": {},
   "source": [
    "### 입력값에 따라 출력 실습"
   ]
  },
  {
   "cell_type": "code",
   "execution_count": 241,
   "metadata": {},
   "outputs": [
    {
     "name": "stdout",
     "output_type": "stream",
     "text": [
      "현재 기온을 입력하시오: 24\n",
      "긴바지를 입으세요\n",
      "이제 나가서 운동하세요!\n",
      "현재 기온을 입력하시오: 32\n",
      "반바지를 입으세요.\n",
      "이제 나가서 운동하세요!\n"
     ]
    }
   ],
   "source": [
    "n=2\n",
    "while n>0:\n",
    "    t = int(input(\"현재 기온을 입력하시오: \"))\n",
    "    if t>=30:\n",
    "        print(\"반바지를 입으세요.\")\n",
    "    else:\n",
    "        print(\"긴바지를 입으세요\")\n",
    "    print(\"이제 나가서 운동하세요!\")\n",
    "    n-=1"
   ]
  },
  {
   "cell_type": "markdown",
   "metadata": {},
   "source": [
    "### 월을 입력받아 2월이면 \"월의 날수는 29일\" 4,6,10월이면 월의 날수는 30일 그외는 31일 이라고 출력하세요."
   ]
  },
  {
   "cell_type": "code",
   "execution_count": 243,
   "metadata": {},
   "outputs": [
    {
     "name": "stdout",
     "output_type": "stream",
     "text": [
      "{1: '31일', 2: '29일', 3: '31일', 4: '30일', 5: '31일', 6: '30일', 7: '31일', 8: '31일', 9: '31일', 10: '30일', 11: '31일', 12: '31일'}\n",
      "월을 입력하시오: 10\n",
      "월의 날수는 30일입니다.\n",
      "월을 입력하시오: 2\n",
      "월의 날수는 29일입니다.\n"
     ]
    }
   ],
   "source": [
    "dict_day = dict()\n",
    "for i in range(1,13):\n",
    "    if i == 2:\n",
    "        dict_day[2] = \"29일\"\n",
    "    elif i in (4,6,10):\n",
    "        dict_day[i] = \"30일\"\n",
    "    else:\n",
    "        dict_day[i] = \"31일\"\n",
    "print(dict_day)\n",
    "\n",
    "n=2\n",
    "while n>0:\n",
    "    a = int(input(\"월을 입력하시오: \"))\n",
    "    print(f'월의 날수는 {dict_day[a]}입니다.')\n",
    "    n -= 1\n",
    "        "
   ]
  },
  {
   "cell_type": "markdown",
   "metadata": {},
   "source": [
    "### while 문을 사용하여 구구단 3단을 출력해 보세요"
   ]
  },
  {
   "cell_type": "code",
   "execution_count": 244,
   "metadata": {},
   "outputs": [
    {
     "name": "stdout",
     "output_type": "stream",
     "text": [
      "3 * 1 = 3\n",
      "3 * 2 = 6\n",
      "3 * 3 = 9\n",
      "3 * 4 = 12\n",
      "3 * 5 = 15\n",
      "3 * 6 = 18\n",
      "3 * 7 = 21\n",
      "3 * 8 = 24\n",
      "3 * 9 = 27\n"
     ]
    }
   ],
   "source": [
    "n=1\n",
    "while n<=9:\n",
    "    print(f'3 * {n} = {3*n}')\n",
    "    n+=1"
   ]
  },
  {
   "cell_type": "code",
   "execution_count": null,
   "metadata": {},
   "outputs": [],
   "source": []
  }
 ],
 "metadata": {
  "kernelspec": {
   "display_name": "Python 3",
   "language": "python",
   "name": "python3"
  },
  "language_info": {
   "codemirror_mode": {
    "name": "ipython",
    "version": 3
   },
   "file_extension": ".py",
   "mimetype": "text/x-python",
   "name": "python",
   "nbconvert_exporter": "python",
   "pygments_lexer": "ipython3",
   "version": "3.7.4"
  }
 },
 "nbformat": 4,
 "nbformat_minor": 2
}
