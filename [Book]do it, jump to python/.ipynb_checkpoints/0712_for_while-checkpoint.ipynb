{
 "cells": [
  {
   "cell_type": "markdown",
   "metadata": {},
   "source": [
    "# 반복문"
   ]
  },
  {
   "cell_type": "code",
   "execution_count": 5,
   "metadata": {},
   "outputs": [
    {
     "data": {
      "text/plain": [
       "[0, 1, 2, 3, 4, 5, 6, 7, 8, 9]"
      ]
     },
     "execution_count": 5,
     "metadata": {},
     "output_type": "execute_result"
    }
   ],
   "source": [
    "t = [i for i in range(10)]\n",
    "t"
   ]
  },
  {
   "cell_type": "code",
   "execution_count": 9,
   "metadata": {},
   "outputs": [],
   "source": [
    "contents = [\n",
    "    \"aq\"\n",
    "    ,\"be\"\n",
    "    ,\"cw\"\n",
    "    ,\"dr\"\n",
    "    ,\"et\"\n",
    "    ,\"fy\"\n",
    "    ,\"gu\"\n",
    "    ,\"hi\"\n",
    "    ,\"io\"\n",
    "]"
   ]
  },
  {
   "cell_type": "code",
   "execution_count": 11,
   "metadata": {},
   "outputs": [
    {
     "name": "stdout",
     "output_type": "stream",
     "text": [
      "길이 1 aq\n",
      "길이 1 be\n",
      "길이 1 cw\n",
      "길이 1 dr\n",
      "길이 1 et\n",
      "길이 1 fy\n",
      "길이 1 gu\n",
      "길이 1 hi\n",
      "길이 1 io\n"
     ]
    }
   ],
   "source": [
    "for content in contents:\n",
    "    print(\"길이\",j, end=' ')\n",
    "    for j in range(len(content)):\n",
    "        print(content[j],end='')\n",
    "    print(end='\\n')"
   ]
  },
  {
   "cell_type": "code",
   "execution_count": 13,
   "metadata": {},
   "outputs": [
    {
     "name": "stdout",
     "output_type": "stream",
     "text": [
      "2\n",
      "1\n",
      "0\n",
      "-1\n"
     ]
    }
   ],
   "source": [
    "for i in range(2,-2,-1):\n",
    "    print(i)"
   ]
  },
  {
   "cell_type": "code",
   "execution_count": 15,
   "metadata": {},
   "outputs": [
    {
     "name": "stdout",
     "output_type": "stream",
     "text": [
      "i love Paris!\n",
      "i love London!\n",
      "i love London!\n"
     ]
    }
   ],
   "source": [
    "def f():\n",
    "    global s\n",
    "    s = \"i love London!\"\n",
    "    print(s)\n",
    "s = \"i love Paris!\"\n",
    "print(s)\n",
    "f()\n",
    "print(s)"
   ]
  },
  {
   "cell_type": "code",
   "execution_count": 16,
   "metadata": {},
   "outputs": [
    {
     "name": "stdout",
     "output_type": "stream",
     "text": [
      "187500\n"
     ]
    }
   ],
   "source": [
    "res = 0\n",
    "for i in range(501, 1000, 2):\n",
    "    res += i\n",
    "print(res)"
   ]
  },
  {
   "cell_type": "code",
   "execution_count": 19,
   "metadata": {},
   "outputs": [
    {
     "name": "stdout",
     "output_type": "stream",
     "text": [
      "0 7 14 21 28 35 42 49 56 63 70 77 84 91 98 \n",
      "735\n"
     ]
    }
   ],
   "source": [
    "res = 0\n",
    "for i in range(0, 100,7):\n",
    "    res += i\n",
    "    print(i,end=' ')\n",
    "print(end='\\n')\n",
    "print(res)"
   ]
  },
  {
   "cell_type": "markdown",
   "metadata": {},
   "source": [
    "#### list comprehension 홀수에만 2를 곱하여 저장"
   ]
  },
  {
   "cell_type": "code",
   "execution_count": 28,
   "metadata": {
    "scrolled": true
   },
   "outputs": [
    {
     "name": "stdout",
     "output_type": "stream",
     "text": [
      "<class 'list'>\n"
     ]
    },
    {
     "data": {
      "text/plain": [
       "[2, 6, 10]"
      ]
     },
     "execution_count": 28,
     "metadata": {},
     "output_type": "execute_result"
    }
   ],
   "source": [
    "n = [1,2,3,4,5]\n",
    "result = [2*i for i in n if i%2==1]\n",
    "print(type(result))\n",
    "result\n"
   ]
  },
  {
   "cell_type": "code",
   "execution_count": 33,
   "metadata": {},
   "outputs": [
    {
     "name": "stdout",
     "output_type": "stream",
     "text": [
      "[2, 4, 6, 8, 10, 12, 14, 16, 18, 3, 6, 9, 12, 15, 18, 21, 24, 27, 4, 8, 12, 16, 20, 24, 28, 32, 36, 5, 10, 15, 20, 25, 30, 35, 40, 45, 6, 12, 18, 24, 30, 36, 42, 48, 54, 7, 14, 21, 28, 35, 42, 49, 56, 63, 8, 16, 24, 32, 40, 48, 56, 64, 72, 9, 18, 27, 36, 45, 54, 63, 72, 81]\n"
     ]
    }
   ],
   "source": [
    "res = [i*j for i in range(2,10) \n",
    "               for j in range(1,10)]\n",
    "print(res)"
   ]
  },
  {
   "cell_type": "markdown",
   "metadata": {},
   "source": [
    "#### 이중for문"
   ]
  },
  {
   "cell_type": "code",
   "execution_count": 24,
   "metadata": {},
   "outputs": [
    {
     "name": "stdout",
     "output_type": "stream",
     "text": [
      "1 * 1 = 1\n",
      "1 * 2 = 2\n",
      "1 * 3 = 3\n",
      "1 * 4 = 4\n",
      "1 * 5 = 5\n",
      "2 * 1 = 2\n",
      "2 * 2 = 4\n",
      "2 * 3 = 6\n",
      "2 * 4 = 8\n",
      "2 * 5 = 10\n",
      "3 * 1 = 3\n",
      "3 * 2 = 6\n",
      "3 * 3 = 9\n",
      "3 * 4 = 12\n",
      "3 * 5 = 15\n"
     ]
    }
   ],
   "source": [
    "for i in range(1,4):\n",
    "    for j in range(1,6):\n",
    "        print(f\"{i} * {j} = {i*j}\")\n"
   ]
  },
  {
   "cell_type": "code",
   "execution_count": 32,
   "metadata": {},
   "outputs": [
    {
     "name": "stdout",
     "output_type": "stream",
     "text": [
      "10 20 30 \n",
      "[10, 20, 30]\n",
      "불\n",
      "불\n",
      "불\n",
      "[10, 20, 30]\n"
     ]
    }
   ],
   "source": [
    "score = list(map(int,input().split()))\n",
    "print(score)\n",
    "for i in score:\n",
    "    if i>=90:\n",
    "        print(\"합격\")\n",
    "    else:\n",
    "        print(\"불\")\n",
    "print(score)"
   ]
  },
  {
   "cell_type": "code",
   "execution_count": 38,
   "metadata": {},
   "outputs": [
    {
     "name": "stdout",
     "output_type": "stream",
     "text": [
      "1번째 학생 합격!\n",
      "3번째 학생 합격!\n",
      "5번째 학생 합격!\n"
     ]
    }
   ],
   "source": [
    "marks = [90,25,67,45,80]\n",
    "number = 0 \n",
    "for mark in marks:\n",
    "    number += 1\n",
    "    if mark < 60:\n",
    "        continue\n",
    "    print(f\"{number}번째 학생 합격!\")"
   ]
  },
  {
   "cell_type": "markdown",
   "metadata": {},
   "source": [
    "#### 함수만들기 - 사칙연산 계산기"
   ]
  },
  {
   "cell_type": "code",
   "execution_count": 30,
   "metadata": {},
   "outputs": [
    {
     "name": "stdout",
     "output_type": "stream",
     "text": [
      "숫자입력: 5\n",
      "연산자: -\n",
      "숫자입력: 7\n",
      "-2\n",
      "\n",
      "    Returns make simple calculator function\n",
      "            parameters:\n",
      "                    v1 (int): decimal integer\n",
      "                    v2 (int): decimal integer\n",
      "                    op (str): operator\n",
      "            returns:\n",
      "                    (str): variable operator variable2\n",
      "    \n"
     ]
    }
   ],
   "source": [
    "def calc(v1, v2, op):\n",
    "    '''\n",
    "    Returns make simple calculator function\n",
    "            parameters:\n",
    "                    v1 (int): decimal integer\n",
    "                    v2 (int): decimal integer\n",
    "                    op (str): operator\n",
    "            returns:\n",
    "                    (str): variable operator variable2\n",
    "    '''\n",
    "    if v1 == 0 or v2 == 0:\n",
    "        print(\"0아닌 숫자를 입력해주세요\")\n",
    "        return -1\n",
    "    \n",
    "    if op=='+':\n",
    "        return v1 + v2\n",
    "    elif op=='-':\n",
    "        return v1 - v2\n",
    "    elif op=='x':\n",
    "        return v1 * v2\n",
    "    elif op=='/':\n",
    "        return v1 / v2\n",
    "    else:\n",
    "        print(\"사칙연산자만 입력해주세요\")\n",
    "        return -1\n",
    "\n",
    "v1 = int(input(\"숫자입력: \"))\n",
    "op = input(\"연산자: \")\n",
    "v2 = int(input(\"숫자입력: \"))\n",
    "print(calc(v1,v2,op))\n",
    "\n",
    "print(calc.__doc__)"
   ]
  },
  {
   "cell_type": "markdown",
   "metadata": {},
   "source": [
    "# *args\n",
    "- 입력으로 들어오는 값이 여러개일 수 있습니다. 몇 개가 들어올지 모르니까 *를 사용하자.\n",
    "    - *args처럼 매개변수앞에 *를 붙이면 입력값을 전부 모아서 튜플로 만들어준다."
   ]
  },
  {
   "cell_type": "code",
   "execution_count": 38,
   "metadata": {},
   "outputs": [
    {
     "name": "stdout",
     "output_type": "stream",
     "text": [
      "(1, 2, 3)\n",
      "3\n",
      "3\n"
     ]
    },
    {
     "data": {
      "text/plain": [
       "6"
      ]
     },
     "execution_count": 38,
     "metadata": {},
     "output_type": "execute_result"
    }
   ],
   "source": [
    "def add_many(*args):\n",
    "    print(args)\n",
    "    print(len(args))\n",
    "    print(len(args))\n",
    "    res = 0\n",
    "    for i in args:\n",
    "        res += i\n",
    "    return res\n",
    "    \n",
    "    \n",
    "a = add_many(1,2,3)\n",
    "a"
   ]
  },
  {
   "cell_type": "markdown",
   "metadata": {},
   "source": [
    "## 함수의 결과값은 언제나 하나이다"
   ]
  },
  {
   "cell_type": "code",
   "execution_count": 39,
   "metadata": {},
   "outputs": [
    {
     "data": {
      "text/plain": [
       "(5, 6)"
      ]
     },
     "execution_count": 39,
     "metadata": {},
     "output_type": "execute_result"
    }
   ],
   "source": [
    "def add_and_mul(a,b):\n",
    "    return a+b, a*b\n",
    "res = add_and_mul(2,3)\n",
    "res"
   ]
  },
  {
   "cell_type": "markdown",
   "metadata": {},
   "source": [
    "## Scope variable"
   ]
  },
  {
   "cell_type": "code",
   "execution_count": 55,
   "metadata": {},
   "outputs": [
    {
     "name": "stdout",
     "output_type": "stream",
     "text": [
      "시작 1 140733340098960\n",
      "함수 2 140733340098992\n",
      "끝 1 140733340098960\n"
     ]
    }
   ],
   "source": [
    "a = 1\n",
    "def f(a):\n",
    "    a = a + 1 # 이름은 같지만 메모리르 따로 할당받은 a임.\n",
    "    print(\"함수\",a,id(a)) # 2 140733340098992\n",
    "\n",
    "print(\"시작\",a,id(a)) # 1 140733340098960\n",
    "f(a)\n",
    "print(\"끝\",a,id(a)) # 1 140733340098960"
   ]
  },
  {
   "cell_type": "code",
   "execution_count": 57,
   "metadata": {},
   "outputs": [
    {
     "name": "stdout",
     "output_type": "stream",
     "text": [
      "시작 1 140733340098960\n",
      "140733340098960\n",
      "함수 2 140733340098992\n",
      "끝 2 140733340098992\n"
     ]
    }
   ],
   "source": [
    "a = 1\n",
    "\n",
    "def f():\n",
    "    global a\n",
    "    print(id(a)) # 140733340098960\n",
    "    a = a + 1 # 이름은 같지만 메모리르 따로 할당받은 a임.\n",
    "    print(\"함수\",a,id(a)) # 2 140733340098992\n",
    "\n",
    "print(\"시작\",a,id(a)) # 1 140733340098960\n",
    "f()\n",
    "print(\"끝\",a,id(a)) # 1 140733340098992"
   ]
  },
  {
   "cell_type": "markdown",
   "metadata": {},
   "source": [
    "## 람다식사용"
   ]
  },
  {
   "cell_type": "code",
   "execution_count": 59,
   "metadata": {},
   "outputs": [
    {
     "name": "stdout",
     "output_type": "stream",
     "text": [
      "hello, world\n",
      "7\n",
      "7\n"
     ]
    }
   ],
   "source": [
    "print(\"hello, world\")\n",
    "\n",
    "def add_ab(a, b):\n",
    "    return a+b\n",
    "print(add_ab(3,4))\n",
    "\n",
    "add_bc = lambda b, c: b+c\n",
    "result = add_bc(3,4)\n",
    "print(result)"
   ]
  },
  {
   "cell_type": "markdown",
   "metadata": {},
   "source": [
    "## 연습문제"
   ]
  },
  {
   "cell_type": "markdown",
   "metadata": {},
   "source": [
    "1번. \n",
    "1~200의 숫자를 더해라. (단, 3의배수는 제외)\n",
    "\n",
    "- 연속수의 합 구하는 방법\n",
    "    - 짝수개 일 때, 양끝수의합*연속수개수/2\n",
    "    - 홀수개 일 때, 중간수 * 연속수개수"
   ]
  },
  {
   "cell_type": "code",
   "execution_count": 9,
   "metadata": {},
   "outputs": [
    {
     "name": "stdout",
     "output_type": "stream",
     "text": [
      "총합 13467\n"
     ]
    }
   ],
   "source": [
    "res = 0\n",
    "for i in range(1, 201):\n",
    "    if i%3 == 0:\n",
    "        continue\n",
    "    res += i\n",
    "print(\"총합\",res)"
   ]
  },
  {
   "cell_type": "code",
   "execution_count": 20,
   "metadata": {},
   "outputs": [
    {
     "name": "stdout",
     "output_type": "stream",
     "text": [
      "원소개수: 200\n",
      "13467.0\n"
     ]
    }
   ],
   "source": [
    "a = list(range(1,201))\n",
    "print(\"원소개수:\", len(a))\n",
    "\n",
    "x = (a[0]+a[-1]) * len(a) / 2 # 1~200의합\n",
    "b3 = sum(range(0,200,3)) # 1~200에서 3의배수합\n",
    "print(x - b3)\n"
   ]
  },
  {
   "cell_type": "code",
   "execution_count": 19,
   "metadata": {},
   "outputs": [
    {
     "name": "stdout",
     "output_type": "stream",
     "text": [
      "range(1, 201) 200\n",
      "range(1, 201, 3) 67\n",
      "13400.0\n"
     ]
    }
   ],
   "source": [
    "def sum_sequence_number(x):\n",
    "    total = 0\n",
    "    print(x, len(x))\n",
    "    if len(x) == 1:\n",
    "        return x\n",
    "    \n",
    "    if len(x)%2 == 0: # 짝수\n",
    "        total = (x[0] + x[-1]) * len(x) / 2\n",
    "    else: # 홀수\n",
    "        total = x[int(len(x)/2)] * len(x)\n",
    "    return total\n",
    "\n",
    "a = range(1,201)\n",
    "ans = sum_sequence_number(a) - sum_sequence_number(range(1,201,3))\n",
    "print(ans)"
   ]
  },
  {
   "cell_type": "code",
   "execution_count": 5,
   "metadata": {},
   "outputs": [
    {
     "data": {
      "text/plain": [
       "19900"
      ]
     },
     "execution_count": 5,
     "metadata": {},
     "output_type": "execute_result"
    }
   ],
   "source": [
    "t = 0\n",
    "for i in range(1,200):\n",
    "    t += i\n",
    "t"
   ]
  },
  {
   "cell_type": "markdown",
   "metadata": {},
   "source": [
    " "
   ]
  },
  {
   "cell_type": "markdown",
   "metadata": {},
   "source": [
    "2번. 1~100까지의 합계를 구하려고한다. 최초 합계가 1000을 넘게 하는 숫자를 구하세요."
   ]
  },
  {
   "cell_type": "code",
   "execution_count": 22,
   "metadata": {},
   "outputs": [
    {
     "name": "stdout",
     "output_type": "stream",
     "text": [
      "45 까지 더했을때의 합 1035\n"
     ]
    }
   ],
   "source": [
    "res = 0\n",
    "for i in range(1,101):\n",
    "    res += i \n",
    "    if res > 1000:\n",
    "        print(i,\"까지 더했을때의 합\",res)\n",
    "        break"
   ]
  },
  {
   "cell_type": "markdown",
   "metadata": {},
   "source": [
    " "
   ]
  },
  {
   "cell_type": "markdown",
   "metadata": {},
   "source": [
    "#### list comprehension 성능 확인 함수"
   ]
  },
  {
   "cell_type": "code",
   "execution_count": 21,
   "metadata": {},
   "outputs": [
    {
     "name": "stdout",
     "output_type": "stream",
     "text": [
      "1.0646686000000045\n",
      "1.2632955999999922\n",
      "1.5367696000000706\n"
     ]
    }
   ],
   "source": [
    "import random\n",
    "import timeit\n",
    "TAX_RATE = .08\n",
    "txns = [random.randrange(100) for _ in range(100000)]\n",
    "def get_price(txn):\n",
    "    return txn * (1 + TAX_RATE)\n",
    "def get_prices_with_map():\n",
    "    return list(map(get_price, txns))\n",
    "\n",
    "def get_prices_with_comprehension():\n",
    "    return [get_price(txn) for txn in txns]\n",
    "def get_prices_with_loop():\n",
    "    prices = []\n",
    "    for txn in txns:\n",
    "        prices.append(get_price(txn))\n",
    "    return prices\n",
    "print(timeit.timeit(get_prices_with_map, number=100))\n",
    "# 1.0646686000000045\n",
    "print(timeit.timeit(get_prices_with_comprehension, number=100))\n",
    "# 1.2632955999999922\n",
    "print(timeit.timeit(get_prices_with_loop, number=100))\n",
    "# 1.5367696000000706"
   ]
  },
  {
   "cell_type": "code",
   "execution_count": null,
   "metadata": {},
   "outputs": [],
   "source": []
  },
  {
   "cell_type": "markdown",
   "metadata": {},
   "source": [
    "# 연습문제"
   ]
  },
  {
   "cell_type": "code",
   "execution_count": 93,
   "metadata": {},
   "outputs": [
    {
     "name": "stdout",
     "output_type": "stream",
     "text": [
      "도형을 입력하시오(1:사각형, 2:삼각형, 3:원): 3\n",
      "반지름: 5\n",
      "면적=78.5\n",
      "도형을 입력하시오(1:사각형, 2:삼각형, 3:원): `\n"
     ]
    },
    {
     "ename": "ValueError",
     "evalue": "invalid literal for int() with base 10: '`'",
     "output_type": "error",
     "traceback": [
      "\u001b[1;31m---------------------------------------------------------------------------\u001b[0m",
      "\u001b[1;31mValueError\u001b[0m                                Traceback (most recent call last)",
      "\u001b[1;32m<ipython-input-93-c3727965116b>\u001b[0m in \u001b[0;36m<module>\u001b[1;34m\u001b[0m\n\u001b[0;32m     23\u001b[0m \u001b[1;33m\u001b[0m\u001b[0m\n\u001b[0;32m     24\u001b[0m \u001b[1;32mwhile\u001b[0m \u001b[1;32mTrue\u001b[0m\u001b[1;33m:\u001b[0m\u001b[1;33m\u001b[0m\u001b[1;33m\u001b[0m\u001b[0m\n\u001b[1;32m---> 25\u001b[1;33m     \u001b[0mn\u001b[0m \u001b[1;33m=\u001b[0m \u001b[0mint\u001b[0m\u001b[1;33m(\u001b[0m\u001b[0minput\u001b[0m\u001b[1;33m(\u001b[0m\u001b[1;34m\"도형을 입력하시오(1:사각형, 2:삼각형, 3:원): \"\u001b[0m\u001b[1;33m)\u001b[0m\u001b[1;33m)\u001b[0m\u001b[1;33m\u001b[0m\u001b[1;33m\u001b[0m\u001b[0m\n\u001b[0m\u001b[0;32m     26\u001b[0m     \u001b[0mres\u001b[0m \u001b[1;33m=\u001b[0m \u001b[0midentify_shapes\u001b[0m\u001b[1;33m(\u001b[0m\u001b[0mn\u001b[0m\u001b[1;33m)\u001b[0m\u001b[1;33m\u001b[0m\u001b[1;33m\u001b[0m\u001b[0m\n\u001b[0;32m     27\u001b[0m     \u001b[1;32mif\u001b[0m \u001b[0mres\u001b[0m \u001b[1;33m<\u001b[0m \u001b[1;36m0\u001b[0m\u001b[1;33m:\u001b[0m\u001b[1;33m\u001b[0m\u001b[1;33m\u001b[0m\u001b[0m\n",
      "\u001b[1;31mValueError\u001b[0m: invalid literal for int() with base 10: '`'"
     ]
    }
   ],
   "source": [
    "def identify_shapes(n) -> int:\n",
    "    '''\n",
    "    Return identify shape\n",
    "            parameters\n",
    "                    n (int): decimal Integer\n",
    "            returns\n",
    "                    e (int): decimal Integer\n",
    "    '''\n",
    "    if n == 1:\n",
    "        w = int(input(\"가로: \"))\n",
    "        h = int(input(\"세로: \"))\n",
    "        e = w * h\n",
    "    elif n == 2:\n",
    "        w = int(input(\"가로: \"))\n",
    "        h = int(input(\"세로: \"))\n",
    "        e = w * h / 2\n",
    "    elif n == 3:\n",
    "        r = int(input(\"반지름: \"))\n",
    "        e = r**2 * 3.14\n",
    "    else: # error\n",
    "        e = -1\n",
    "    return e\n",
    "\n",
    "while True:\n",
    "    n = int(input(\"도형을 입력하시오(1:사각형, 2:삼각형, 3:원): \"))\n",
    "    res = identify_shapes(n)\n",
    "    if res < 0:\n",
    "        print(\"error\")\n",
    "        break\n",
    "    else:\n",
    "        print(f\"면적={e}\")"
   ]
  },
  {
   "cell_type": "code",
   "execution_count": 67,
   "metadata": {},
   "outputs": [
    {
     "name": "stdout",
     "output_type": "stream",
     "text": [
      "새싹! 수현\n",
      "새싹! 희정\n",
      "새싹! 정진\n",
      "새싹! 경훈\n"
     ]
    }
   ],
   "source": [
    "arrs = [\"수현\", \"희정\", \"정진\", \"경훈\" ]\n",
    "for arr in arrs:\n",
    "    print(f'새싹! {arr}')"
   ]
  },
  {
   "cell_type": "code",
   "execution_count": 70,
   "metadata": {},
   "outputs": [
    {
     "name": "stdout",
     "output_type": "stream",
     "text": [
      "i like you\n"
     ]
    },
    {
     "data": {
      "text/plain": [
       "'uoy ekil i'"
      ]
     },
     "execution_count": 70,
     "metadata": {},
     "output_type": "execute_result"
    }
   ],
   "source": [
    "res = ''\n",
    "sentence = input()\n",
    "for s in range(len(sentence)-1, -1, -1):\n",
    "    res += sentence[s]\n",
    "res"
   ]
  },
  {
   "cell_type": "code",
   "execution_count": 85,
   "metadata": {},
   "outputs": [
    {
     "data": {
      "text/plain": [
       "55.0"
      ]
     },
     "execution_count": 85,
     "metadata": {},
     "output_type": "execute_result"
    }
   ],
   "source": [
    "def sum1(s, e) -> int:\n",
    "    '''\n",
    "    Return sum of sequence of numbers\n",
    "            parameters\n",
    "                    s (int): decimal Integer\n",
    "                    e (int): decimal Integer\n",
    "            returns\n",
    "                    total (int): decimal Integer\n",
    "    '''\n",
    "    total = 0\n",
    "    length = e - s + 1 # 길이\n",
    "    if length == 0: # 1개\n",
    "        return s\n",
    "    \n",
    "    if length%2 == 0: # 짝수 -> 양끝값의합 * 개수 / 2\n",
    "        total = (s + e) * length / 2\n",
    "    else: # 홀수 -> 중앙값 * 개수\n",
    "        total = (length+1)/2 * length\n",
    "    return total\n",
    "\n",
    "sum1(1,10)\n"
   ]
  },
  {
   "cell_type": "code",
   "execution_count": 87,
   "metadata": {},
   "outputs": [
    {
     "data": {
      "text/plain": [
       "100"
      ]
     },
     "execution_count": 87,
     "metadata": {},
     "output_type": "execute_result"
    }
   ],
   "source": [
    "def exp1(a, b) -> int:\n",
    "    '''\n",
    "    Return exponential function \n",
    "            parameters\n",
    "                    a (int): decimal Integer\n",
    "                    b (int): decimal Integer\n",
    "            returns\n",
    "                    (int): decimal Integer\n",
    "    '''\n",
    "    return a ** b\n",
    "\n",
    "exp1(10,2)"
   ]
  },
  {
   "cell_type": "code",
   "execution_count": 92,
   "metadata": {},
   "outputs": [
    {
     "name": "stdout",
     "output_type": "stream",
     "text": [
      "\n",
      "#1. 뜨거운 물을 준비한다.\n",
      "#2. 종이컵을 준비한다.\n",
      "#3. 카페라떼를 탄다.\n",
      "#4. 물을 붓는다.\n",
      "#5. 스푼으로 젓는다.\n",
      "혜선씨~ 커피 여기 있습니다.\n"
     ]
    }
   ],
   "source": [
    "def coffee_machine(coffee) -> str:\n",
    "    '''\n",
    "    Return what type of coffee do you like\n",
    "            parameters\n",
    "                    coffee (int): decimal Integer\n",
    "            returns\n",
    "                    None\n",
    "    '''\n",
    "    print()\n",
    "    print('#1. 뜨거운 물을 준비한다.')\n",
    "    print('#2. 종이컵을 준비한다.')\n",
    "    \n",
    "    if coffee == 1:\n",
    "        print('#3. 아메리카노를 탄다.')\n",
    "    elif coffee == 2:\n",
    "         print('#3. 카페라떼를 탄다.')\n",
    "    elif coffee == 3:\n",
    "        print('#3. 카푸치노를 탄다.')\n",
    "    elif coffee == 4:\n",
    "        print('#3. 에스프레소를 탄다.') \n",
    "\n",
    "    print('#4. 물을 붓는다.')\n",
    "    print('#5. 스푼으로 젓는다.')\n",
    "\n",
    "n = int(input())\n",
    "coffee_machine(n)\n",
    "\n",
    "print(\"혜선씨~ 커피 여기 있습니다.\")"
   ]
  },
  {
   "cell_type": "code",
   "execution_count": null,
   "metadata": {},
   "outputs": [],
   "source": []
  }
 ],
 "metadata": {
  "kernelspec": {
   "display_name": "Python 3",
   "language": "python",
   "name": "python3"
  },
  "language_info": {
   "codemirror_mode": {
    "name": "ipython",
    "version": 3
   },
   "file_extension": ".py",
   "mimetype": "text/x-python",
   "name": "python",
   "nbconvert_exporter": "python",
   "pygments_lexer": "ipython3",
   "version": "3.7.4"
  }
 },
 "nbformat": 4,
 "nbformat_minor": 2
}
