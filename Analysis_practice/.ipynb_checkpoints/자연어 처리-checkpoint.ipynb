{
 "cells": [
  {
   "cell_type": "markdown",
   "id": "c8876c15",
   "metadata": {},
   "source": [
    "# 자연어처리\n",
    "- 설치 목록\n",
    "    - JDK (Java SE Downloads) 1.7이상\n",
    "        - https://www.oracle.com/java/technologies/downloads/ \n",
    "    - 자바 시스템 변수 설정\n",
    "        - 시스템변수 생성 -> 이름:JAVA_HOME c:\\~~\\jdk-18\n",
    "        - 시스템변수 생성 -> 이름:CLASSPATH %JAVA_HOME%\\lib\n",
    "        - 시스템변수 Path 편집 -> 새로만들기 -> %JAVA_HOME%\\lib\\ \n",
    "        - - 참고 -> https://languagestory.tistory.com/11\n",
    "    - JPype 설치\n",
    "        - https://www.lfd.uci.edu/~gohlke/pythonlibs/#jpype 에서 JPype 1.3.0cp37 ~ 64\n",
    "        - 1) JPype1-1.1.2-cp37-cp37m-win_amd64 를 anaconda3 아래에 복붙\n",
    "        - 2) cd : 아나콘다3경로\n",
    "        - 3) pip install JPype1-1.1.2-cp37-cp37m-win_amd64\n",
    "    - KoNLPy 설치\n",
    "        - 아나콘다3경로에서) python 치고\n",
    "            - import nltk\n",
    "            - nltk.download()\n",
    "            - All Packages누르고 -> stopwords와 punkt 더블클릭해서 다운로드\n",
    "    - 워드클라우드\n",
    "        - pip install wordcloud\n",
    "    - gensim 설치\n",
    "        - pip install gensim\n",
    "\n",
    "*환경변수에 아래 3개 추가\n",
    "- C:\\~\\anaconda3 추가\n",
    "- C:\\~\\anaconda3\\Library 추가\n",
    "- C:\\~\\anaconda3\\Scripts 추가"
   ]
  },
  {
   "cell_type": "markdown",
   "id": "0b6b5fb4",
   "metadata": {},
   "source": [
    "### 자연어란?\n",
    "자연어란 일상 생활 속에서 사용하는 언어를 말한다.\n",
    "\n",
    "### 전처리순서\n",
    "1. 토큰화: 단어분리\n",
    "2. 불용어 제거: 불필요한 단어 삭제\n",
    "3. 어간 추출: 단어 기본 형태 추출\n",
    "4. 문서 표현: 주어진 문장을 하나의 벡터로 표현, 단어들을 모두 인덱싱"
   ]
  },
  {
   "cell_type": "markdown",
   "id": "40aeaf1d",
   "metadata": {},
   "source": [
    "### 1. 한글 자연어 처리 기초 - KoNLPy 및 필요 모듈 설치"
   ]
  },
  {
   "cell_type": "code",
   "execution_count": 3,
   "id": "07968ba9",
   "metadata": {},
   "outputs": [
    {
     "ename": "ModuleNotFoundError",
     "evalue": "No module named 'konlpy'",
     "output_type": "error",
     "traceback": [
      "\u001b[1;31m---------------------------------------------------------------------------\u001b[0m",
      "\u001b[1;31mModuleNotFoundError\u001b[0m                       Traceback (most recent call last)",
      "\u001b[1;32m<ipython-input-3-4c4543b50fe8>\u001b[0m in \u001b[0;36m<module>\u001b[1;34m\u001b[0m\n\u001b[1;32m----> 1\u001b[1;33m \u001b[1;32mfrom\u001b[0m \u001b[0mkonlpy\u001b[0m\u001b[1;33m.\u001b[0m\u001b[0mtag\u001b[0m \u001b[1;32mimport\u001b[0m \u001b[0mKkma\u001b[0m\u001b[1;33m\u001b[0m\u001b[1;33m\u001b[0m\u001b[0m\n\u001b[0m\u001b[0;32m      2\u001b[0m \u001b[0mkkma\u001b[0m \u001b[1;33m=\u001b[0m \u001b[0mKkma\u001b[0m\u001b[1;33m(\u001b[0m\u001b[1;33m)\u001b[0m\u001b[1;33m\u001b[0m\u001b[1;33m\u001b[0m\u001b[0m\n\u001b[0;32m      3\u001b[0m \u001b[0mkkma\u001b[0m\u001b[1;33m.\u001b[0m\u001b[0msentences\u001b[0m\u001b[1;33m(\u001b[0m\u001b[1;34m'한국어 분석을 시작합니다 재미있어요~~'\u001b[0m\u001b[1;33m)\u001b[0m\u001b[1;33m\u001b[0m\u001b[1;33m\u001b[0m\u001b[0m\n\u001b[0;32m      4\u001b[0m \u001b[0mkkma\u001b[0m\u001b[1;33m.\u001b[0m\u001b[0mnouns\u001b[0m\u001b[1;33m(\u001b[0m\u001b[1;34m'한국어 분석을 시작합니다 재미있어요~~'\u001b[0m\u001b[1;33m)\u001b[0m\u001b[1;33m\u001b[0m\u001b[1;33m\u001b[0m\u001b[0m\n\u001b[0;32m      5\u001b[0m \u001b[0mkkma\u001b[0m\u001b[1;33m.\u001b[0m\u001b[0mpos\u001b[0m\u001b[1;33m(\u001b[0m\u001b[1;34m'한국어 분석을 시작합니다 재미있어요~~'\u001b[0m\u001b[1;33m)\u001b[0m\u001b[1;33m\u001b[0m\u001b[1;33m\u001b[0m\u001b[0m\n",
      "\u001b[1;31mModuleNotFoundError\u001b[0m: No module named 'konlpy'"
     ]
    }
   ],
   "source": [
    "from konlpy.tag import Kkma\n",
    "kkma = Kkma()\n",
    "kkma.sentences('한국어 분석을 시작합니다 재미있어요~~')\n",
    "kkma.nouns('한국어 분석을 시작합니다 재미있어요~~')\n",
    "kkma.pos('한국어 분석을 시작합니다 재미있어요~~')"
   ]
  },
  {
   "cell_type": "code",
   "execution_count": 3,
   "id": "09576bff",
   "metadata": {},
   "outputs": [
    {
     "ename": "ModuleNotFoundError",
     "evalue": "No module named 'konlpy'",
     "output_type": "error",
     "traceback": [
      "\u001b[1;31m---------------------------------------------------------------------------\u001b[0m",
      "\u001b[1;31mModuleNotFoundError\u001b[0m                       Traceback (most recent call last)",
      "\u001b[1;32m<ipython-input-3-ec3baf864bd1>\u001b[0m in \u001b[0;36m<module>\u001b[1;34m\u001b[0m\n\u001b[1;32m----> 1\u001b[1;33m \u001b[1;32mfrom\u001b[0m \u001b[0mkonlpy\u001b[0m\u001b[1;33m.\u001b[0m\u001b[0mtag\u001b[0m \u001b[1;32mimport\u001b[0m \u001b[0mHannanum\u001b[0m\u001b[1;33m\u001b[0m\u001b[1;33m\u001b[0m\u001b[0m\n\u001b[0m\u001b[0;32m      2\u001b[0m \u001b[0mhannanum\u001b[0m \u001b[1;33m=\u001b[0m \u001b[0mHannanum\u001b[0m\u001b[1;33m(\u001b[0m\u001b[1;33m)\u001b[0m\u001b[1;33m\u001b[0m\u001b[1;33m\u001b[0m\u001b[0m\n\u001b[0;32m      3\u001b[0m \u001b[0mhannanum\u001b[0m\u001b[1;33m.\u001b[0m\u001b[0mnouns\u001b[0m\u001b[1;33m(\u001b[0m\u001b[1;34m'한국어 분석을 시작합니다 재미있어요~~'\u001b[0m\u001b[1;33m)\u001b[0m\u001b[1;33m\u001b[0m\u001b[1;33m\u001b[0m\u001b[0m\n\u001b[0;32m      4\u001b[0m \u001b[0mhannanum\u001b[0m\u001b[1;33m.\u001b[0m\u001b[0mmorphs\u001b[0m\u001b[1;33m(\u001b[0m\u001b[1;34m'한국어 분석을 시작합니다 재미있어요~~'\u001b[0m\u001b[1;33m)\u001b[0m \u001b[1;31m# 형태소 추출\u001b[0m\u001b[1;33m\u001b[0m\u001b[1;33m\u001b[0m\u001b[0m\n\u001b[0;32m      5\u001b[0m \u001b[0mhannanum\u001b[0m\u001b[1;33m.\u001b[0m\u001b[0mpos\u001b[0m\u001b[1;33m(\u001b[0m\u001b[1;34m'한국어 분석을 시작합니다 재미있어요~~'\u001b[0m\u001b[1;33m)\u001b[0m \u001b[1;31m#\u001b[0m\u001b[1;33m\u001b[0m\u001b[1;33m\u001b[0m\u001b[0m\n",
      "\u001b[1;31mModuleNotFoundError\u001b[0m: No module named 'konlpy'"
     ]
    }
   ],
   "source": [
    "from konlpy.tag import Hannanum\n",
    "hannanum = Hannanum()\n",
    "hannanum.nouns('한국어 분석을 시작합니다 재미있어요~~')\n",
    "hannanum.morphs('한국어 분석을 시작합니다 재미있어요~~') # 형태소 추출\n",
    "hannanum.pos('한국어 분석을 시작합니다 재미있어요~~') #"
   ]
  },
  {
   "cell_type": "code",
   "execution_count": null,
   "id": "93bd1d55",
   "metadata": {},
   "outputs": [],
   "source": [
    "# Twitter -> Okt 로 이름이 바뀜\n",
    "from konlpy.tag import Okt\n",
    "t = Okt()\n",
    "t.nouns('한국어 분석을 시작합니다 재미있어요~~')\n",
    "t.morphs('한국어 분석을 시작합니다 재미있어요~~')\n",
    "t.pos('한국어 분석을 시작합니다 재미있어요~~')"
   ]
  },
  {
   "cell_type": "markdown",
   "id": "7e024fcc",
   "metadata": {},
   "source": [
    "# 2. 워드 크라우드 설치"
   ]
  },
  {
   "cell_type": "code",
   "execution_count": 2,
   "id": "fadfb2ab",
   "metadata": {},
   "outputs": [
    {
     "ename": "ModuleNotFoundError",
     "evalue": "No module named 'wordcloud'",
     "output_type": "error",
     "traceback": [
      "\u001b[1;31m---------------------------------------------------------------------------\u001b[0m",
      "\u001b[1;31mModuleNotFoundError\u001b[0m                       Traceback (most recent call last)",
      "\u001b[1;32m<ipython-input-2-5f2af949151d>\u001b[0m in \u001b[0;36m<module>\u001b[1;34m\u001b[0m\n\u001b[1;32m----> 1\u001b[1;33m \u001b[1;32mfrom\u001b[0m \u001b[0mwordcloud\u001b[0m \u001b[1;32mimport\u001b[0m \u001b[0mWordCloud\u001b[0m\u001b[1;33m,\u001b[0m \u001b[0mSTOPWORDS\u001b[0m\u001b[1;33m\u001b[0m\u001b[1;33m\u001b[0m\u001b[0m\n\u001b[0m\u001b[0;32m      2\u001b[0m \u001b[1;33m\u001b[0m\u001b[0m\n\u001b[0;32m      3\u001b[0m \u001b[1;32mimport\u001b[0m \u001b[0mnumpy\u001b[0m \u001b[1;32mas\u001b[0m \u001b[0mnp\u001b[0m\u001b[1;33m\u001b[0m\u001b[1;33m\u001b[0m\u001b[0m\n\u001b[0;32m      4\u001b[0m \u001b[1;32mfrom\u001b[0m \u001b[0mPIL\u001b[0m \u001b[1;32mimport\u001b[0m \u001b[0mImage\u001b[0m\u001b[1;33m\u001b[0m\u001b[1;33m\u001b[0m\u001b[0m\n",
      "\u001b[1;31mModuleNotFoundError\u001b[0m: No module named 'wordcloud'"
     ]
    }
   ],
   "source": [
    "from wordcloud import WordCloud, STOPWORDS\n",
    "\n",
    "import numpy as np\n",
    "from PIL import Image"
   ]
  },
  {
   "cell_type": "code",
   "execution_count": null,
   "id": "59c35718",
   "metadata": {},
   "outputs": [],
   "source": [
    "text = open('../data/09. alice.txt').read()\n",
    "alice_mask = np.array(Image.open('../data/09. alice_mask.png'))\n",
    "\n",
    "stopwords = set(STOPWORDS)\n",
    "stopwords.add(\"said\") # said는 불용어 처리"
   ]
  },
  {
   "cell_type": "code",
   "execution_count": null,
   "id": "548e1424",
   "metadata": {},
   "outputs": [],
   "source": [
    "%matplotlib inline\n",
    "import matplotlib.pyplot as plt\n",
    "from matplotlib import font_manager, rc\n",
    "plt.rcParams['axes.unicode_minus'] = False\n",
    "f_path = 'C:\\Windows\\Fonts\\malgun.ttf'\n",
    "font_name = font_manager.FontProperties(fname=f_path).get_name()\n",
    "rc('font',family=font_name)\n",
    "\n",
    "plt.figure(figsize=(8,8))\n",
    "plt.imshow(alice_mask, cmap=plt.cm.gray, interpolation='bilinear')\n",
    "plt.axis('off')\n",
    "plt.show()"
   ]
  },
  {
   "cell_type": "code",
   "execution_count": null,
   "id": "18c7a075",
   "metadata": {},
   "outputs": [],
   "source": [
    "# 엘리스라는 문서에서 단어 뽑아옴\n",
    "wc = WordCloud(background_color='white', max_words=2000, mask=alice_mask,\n",
    "              stopwords = stopwords)\n",
    "wc = wc.generate(text)\n",
    "wc.words_"
   ]
  },
  {
   "cell_type": "code",
   "execution_count": null,
   "id": "7c67f14b",
   "metadata": {},
   "outputs": [],
   "source": [
    "plt.figure(figsize=(12,12))\n",
    "plt.imshow(wc, interpolation='bilinear')\n",
    "plt.axis('off')\n",
    "plt.show()"
   ]
  },
  {
   "cell_type": "code",
   "execution_count": null,
   "id": "dec8c73c",
   "metadata": {},
   "outputs": [],
   "source": [
    "text = open('../data/09. a_new_hope.txt').read()\n",
    "\n",
    "text = text.replace('HAN', 'Han')\n",
    "text = text.replace(\"LUKE'S\", 'Luke')\n",
    "\n",
    "mask = np.array(Image.open('../data/09. stormtrooper_mask.png'))"
   ]
  },
  {
   "cell_type": "code",
   "execution_count": null,
   "id": "0c1f3ec0",
   "metadata": {},
   "outputs": [],
   "source": [
    "stopwords = set(STOPWORDS)\n",
    "stopwords.add(\"int\")\n",
    "stopwords.add(\"ext\")\n",
    "\n",
    "wc = WordCloud(max_words=1000, mask=mask, stopwords=stopwords, \n",
    "               margin=10, random_state=1).generate(text)\n",
    "\n",
    "default_colors = wc.to_array()"
   ]
  },
  {
   "cell_type": "code",
   "execution_count": null,
   "id": "ea374c3e",
   "metadata": {},
   "outputs": [],
   "source": [
    "import random\n",
    "def grey_color_func(word, font_size, position, orientation, \n",
    "                    random_state=None, **kwargs):\n",
    "    return 'hsl(0, 0%%, %d%%)' % random.randint(60,100)\n",
    "\n",
    "plt.figure(figsize=(12,12))\n",
    "plt.imshow(wc.recolor(color_func=grey_color_func, random_state=3),\n",
    "          interpolation='bilinear')\n",
    "plt.axis('off')\n",
    "plt.show()"
   ]
  },
  {
   "cell_type": "code",
   "execution_count": null,
   "id": "cde80a13",
   "metadata": {},
   "outputs": [],
   "source": []
  },
  {
   "cell_type": "code",
   "execution_count": null,
   "id": "d1af72b9",
   "metadata": {},
   "outputs": [],
   "source": []
  }
 ],
 "metadata": {
  "kernelspec": {
   "display_name": "Python 3",
   "language": "python",
   "name": "python3"
  },
  "language_info": {
   "codemirror_mode": {
    "name": "ipython",
    "version": 3
   },
   "file_extension": ".py",
   "mimetype": "text/x-python",
   "name": "python",
   "nbconvert_exporter": "python",
   "pygments_lexer": "ipython3",
   "version": "3.6.13"
  }
 },
 "nbformat": 4,
 "nbformat_minor": 5
}
