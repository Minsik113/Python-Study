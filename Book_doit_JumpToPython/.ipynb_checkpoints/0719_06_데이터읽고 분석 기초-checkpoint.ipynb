{
 "cells": [
  {
   "cell_type": "markdown",
   "metadata": {},
   "source": [
    "# 뉴욕 택시 데이터\n",
    "* 13억대의 뉴욕 택시에 대한 정보, 파일 -140개"
   ]
  },
  {
   "cell_type": "code",
   "execution_count": 5,
   "metadata": {},
   "outputs": [
    {
     "name": "stdout",
     "output_type": "stream",
     "text": [
      "['data\\\\fhv_tripdata_2015-01.csv', 'data\\\\fhv_tripdata_2015-02.csv', 'data\\\\fhv_tripdata_2015-03.csv', 'data\\\\fhv_tripdata_2015-04.csv', 'data\\\\fhv_tripdata_2015-05.csv']\n"
     ]
    }
   ],
   "source": [
    "# glob라이브러리를 포함 glob메서드는 특정한 패턴의 이름을 가진 파일을 한번에 읽어 들인다.\n",
    "import glob\n",
    "nyc_taxi_data = glob.glob('data/fhv_*')\n",
    "print(nyc_taxi_data)"
   ]
  },
  {
   "cell_type": "markdown",
   "metadata": {},
   "source": [
    "## 1. 반복문으로 데이터 준비하기"
   ]
  },
  {
   "cell_type": "code",
   "execution_count": 131,
   "metadata": {},
   "outputs": [
    {
     "name": "stdout",
     "output_type": "stream",
     "text": [
      "5\n"
     ]
    }
   ],
   "source": [
    "list_taxi_df = []\n",
    "for csv_filename in nyc_taxi_data:\n",
    "    list_taxi_df.append(pd.read_csv(csv_filename))\n",
    "print(len(list_taxi_df))"
   ]
  },
  {
   "cell_type": "code",
   "execution_count": null,
   "metadata": {},
   "outputs": [],
   "source": [
    "# import pandas as pd\n",
    "# taxi1 = pd.read_csv(nyc_taxi_data[0])\n",
    "# taxi2 = pd.read_csv(nyc_taxi_data[1])\n",
    "# taxi3 = pd.read_csv(nyc_taxi_data[2])\n",
    "# taxi4 = pd.read_csv(nyc_taxi_data[3])\n",
    "# taxi5 = pd.read_csv(nyc_taxi_data[4])\n",
    "# print(taxi1.shape) # (2746033, 3)\n",
    "# print(taxi2.shape) # (3126401, 3)\n",
    "# print(taxi3.shape) # (3281427, 3)\n",
    "# print(taxi4.shape) # (3917789, 3)\n",
    "# print(taxi5.shape) # (4296067, 3)\n",
    "# taxi = pd.concat([taxi1, taxi2, taxi3, taxi4, taxi5])\n",
    "# taxi.shape # (17367717, 3)"
   ]
  },
  {
   "cell_type": "code",
   "execution_count": 13,
   "metadata": {},
   "outputs": [
    {
     "name": "stdout",
     "output_type": "stream",
     "text": [
      "<class 'list'>\n"
     ]
    }
   ],
   "source": [
    "print(type(list_taxi_df))"
   ]
  },
  {
   "cell_type": "code",
   "execution_count": 132,
   "metadata": {},
   "outputs": [
    {
     "name": "stdout",
     "output_type": "stream",
     "text": [
      "        Dispatching_base_num          Pickup_date  locationID\n",
      "0                     B00013  2015-01-01 00:30:00         NaN\n",
      "1                     B00013  2015-01-01 01:22:00         NaN\n",
      "2                     B00013  2015-01-01 01:23:00         NaN\n",
      "3                     B00013  2015-01-01 01:44:00         NaN\n",
      "4                     B00013  2015-01-01 02:00:00         NaN\n",
      "...                      ...                  ...         ...\n",
      "2746028               B02765  2015-01-31 23:59:02       169.0\n",
      "2746029               B02765  2015-01-31 23:59:07        80.0\n",
      "2746030               B02765  2015-01-31 23:59:34       186.0\n",
      "2746031               B02765  2015-01-31 23:59:40       181.0\n",
      "2746032               B02765  2015-01-31 23:59:48        79.0\n",
      "\n",
      "[2746033 rows x 3 columns]\n"
     ]
    }
   ],
   "source": [
    "print(list_taxi_df[0])"
   ]
  },
  {
   "cell_type": "code",
   "execution_count": 130,
   "metadata": {},
   "outputs": [
    {
     "data": {
      "text/plain": [
       "[        Dispatching_base_num          Pickup_date  locationID\n",
       " 0                     B00013  2015-01-01 00:30:00         NaN\n",
       " 1                     B00013  2015-01-01 01:22:00         NaN\n",
       " 2                     B00013  2015-01-01 01:23:00         NaN\n",
       " 3                     B00013  2015-01-01 01:44:00         NaN\n",
       " 4                     B00013  2015-01-01 02:00:00         NaN\n",
       " ...                      ...                  ...         ...\n",
       " 2746028               B02765  2015-01-31 23:59:02       169.0\n",
       " 2746029               B02765  2015-01-31 23:59:07        80.0\n",
       " 2746030               B02765  2015-01-31 23:59:34       186.0\n",
       " 2746031               B02765  2015-01-31 23:59:40       181.0\n",
       " 2746032               B02765  2015-01-31 23:59:48        79.0\n",
       " \n",
       " [2746033 rows x 3 columns],\n",
       "         Dispatching_base_num          Pickup_date  locationID\n",
       " 0                     B00013  2015-02-01 00:00:00         NaN\n",
       " 1                     B00013  2015-02-01 00:01:00         NaN\n",
       " 2                     B00013  2015-02-01 00:21:00         NaN\n",
       " 3                     B00013  2015-02-01 01:00:00         NaN\n",
       " 4                     B00013  2015-02-01 02:10:00         NaN\n",
       " ...                      ...                  ...         ...\n",
       " 3126396               B02765  2015-02-28 23:59:32       230.0\n",
       " 3126397               B02765  2015-02-28 23:59:47       238.0\n",
       " 3126398               B02765  2015-02-28 23:59:48        90.0\n",
       " 3126399               B02765  2015-02-28 23:59:51       141.0\n",
       " 3126400               B02765  2015-02-28 23:59:59        79.0\n",
       " \n",
       " [3126401 rows x 3 columns],\n",
       "         Dispatching_base_num          Pickup_date  locationID\n",
       " 0                     B00029  2015-03-01 00:02:00       213.0\n",
       " 1                     B00029  2015-03-01 00:03:00        51.0\n",
       " 2                     B00029  2015-03-01 00:11:00         3.0\n",
       " 3                     B00029  2015-03-01 00:11:00       259.0\n",
       " 4                     B00029  2015-03-01 00:13:00       174.0\n",
       " ...                      ...                  ...         ...\n",
       " 3281422               B02765  2015-03-31 23:58:00       238.0\n",
       " 3281423               B02765  2015-03-31 23:59:00       132.0\n",
       " 3281424               B02765  2015-03-31 23:59:00        48.0\n",
       " 3281425               B02765  2015-03-31 23:59:00       263.0\n",
       " 3281426               B02765  2015-03-31 23:59:00       138.0\n",
       " \n",
       " [3281427 rows x 3 columns],\n",
       "         Dispatching_base_num          Pickup_date  locationID\n",
       " 0                     B00001  2015-04-01 04:30:00         NaN\n",
       " 1                     B00001  2015-04-01 06:00:00         NaN\n",
       " 2                     B00001  2015-04-01 06:00:00         NaN\n",
       " 3                     B00001  2015-04-01 06:00:00         NaN\n",
       " 4                     B00001  2015-04-01 06:15:00         NaN\n",
       " ...                      ...                  ...         ...\n",
       " 3917784               B02809  2015-04-30 11:57:00         NaN\n",
       " 3917785               B02809  2015-04-30 13:30:00         NaN\n",
       " 3917786               B02809  2015-04-30 14:00:00         NaN\n",
       " 3917787               B02809  2015-04-30 14:00:00         NaN\n",
       " 3917788               B02809  2015-04-30 15:37:00         NaN\n",
       " \n",
       " [3917789 rows x 3 columns],\n",
       "         Dispatching_base_num          Pickup_date  locationID\n",
       " 0                     B00001  2015-05-01 04:30:00         NaN\n",
       " 1                     B00001  2015-05-01 05:00:00         NaN\n",
       " 2                     B00001  2015-05-01 05:05:00         NaN\n",
       " 3                     B00001  2015-05-01 06:15:00         NaN\n",
       " 4                     B00001  2015-05-01 06:15:00         NaN\n",
       " ...                      ...                  ...         ...\n",
       " 4296062               B02821  2015-05-31 14:00:00         NaN\n",
       " 4296063               B02821  2015-05-31 14:32:00         NaN\n",
       " 4296064               B02821  2015-05-31 14:45:00         NaN\n",
       " 4296065               B02821  2015-05-31 17:44:00         NaN\n",
       " 4296066               B02821  2015-05-31 18:13:00         NaN\n",
       " \n",
       " [4296067 rows x 3 columns]]"
      ]
     },
     "execution_count": 130,
     "metadata": {},
     "output_type": "execute_result"
    }
   ],
   "source": [
    "list_taxi_df"
   ]
  },
  {
   "cell_type": "code",
   "execution_count": 17,
   "metadata": {},
   "outputs": [
    {
     "name": "stdout",
     "output_type": "stream",
     "text": [
      "(17367717, 3)\n"
     ]
    }
   ],
   "source": [
    "taxi_loop_concat = pd.concat(list_taxi_df)\n",
    "print(taxi_loop_concat.shape)"
   ]
  },
  {
   "cell_type": "code",
   "execution_count": 19,
   "metadata": {},
   "outputs": [
    {
     "data": {
      "text/plain": [
       "True"
      ]
     },
     "execution_count": 19,
     "metadata": {},
     "output_type": "execute_result"
    }
   ],
   "source": [
    "# 동일한지 확인\n",
    "taxi.equals(taxi_loop_concat)"
   ]
  },
  {
   "cell_type": "markdown",
   "metadata": {},
   "source": [
    " "
   ]
  },
  {
   "cell_type": "markdown",
   "metadata": {},
   "source": [
    " "
   ]
  },
  {
   "cell_type": "markdown",
   "metadata": {},
   "source": [
    " "
   ]
  },
  {
   "cell_type": "markdown",
   "metadata": {},
   "source": [
    "# 서울시 청소년 정신건강 분석"
   ]
  },
  {
   "cell_type": "code",
   "execution_count": 20,
   "metadata": {},
   "outputs": [
    {
     "data": {
      "text/plain": [
       "DatetimeIndex(['2019-03-01', '2019-03-02', '2019-03-03', '2019-03-04',\n",
       "               '2019-03-05', '2019-03-06'],\n",
       "              dtype='datetime64[ns]', freq='D')"
      ]
     },
     "execution_count": 20,
     "metadata": {},
     "output_type": "execute_result"
    }
   ],
   "source": [
    "import pandas as pd\n",
    "dates = pd.date_range('20190301',periods=6) # 20190301부터 6일간\n",
    "dates"
   ]
  },
  {
   "cell_type": "code",
   "execution_count": 27,
   "metadata": {},
   "outputs": [
    {
     "data": {
      "text/html": [
       "<div>\n",
       "<style scoped>\n",
       "    .dataframe tbody tr th:only-of-type {\n",
       "        vertical-align: middle;\n",
       "    }\n",
       "\n",
       "    .dataframe tbody tr th {\n",
       "        vertical-align: top;\n",
       "    }\n",
       "\n",
       "    .dataframe thead th {\n",
       "        text-align: right;\n",
       "    }\n",
       "</style>\n",
       "<table border=\"1\" class=\"dataframe\">\n",
       "  <thead>\n",
       "    <tr style=\"text-align: right;\">\n",
       "      <th></th>\n",
       "      <th>A</th>\n",
       "      <th>B</th>\n",
       "      <th>C</th>\n",
       "      <th>D</th>\n",
       "    </tr>\n",
       "  </thead>\n",
       "  <tbody>\n",
       "    <tr>\n",
       "      <td>2019-03-01</td>\n",
       "      <td>-0.756285</td>\n",
       "      <td>0.034962</td>\n",
       "      <td>0.329233</td>\n",
       "      <td>0.584894</td>\n",
       "    </tr>\n",
       "    <tr>\n",
       "      <td>2019-03-02</td>\n",
       "      <td>0.437866</td>\n",
       "      <td>1.321183</td>\n",
       "      <td>1.913787</td>\n",
       "      <td>-0.610200</td>\n",
       "    </tr>\n",
       "    <tr>\n",
       "      <td>2019-03-03</td>\n",
       "      <td>3.212804</td>\n",
       "      <td>0.412083</td>\n",
       "      <td>0.745982</td>\n",
       "      <td>0.024917</td>\n",
       "    </tr>\n",
       "    <tr>\n",
       "      <td>2019-03-04</td>\n",
       "      <td>-1.147578</td>\n",
       "      <td>0.372523</td>\n",
       "      <td>0.093884</td>\n",
       "      <td>-0.013438</td>\n",
       "    </tr>\n",
       "    <tr>\n",
       "      <td>2019-03-05</td>\n",
       "      <td>-0.816782</td>\n",
       "      <td>-0.043410</td>\n",
       "      <td>-1.740176</td>\n",
       "      <td>0.692146</td>\n",
       "    </tr>\n",
       "    <tr>\n",
       "      <td>2019-03-06</td>\n",
       "      <td>0.950451</td>\n",
       "      <td>-0.008295</td>\n",
       "      <td>1.048503</td>\n",
       "      <td>-0.330472</td>\n",
       "    </tr>\n",
       "  </tbody>\n",
       "</table>\n",
       "</div>"
      ],
      "text/plain": [
       "                   A         B         C         D\n",
       "2019-03-01 -0.756285  0.034962  0.329233  0.584894\n",
       "2019-03-02  0.437866  1.321183  1.913787 -0.610200\n",
       "2019-03-03  3.212804  0.412083  0.745982  0.024917\n",
       "2019-03-04 -1.147578  0.372523  0.093884 -0.013438\n",
       "2019-03-05 -0.816782 -0.043410 -1.740176  0.692146\n",
       "2019-03-06  0.950451 -0.008295  1.048503 -0.330472"
      ]
     },
     "execution_count": 27,
     "metadata": {},
     "output_type": "execute_result"
    }
   ],
   "source": [
    "import numpy as np\n",
    "import random\n",
    "# 6행4열\n",
    "df = pd.DataFrame(np.random.randn(6,4) \n",
    "                 ,index=dates\n",
    "                  ,columns=['A','B','C','D'])\n",
    "df"
   ]
  },
  {
   "cell_type": "code",
   "execution_count": 28,
   "metadata": {},
   "outputs": [
    {
     "data": {
      "text/plain": [
       "Index(['A', 'B', 'C', 'D'], dtype='object')"
      ]
     },
     "execution_count": 28,
     "metadata": {},
     "output_type": "execute_result"
    }
   ],
   "source": [
    "df.columns"
   ]
  },
  {
   "cell_type": "code",
   "execution_count": 29,
   "metadata": {},
   "outputs": [
    {
     "data": {
      "text/plain": [
       "DatetimeIndex(['2019-03-01', '2019-03-02', '2019-03-03', '2019-03-04',\n",
       "               '2019-03-05', '2019-03-06'],\n",
       "              dtype='datetime64[ns]', freq='D')"
      ]
     },
     "execution_count": 29,
     "metadata": {},
     "output_type": "execute_result"
    }
   ],
   "source": [
    "df.index"
   ]
  },
  {
   "cell_type": "markdown",
   "metadata": {},
   "source": [
    "#### 정렬 기능 등의 기초 활용 함수"
   ]
  },
  {
   "cell_type": "code",
   "execution_count": 30,
   "metadata": {},
   "outputs": [
    {
     "data": {
      "text/html": [
       "<div>\n",
       "<style scoped>\n",
       "    .dataframe tbody tr th:only-of-type {\n",
       "        vertical-align: middle;\n",
       "    }\n",
       "\n",
       "    .dataframe tbody tr th {\n",
       "        vertical-align: top;\n",
       "    }\n",
       "\n",
       "    .dataframe thead th {\n",
       "        text-align: right;\n",
       "    }\n",
       "</style>\n",
       "<table border=\"1\" class=\"dataframe\">\n",
       "  <thead>\n",
       "    <tr style=\"text-align: right;\">\n",
       "      <th></th>\n",
       "      <th>A</th>\n",
       "      <th>B</th>\n",
       "      <th>C</th>\n",
       "      <th>D</th>\n",
       "    </tr>\n",
       "  </thead>\n",
       "  <tbody>\n",
       "    <tr>\n",
       "      <td>count</td>\n",
       "      <td>6.000000</td>\n",
       "      <td>6.000000</td>\n",
       "      <td>6.000000</td>\n",
       "      <td>6.000000</td>\n",
       "    </tr>\n",
       "    <tr>\n",
       "      <td>mean</td>\n",
       "      <td>0.313413</td>\n",
       "      <td>0.348175</td>\n",
       "      <td>0.398536</td>\n",
       "      <td>0.057974</td>\n",
       "    </tr>\n",
       "    <tr>\n",
       "      <td>std</td>\n",
       "      <td>1.636085</td>\n",
       "      <td>0.515739</td>\n",
       "      <td>1.225632</td>\n",
       "      <td>0.506627</td>\n",
       "    </tr>\n",
       "    <tr>\n",
       "      <td>min</td>\n",
       "      <td>-1.147578</td>\n",
       "      <td>-0.043410</td>\n",
       "      <td>-1.740176</td>\n",
       "      <td>-0.610200</td>\n",
       "    </tr>\n",
       "    <tr>\n",
       "      <td>25%</td>\n",
       "      <td>-0.801658</td>\n",
       "      <td>0.002519</td>\n",
       "      <td>0.152721</td>\n",
       "      <td>-0.251213</td>\n",
       "    </tr>\n",
       "    <tr>\n",
       "      <td>50%</td>\n",
       "      <td>-0.159210</td>\n",
       "      <td>0.203743</td>\n",
       "      <td>0.537608</td>\n",
       "      <td>0.005740</td>\n",
       "    </tr>\n",
       "    <tr>\n",
       "      <td>75%</td>\n",
       "      <td>0.822305</td>\n",
       "      <td>0.402193</td>\n",
       "      <td>0.972873</td>\n",
       "      <td>0.444899</td>\n",
       "    </tr>\n",
       "    <tr>\n",
       "      <td>max</td>\n",
       "      <td>3.212804</td>\n",
       "      <td>1.321183</td>\n",
       "      <td>1.913787</td>\n",
       "      <td>0.692146</td>\n",
       "    </tr>\n",
       "  </tbody>\n",
       "</table>\n",
       "</div>"
      ],
      "text/plain": [
       "              A         B         C         D\n",
       "count  6.000000  6.000000  6.000000  6.000000\n",
       "mean   0.313413  0.348175  0.398536  0.057974\n",
       "std    1.636085  0.515739  1.225632  0.506627\n",
       "min   -1.147578 -0.043410 -1.740176 -0.610200\n",
       "25%   -0.801658  0.002519  0.152721 -0.251213\n",
       "50%   -0.159210  0.203743  0.537608  0.005740\n",
       "75%    0.822305  0.402193  0.972873  0.444899\n",
       "max    3.212804  1.321183  1.913787  0.692146"
      ]
     },
     "execution_count": 30,
     "metadata": {},
     "output_type": "execute_result"
    }
   ],
   "source": [
    "df.describe()"
   ]
  },
  {
   "cell_type": "markdown",
   "metadata": {},
   "source": [
    " "
   ]
  },
  {
   "cell_type": "code",
   "execution_count": 31,
   "metadata": {},
   "outputs": [
    {
     "data": {
      "text/html": [
       "<div>\n",
       "<style scoped>\n",
       "    .dataframe tbody tr th:only-of-type {\n",
       "        vertical-align: middle;\n",
       "    }\n",
       "\n",
       "    .dataframe tbody tr th {\n",
       "        vertical-align: top;\n",
       "    }\n",
       "\n",
       "    .dataframe thead th {\n",
       "        text-align: right;\n",
       "    }\n",
       "</style>\n",
       "<table border=\"1\" class=\"dataframe\">\n",
       "  <thead>\n",
       "    <tr style=\"text-align: right;\">\n",
       "      <th></th>\n",
       "      <th>A</th>\n",
       "      <th>B</th>\n",
       "      <th>C</th>\n",
       "      <th>D</th>\n",
       "    </tr>\n",
       "  </thead>\n",
       "  <tbody>\n",
       "    <tr>\n",
       "      <td>2019-03-01</td>\n",
       "      <td>-0.756285</td>\n",
       "      <td>0.034962</td>\n",
       "      <td>0.329233</td>\n",
       "      <td>0.584894</td>\n",
       "    </tr>\n",
       "    <tr>\n",
       "      <td>2019-03-02</td>\n",
       "      <td>0.437866</td>\n",
       "      <td>1.321183</td>\n",
       "      <td>1.913787</td>\n",
       "      <td>-0.610200</td>\n",
       "    </tr>\n",
       "    <tr>\n",
       "      <td>2019-03-03</td>\n",
       "      <td>3.212804</td>\n",
       "      <td>0.412083</td>\n",
       "      <td>0.745982</td>\n",
       "      <td>0.024917</td>\n",
       "    </tr>\n",
       "    <tr>\n",
       "      <td>2019-03-04</td>\n",
       "      <td>-1.147578</td>\n",
       "      <td>0.372523</td>\n",
       "      <td>0.093884</td>\n",
       "      <td>-0.013438</td>\n",
       "    </tr>\n",
       "    <tr>\n",
       "      <td>2019-03-05</td>\n",
       "      <td>-0.816782</td>\n",
       "      <td>-0.043410</td>\n",
       "      <td>-1.740176</td>\n",
       "      <td>0.692146</td>\n",
       "    </tr>\n",
       "    <tr>\n",
       "      <td>2019-03-06</td>\n",
       "      <td>0.950451</td>\n",
       "      <td>-0.008295</td>\n",
       "      <td>1.048503</td>\n",
       "      <td>-0.330472</td>\n",
       "    </tr>\n",
       "  </tbody>\n",
       "</table>\n",
       "</div>"
      ],
      "text/plain": [
       "                   A         B         C         D\n",
       "2019-03-01 -0.756285  0.034962  0.329233  0.584894\n",
       "2019-03-02  0.437866  1.321183  1.913787 -0.610200\n",
       "2019-03-03  3.212804  0.412083  0.745982  0.024917\n",
       "2019-03-04 -1.147578  0.372523  0.093884 -0.013438\n",
       "2019-03-05 -0.816782 -0.043410 -1.740176  0.692146\n",
       "2019-03-06  0.950451 -0.008295  1.048503 -0.330472"
      ]
     },
     "execution_count": 31,
     "metadata": {},
     "output_type": "execute_result"
    }
   ],
   "source": [
    "df"
   ]
  },
  {
   "cell_type": "code",
   "execution_count": 32,
   "metadata": {},
   "outputs": [
    {
     "data": {
      "text/html": [
       "<div>\n",
       "<style scoped>\n",
       "    .dataframe tbody tr th:only-of-type {\n",
       "        vertical-align: middle;\n",
       "    }\n",
       "\n",
       "    .dataframe tbody tr th {\n",
       "        vertical-align: top;\n",
       "    }\n",
       "\n",
       "    .dataframe thead th {\n",
       "        text-align: right;\n",
       "    }\n",
       "</style>\n",
       "<table border=\"1\" class=\"dataframe\">\n",
       "  <thead>\n",
       "    <tr style=\"text-align: right;\">\n",
       "      <th></th>\n",
       "      <th>A</th>\n",
       "      <th>B</th>\n",
       "      <th>C</th>\n",
       "      <th>D</th>\n",
       "    </tr>\n",
       "  </thead>\n",
       "  <tbody>\n",
       "    <tr>\n",
       "      <td>2019-03-04</td>\n",
       "      <td>-1.147578</td>\n",
       "      <td>0.372523</td>\n",
       "      <td>0.093884</td>\n",
       "      <td>-0.013438</td>\n",
       "    </tr>\n",
       "    <tr>\n",
       "      <td>2019-03-05</td>\n",
       "      <td>-0.816782</td>\n",
       "      <td>-0.043410</td>\n",
       "      <td>-1.740176</td>\n",
       "      <td>0.692146</td>\n",
       "    </tr>\n",
       "    <tr>\n",
       "      <td>2019-03-01</td>\n",
       "      <td>-0.756285</td>\n",
       "      <td>0.034962</td>\n",
       "      <td>0.329233</td>\n",
       "      <td>0.584894</td>\n",
       "    </tr>\n",
       "    <tr>\n",
       "      <td>2019-03-02</td>\n",
       "      <td>0.437866</td>\n",
       "      <td>1.321183</td>\n",
       "      <td>1.913787</td>\n",
       "      <td>-0.610200</td>\n",
       "    </tr>\n",
       "    <tr>\n",
       "      <td>2019-03-06</td>\n",
       "      <td>0.950451</td>\n",
       "      <td>-0.008295</td>\n",
       "      <td>1.048503</td>\n",
       "      <td>-0.330472</td>\n",
       "    </tr>\n",
       "    <tr>\n",
       "      <td>2019-03-03</td>\n",
       "      <td>3.212804</td>\n",
       "      <td>0.412083</td>\n",
       "      <td>0.745982</td>\n",
       "      <td>0.024917</td>\n",
       "    </tr>\n",
       "  </tbody>\n",
       "</table>\n",
       "</div>"
      ],
      "text/plain": [
       "                   A         B         C         D\n",
       "2019-03-04 -1.147578  0.372523  0.093884 -0.013438\n",
       "2019-03-05 -0.816782 -0.043410 -1.740176  0.692146\n",
       "2019-03-01 -0.756285  0.034962  0.329233  0.584894\n",
       "2019-03-02  0.437866  1.321183  1.913787 -0.610200\n",
       "2019-03-06  0.950451 -0.008295  1.048503 -0.330472\n",
       "2019-03-03  3.212804  0.412083  0.745982  0.024917"
      ]
     },
     "execution_count": 32,
     "metadata": {},
     "output_type": "execute_result"
    }
   ],
   "source": [
    "# 'A'열을 오름차순정렬\n",
    "df.sort_values(by='A')"
   ]
  },
  {
   "cell_type": "code",
   "execution_count": 33,
   "metadata": {},
   "outputs": [
    {
     "data": {
      "text/html": [
       "<div>\n",
       "<style scoped>\n",
       "    .dataframe tbody tr th:only-of-type {\n",
       "        vertical-align: middle;\n",
       "    }\n",
       "\n",
       "    .dataframe tbody tr th {\n",
       "        vertical-align: top;\n",
       "    }\n",
       "\n",
       "    .dataframe thead th {\n",
       "        text-align: right;\n",
       "    }\n",
       "</style>\n",
       "<table border=\"1\" class=\"dataframe\">\n",
       "  <thead>\n",
       "    <tr style=\"text-align: right;\">\n",
       "      <th></th>\n",
       "      <th>A</th>\n",
       "      <th>B</th>\n",
       "      <th>C</th>\n",
       "      <th>D</th>\n",
       "    </tr>\n",
       "  </thead>\n",
       "  <tbody>\n",
       "    <tr>\n",
       "      <td>2019-03-03</td>\n",
       "      <td>3.212804</td>\n",
       "      <td>0.412083</td>\n",
       "      <td>0.745982</td>\n",
       "      <td>0.024917</td>\n",
       "    </tr>\n",
       "    <tr>\n",
       "      <td>2019-03-06</td>\n",
       "      <td>0.950451</td>\n",
       "      <td>-0.008295</td>\n",
       "      <td>1.048503</td>\n",
       "      <td>-0.330472</td>\n",
       "    </tr>\n",
       "    <tr>\n",
       "      <td>2019-03-02</td>\n",
       "      <td>0.437866</td>\n",
       "      <td>1.321183</td>\n",
       "      <td>1.913787</td>\n",
       "      <td>-0.610200</td>\n",
       "    </tr>\n",
       "    <tr>\n",
       "      <td>2019-03-01</td>\n",
       "      <td>-0.756285</td>\n",
       "      <td>0.034962</td>\n",
       "      <td>0.329233</td>\n",
       "      <td>0.584894</td>\n",
       "    </tr>\n",
       "    <tr>\n",
       "      <td>2019-03-05</td>\n",
       "      <td>-0.816782</td>\n",
       "      <td>-0.043410</td>\n",
       "      <td>-1.740176</td>\n",
       "      <td>0.692146</td>\n",
       "    </tr>\n",
       "    <tr>\n",
       "      <td>2019-03-04</td>\n",
       "      <td>-1.147578</td>\n",
       "      <td>0.372523</td>\n",
       "      <td>0.093884</td>\n",
       "      <td>-0.013438</td>\n",
       "    </tr>\n",
       "  </tbody>\n",
       "</table>\n",
       "</div>"
      ],
      "text/plain": [
       "                   A         B         C         D\n",
       "2019-03-03  3.212804  0.412083  0.745982  0.024917\n",
       "2019-03-06  0.950451 -0.008295  1.048503 -0.330472\n",
       "2019-03-02  0.437866  1.321183  1.913787 -0.610200\n",
       "2019-03-01 -0.756285  0.034962  0.329233  0.584894\n",
       "2019-03-05 -0.816782 -0.043410 -1.740176  0.692146\n",
       "2019-03-04 -1.147578  0.372523  0.093884 -0.013438"
      ]
     },
     "execution_count": 33,
     "metadata": {},
     "output_type": "execute_result"
    }
   ],
   "source": [
    "# 'A'열을 내림차순정렬\n",
    "df.sort_values(by='A', ascending=False)"
   ]
  },
  {
   "cell_type": "code",
   "execution_count": 57,
   "metadata": {},
   "outputs": [
    {
     "data": {
      "text/html": [
       "<div>\n",
       "<style scoped>\n",
       "    .dataframe tbody tr th:only-of-type {\n",
       "        vertical-align: middle;\n",
       "    }\n",
       "\n",
       "    .dataframe tbody tr th {\n",
       "        vertical-align: top;\n",
       "    }\n",
       "\n",
       "    .dataframe thead th {\n",
       "        text-align: right;\n",
       "    }\n",
       "</style>\n",
       "<table border=\"1\" class=\"dataframe\">\n",
       "  <thead>\n",
       "    <tr style=\"text-align: right;\">\n",
       "      <th></th>\n",
       "      <th>B</th>\n",
       "      <th>C</th>\n",
       "      <th>D</th>\n",
       "    </tr>\n",
       "  </thead>\n",
       "  <tbody>\n",
       "    <tr>\n",
       "      <td>2019-03-01</td>\n",
       "      <td>0.034962</td>\n",
       "      <td>0.329233</td>\n",
       "      <td>0.584894</td>\n",
       "    </tr>\n",
       "    <tr>\n",
       "      <td>2019-03-02</td>\n",
       "      <td>1.321183</td>\n",
       "      <td>1.913787</td>\n",
       "      <td>-0.610200</td>\n",
       "    </tr>\n",
       "    <tr>\n",
       "      <td>2019-03-03</td>\n",
       "      <td>0.412083</td>\n",
       "      <td>0.745982</td>\n",
       "      <td>0.024917</td>\n",
       "    </tr>\n",
       "    <tr>\n",
       "      <td>2019-03-04</td>\n",
       "      <td>0.372523</td>\n",
       "      <td>0.093884</td>\n",
       "      <td>-0.013438</td>\n",
       "    </tr>\n",
       "  </tbody>\n",
       "</table>\n",
       "</div>"
      ],
      "text/plain": [
       "                   B         C         D\n",
       "2019-03-01  0.034962  0.329233  0.584894\n",
       "2019-03-02  1.321183  1.913787 -0.610200\n",
       "2019-03-03  0.412083  0.745982  0.024917\n",
       "2019-03-04  0.372523  0.093884 -0.013438"
      ]
     },
     "execution_count": 57,
     "metadata": {},
     "output_type": "execute_result"
    }
   ],
   "source": [
    "df.loc['2019-03-01':'2019-03-04','B':]"
   ]
  },
  {
   "cell_type": "code",
   "execution_count": 44,
   "metadata": {},
   "outputs": [
    {
     "data": {
      "text/plain": [
       "A   -0.756285\n",
       "B    0.034962\n",
       "C    0.329233\n",
       "D    0.584894\n",
       "Name: 2019-03-01 00:00:00, dtype: float64"
      ]
     },
     "execution_count": 44,
     "metadata": {},
     "output_type": "execute_result"
    }
   ],
   "source": [
    "df.iloc[0]"
   ]
  },
  {
   "cell_type": "code",
   "execution_count": 48,
   "metadata": {},
   "outputs": [
    {
     "data": {
      "text/plain": [
       "A   -0.756285\n",
       "B    0.034962\n",
       "C    0.329233\n",
       "D    0.584894\n",
       "Name: 2019-03-01 00:00:00, dtype: float64"
      ]
     },
     "execution_count": 48,
     "metadata": {},
     "output_type": "execute_result"
    }
   ],
   "source": [
    "df.loc['2019-03-01']"
   ]
  },
  {
   "cell_type": "code",
   "execution_count": null,
   "metadata": {},
   "outputs": [],
   "source": []
  },
  {
   "cell_type": "code",
   "execution_count": 51,
   "metadata": {},
   "outputs": [
    {
     "data": {
      "text/html": [
       "<div>\n",
       "<style scoped>\n",
       "    .dataframe tbody tr th:only-of-type {\n",
       "        vertical-align: middle;\n",
       "    }\n",
       "\n",
       "    .dataframe tbody tr th {\n",
       "        vertical-align: top;\n",
       "    }\n",
       "\n",
       "    .dataframe thead th {\n",
       "        text-align: right;\n",
       "    }\n",
       "</style>\n",
       "<table border=\"1\" class=\"dataframe\">\n",
       "  <thead>\n",
       "    <tr style=\"text-align: right;\">\n",
       "      <th></th>\n",
       "      <th>A</th>\n",
       "      <th>C</th>\n",
       "      <th>D</th>\n",
       "      <th>B</th>\n",
       "    </tr>\n",
       "  </thead>\n",
       "  <tbody>\n",
       "    <tr>\n",
       "      <td>2019-03-01</td>\n",
       "      <td>-0.756285</td>\n",
       "      <td>0.329233</td>\n",
       "      <td>0.584894</td>\n",
       "      <td>0.034962</td>\n",
       "    </tr>\n",
       "    <tr>\n",
       "      <td>2019-03-02</td>\n",
       "      <td>0.437866</td>\n",
       "      <td>1.913787</td>\n",
       "      <td>-0.610200</td>\n",
       "      <td>1.321183</td>\n",
       "    </tr>\n",
       "    <tr>\n",
       "      <td>2019-03-03</td>\n",
       "      <td>3.212804</td>\n",
       "      <td>0.745982</td>\n",
       "      <td>0.024917</td>\n",
       "      <td>0.412083</td>\n",
       "    </tr>\n",
       "    <tr>\n",
       "      <td>2019-03-04</td>\n",
       "      <td>-1.147578</td>\n",
       "      <td>0.093884</td>\n",
       "      <td>-0.013438</td>\n",
       "      <td>0.372523</td>\n",
       "    </tr>\n",
       "    <tr>\n",
       "      <td>2019-03-05</td>\n",
       "      <td>-0.816782</td>\n",
       "      <td>-1.740176</td>\n",
       "      <td>0.692146</td>\n",
       "      <td>-0.043410</td>\n",
       "    </tr>\n",
       "    <tr>\n",
       "      <td>2019-03-06</td>\n",
       "      <td>0.950451</td>\n",
       "      <td>1.048503</td>\n",
       "      <td>-0.330472</td>\n",
       "      <td>-0.008295</td>\n",
       "    </tr>\n",
       "  </tbody>\n",
       "</table>\n",
       "</div>"
      ],
      "text/plain": [
       "                   A         C         D         B\n",
       "2019-03-01 -0.756285  0.329233  0.584894  0.034962\n",
       "2019-03-02  0.437866  1.913787 -0.610200  1.321183\n",
       "2019-03-03  3.212804  0.745982  0.024917  0.412083\n",
       "2019-03-04 -1.147578  0.093884 -0.013438  0.372523\n",
       "2019-03-05 -0.816782 -1.740176  0.692146 -0.043410\n",
       "2019-03-06  0.950451  1.048503 -0.330472 -0.008295"
      ]
     },
     "execution_count": 51,
     "metadata": {},
     "output_type": "execute_result"
    }
   ],
   "source": [
    "df2 = pd.DataFrame(df, columns=['A','C','D','B'])\n",
    "df2"
   ]
  },
  {
   "cell_type": "code",
   "execution_count": 60,
   "metadata": {},
   "outputs": [],
   "source": [
    "from numpy import NaN,nan,NAN"
   ]
  },
  {
   "cell_type": "code",
   "execution_count": 61,
   "metadata": {},
   "outputs": [],
   "source": [
    "df['E']= NaN"
   ]
  },
  {
   "cell_type": "code",
   "execution_count": 62,
   "metadata": {},
   "outputs": [
    {
     "data": {
      "text/html": [
       "<div>\n",
       "<style scoped>\n",
       "    .dataframe tbody tr th:only-of-type {\n",
       "        vertical-align: middle;\n",
       "    }\n",
       "\n",
       "    .dataframe tbody tr th {\n",
       "        vertical-align: top;\n",
       "    }\n",
       "\n",
       "    .dataframe thead th {\n",
       "        text-align: right;\n",
       "    }\n",
       "</style>\n",
       "<table border=\"1\" class=\"dataframe\">\n",
       "  <thead>\n",
       "    <tr style=\"text-align: right;\">\n",
       "      <th></th>\n",
       "      <th>A</th>\n",
       "      <th>B</th>\n",
       "      <th>C</th>\n",
       "      <th>D</th>\n",
       "      <th>E</th>\n",
       "    </tr>\n",
       "  </thead>\n",
       "  <tbody>\n",
       "    <tr>\n",
       "      <td>2019-03-01</td>\n",
       "      <td>-0.756285</td>\n",
       "      <td>0.034962</td>\n",
       "      <td>0.329233</td>\n",
       "      <td>0.584894</td>\n",
       "      <td>NaN</td>\n",
       "    </tr>\n",
       "    <tr>\n",
       "      <td>2019-03-02</td>\n",
       "      <td>0.437866</td>\n",
       "      <td>1.321183</td>\n",
       "      <td>1.913787</td>\n",
       "      <td>-0.610200</td>\n",
       "      <td>NaN</td>\n",
       "    </tr>\n",
       "    <tr>\n",
       "      <td>2019-03-03</td>\n",
       "      <td>3.212804</td>\n",
       "      <td>0.412083</td>\n",
       "      <td>0.745982</td>\n",
       "      <td>0.024917</td>\n",
       "      <td>NaN</td>\n",
       "    </tr>\n",
       "    <tr>\n",
       "      <td>2019-03-04</td>\n",
       "      <td>-1.147578</td>\n",
       "      <td>0.372523</td>\n",
       "      <td>0.093884</td>\n",
       "      <td>-0.013438</td>\n",
       "      <td>NaN</td>\n",
       "    </tr>\n",
       "    <tr>\n",
       "      <td>2019-03-05</td>\n",
       "      <td>-0.816782</td>\n",
       "      <td>-0.043410</td>\n",
       "      <td>-1.740176</td>\n",
       "      <td>0.692146</td>\n",
       "      <td>NaN</td>\n",
       "    </tr>\n",
       "    <tr>\n",
       "      <td>2019-03-06</td>\n",
       "      <td>0.950451</td>\n",
       "      <td>-0.008295</td>\n",
       "      <td>1.048503</td>\n",
       "      <td>-0.330472</td>\n",
       "      <td>NaN</td>\n",
       "    </tr>\n",
       "  </tbody>\n",
       "</table>\n",
       "</div>"
      ],
      "text/plain": [
       "                   A         B         C         D   E\n",
       "2019-03-01 -0.756285  0.034962  0.329233  0.584894 NaN\n",
       "2019-03-02  0.437866  1.321183  1.913787 -0.610200 NaN\n",
       "2019-03-03  3.212804  0.412083  0.745982  0.024917 NaN\n",
       "2019-03-04 -1.147578  0.372523  0.093884 -0.013438 NaN\n",
       "2019-03-05 -0.816782 -0.043410 -1.740176  0.692146 NaN\n",
       "2019-03-06  0.950451 -0.008295  1.048503 -0.330472 NaN"
      ]
     },
     "execution_count": 62,
     "metadata": {},
     "output_type": "execute_result"
    }
   ],
   "source": [
    "df"
   ]
  },
  {
   "cell_type": "code",
   "execution_count": 64,
   "metadata": {},
   "outputs": [
    {
     "data": {
      "text/html": [
       "<div>\n",
       "<style scoped>\n",
       "    .dataframe tbody tr th:only-of-type {\n",
       "        vertical-align: middle;\n",
       "    }\n",
       "\n",
       "    .dataframe tbody tr th {\n",
       "        vertical-align: top;\n",
       "    }\n",
       "\n",
       "    .dataframe thead th {\n",
       "        text-align: right;\n",
       "    }\n",
       "</style>\n",
       "<table border=\"1\" class=\"dataframe\">\n",
       "  <thead>\n",
       "    <tr style=\"text-align: right;\">\n",
       "      <th></th>\n",
       "      <th>A</th>\n",
       "      <th>B</th>\n",
       "      <th>C</th>\n",
       "      <th>D</th>\n",
       "      <th>E</th>\n",
       "    </tr>\n",
       "  </thead>\n",
       "  <tbody>\n",
       "    <tr>\n",
       "      <td>2019-03-01</td>\n",
       "      <td>-0.756285</td>\n",
       "      <td>0.034962</td>\n",
       "      <td>0.329233</td>\n",
       "      <td>0.584894</td>\n",
       "      <td>NaN</td>\n",
       "    </tr>\n",
       "    <tr>\n",
       "      <td>2019-03-02</td>\n",
       "      <td>0.437866</td>\n",
       "      <td>1.321183</td>\n",
       "      <td>1.913787</td>\n",
       "      <td>-0.610200</td>\n",
       "      <td>2.0</td>\n",
       "    </tr>\n",
       "    <tr>\n",
       "      <td>2019-03-03</td>\n",
       "      <td>3.212804</td>\n",
       "      <td>0.412083</td>\n",
       "      <td>0.745982</td>\n",
       "      <td>0.024917</td>\n",
       "      <td>NaN</td>\n",
       "    </tr>\n",
       "    <tr>\n",
       "      <td>2019-03-04</td>\n",
       "      <td>-1.147578</td>\n",
       "      <td>0.372523</td>\n",
       "      <td>0.093884</td>\n",
       "      <td>-0.013438</td>\n",
       "      <td>NaN</td>\n",
       "    </tr>\n",
       "    <tr>\n",
       "      <td>2019-03-05</td>\n",
       "      <td>-0.816782</td>\n",
       "      <td>-0.043410</td>\n",
       "      <td>-1.740176</td>\n",
       "      <td>0.692146</td>\n",
       "      <td>NaN</td>\n",
       "    </tr>\n",
       "    <tr>\n",
       "      <td>2019-03-06</td>\n",
       "      <td>0.950451</td>\n",
       "      <td>-0.008295</td>\n",
       "      <td>1.048503</td>\n",
       "      <td>-0.330472</td>\n",
       "      <td>NaN</td>\n",
       "    </tr>\n",
       "  </tbody>\n",
       "</table>\n",
       "</div>"
      ],
      "text/plain": [
       "                   A         B         C         D    E\n",
       "2019-03-01 -0.756285  0.034962  0.329233  0.584894  NaN\n",
       "2019-03-02  0.437866  1.321183  1.913787 -0.610200  2.0\n",
       "2019-03-03  3.212804  0.412083  0.745982  0.024917  NaN\n",
       "2019-03-04 -1.147578  0.372523  0.093884 -0.013438  NaN\n",
       "2019-03-05 -0.816782 -0.043410 -1.740176  0.692146  NaN\n",
       "2019-03-06  0.950451 -0.008295  1.048503 -0.330472  NaN"
      ]
     },
     "execution_count": 64,
     "metadata": {},
     "output_type": "execute_result"
    }
   ],
   "source": [
    "df.loc['2019-03-02','E']=2\n",
    "df"
   ]
  },
  {
   "cell_type": "code",
   "execution_count": 66,
   "metadata": {},
   "outputs": [
    {
     "data": {
      "text/html": [
       "<div>\n",
       "<style scoped>\n",
       "    .dataframe tbody tr th:only-of-type {\n",
       "        vertical-align: middle;\n",
       "    }\n",
       "\n",
       "    .dataframe tbody tr th {\n",
       "        vertical-align: top;\n",
       "    }\n",
       "\n",
       "    .dataframe thead th {\n",
       "        text-align: right;\n",
       "    }\n",
       "</style>\n",
       "<table border=\"1\" class=\"dataframe\">\n",
       "  <thead>\n",
       "    <tr style=\"text-align: right;\">\n",
       "      <th></th>\n",
       "      <th>A</th>\n",
       "      <th>B</th>\n",
       "      <th>C</th>\n",
       "      <th>D</th>\n",
       "      <th>E</th>\n",
       "      <th>F</th>\n",
       "    </tr>\n",
       "  </thead>\n",
       "  <tbody>\n",
       "    <tr>\n",
       "      <td>2019-03-01</td>\n",
       "      <td>-0.756285</td>\n",
       "      <td>0.034962</td>\n",
       "      <td>0.329233</td>\n",
       "      <td>0.584894</td>\n",
       "      <td>NaN</td>\n",
       "      <td>-0.721323</td>\n",
       "    </tr>\n",
       "    <tr>\n",
       "      <td>2019-03-02</td>\n",
       "      <td>0.437866</td>\n",
       "      <td>1.321183</td>\n",
       "      <td>1.913787</td>\n",
       "      <td>-0.610200</td>\n",
       "      <td>2.0</td>\n",
       "      <td>1.759049</td>\n",
       "    </tr>\n",
       "    <tr>\n",
       "      <td>2019-03-03</td>\n",
       "      <td>3.212804</td>\n",
       "      <td>0.412083</td>\n",
       "      <td>0.745982</td>\n",
       "      <td>0.024917</td>\n",
       "      <td>NaN</td>\n",
       "      <td>3.624888</td>\n",
       "    </tr>\n",
       "    <tr>\n",
       "      <td>2019-03-04</td>\n",
       "      <td>-1.147578</td>\n",
       "      <td>0.372523</td>\n",
       "      <td>0.093884</td>\n",
       "      <td>-0.013438</td>\n",
       "      <td>NaN</td>\n",
       "      <td>-0.775054</td>\n",
       "    </tr>\n",
       "    <tr>\n",
       "      <td>2019-03-05</td>\n",
       "      <td>-0.816782</td>\n",
       "      <td>-0.043410</td>\n",
       "      <td>-1.740176</td>\n",
       "      <td>0.692146</td>\n",
       "      <td>NaN</td>\n",
       "      <td>-0.860191</td>\n",
       "    </tr>\n",
       "    <tr>\n",
       "      <td>2019-03-06</td>\n",
       "      <td>0.950451</td>\n",
       "      <td>-0.008295</td>\n",
       "      <td>1.048503</td>\n",
       "      <td>-0.330472</td>\n",
       "      <td>NaN</td>\n",
       "      <td>0.942156</td>\n",
       "    </tr>\n",
       "  </tbody>\n",
       "</table>\n",
       "</div>"
      ],
      "text/plain": [
       "                   A         B         C         D    E         F\n",
       "2019-03-01 -0.756285  0.034962  0.329233  0.584894  NaN -0.721323\n",
       "2019-03-02  0.437866  1.321183  1.913787 -0.610200  2.0  1.759049\n",
       "2019-03-03  3.212804  0.412083  0.745982  0.024917  NaN  3.624888\n",
       "2019-03-04 -1.147578  0.372523  0.093884 -0.013438  NaN -0.775054\n",
       "2019-03-05 -0.816782 -0.043410 -1.740176  0.692146  NaN -0.860191\n",
       "2019-03-06  0.950451 -0.008295  1.048503 -0.330472  NaN  0.942156"
      ]
     },
     "execution_count": 66,
     "metadata": {},
     "output_type": "execute_result"
    }
   ],
   "source": [
    "df['F'] = df['A']+df['B']\n",
    "df"
   ]
  },
  {
   "cell_type": "markdown",
   "metadata": {},
   "source": [
    " "
   ]
  },
  {
   "cell_type": "markdown",
   "metadata": {},
   "source": [
    " \n"
   ]
  },
  {
   "cell_type": "markdown",
   "metadata": {},
   "source": [
    " "
   ]
  },
  {
   "cell_type": "markdown",
   "metadata": {},
   "source": [
    "# 서울시 청소년들의 스트레스 데이터를 읽어보자"
   ]
  },
  {
   "cell_type": "code",
   "execution_count": 71,
   "metadata": {},
   "outputs": [
    {
     "data": {
      "text/html": [
       "<div>\n",
       "<style scoped>\n",
       "    .dataframe tbody tr th:only-of-type {\n",
       "        vertical-align: middle;\n",
       "    }\n",
       "\n",
       "    .dataframe tbody tr th {\n",
       "        vertical-align: top;\n",
       "    }\n",
       "\n",
       "    .dataframe thead th {\n",
       "        text-align: right;\n",
       "    }\n",
       "</style>\n",
       "<table border=\"1\" class=\"dataframe\">\n",
       "  <thead>\n",
       "    <tr style=\"text-align: right;\">\n",
       "      <th></th>\n",
       "      <th>기간</th>\n",
       "      <th>구분</th>\n",
       "      <th>스트레스 인지율</th>\n",
       "      <th>스트레스 인지율.1</th>\n",
       "      <th>스트레스 인지율.2</th>\n",
       "      <th>우울감 경험률</th>\n",
       "      <th>우울감 경험률.1</th>\n",
       "      <th>우울감 경험률.2</th>\n",
       "      <th>자살 생각률</th>\n",
       "      <th>자살 생각률.1</th>\n",
       "      <th>자살 생각률.2</th>\n",
       "    </tr>\n",
       "  </thead>\n",
       "  <tbody>\n",
       "    <tr>\n",
       "      <td>0</td>\n",
       "      <td>기간</td>\n",
       "      <td>구분</td>\n",
       "      <td>전체</td>\n",
       "      <td>남학생</td>\n",
       "      <td>여학생</td>\n",
       "      <td>전체</td>\n",
       "      <td>남학생</td>\n",
       "      <td>여학생</td>\n",
       "      <td>전체</td>\n",
       "      <td>남학생</td>\n",
       "      <td>여학생</td>\n",
       "    </tr>\n",
       "    <tr>\n",
       "      <td>1</td>\n",
       "      <td>2018</td>\n",
       "      <td>구분</td>\n",
       "      <td>42.7</td>\n",
       "      <td>34.5</td>\n",
       "      <td>51.5</td>\n",
       "      <td>29.6</td>\n",
       "      <td>24.2</td>\n",
       "      <td>35.4</td>\n",
       "      <td>15.4</td>\n",
       "      <td>11.8</td>\n",
       "      <td>19.2</td>\n",
       "    </tr>\n",
       "  </tbody>\n",
       "</table>\n",
       "</div>"
      ],
      "text/plain": [
       "     기간  구분  스트레스 인지율 스트레스 인지율.1 스트레스 인지율.2 우울감 경험률 우울감 경험률.1 우울감 경험률.2  \\\n",
       "0    기간  구분        전체        남학생        여학생      전체       남학생       여학생   \n",
       "1  2018   구분     42.7       34.5       51.5    29.6      24.2      35.4   \n",
       "\n",
       "  자살 생각률 자살 생각률.1 자살 생각률.2  \n",
       "0     전체      남학생      여학생  \n",
       "1   15.4     11.8     19.2  "
      ]
     },
     "execution_count": 71,
     "metadata": {},
     "output_type": "execute_result"
    }
   ],
   "source": [
    "import pandas as pd\n",
    "data = pd.read_excel('data/mental.xls')\n",
    "data.shape # (2,11)\n",
    "data"
   ]
  },
  {
   "cell_type": "code",
   "execution_count": 80,
   "metadata": {},
   "outputs": [
    {
     "data": {
      "text/html": [
       "<div>\n",
       "<style scoped>\n",
       "    .dataframe tbody tr th:only-of-type {\n",
       "        vertical-align: middle;\n",
       "    }\n",
       "\n",
       "    .dataframe tbody tr th {\n",
       "        vertical-align: top;\n",
       "    }\n",
       "\n",
       "    .dataframe thead th {\n",
       "        text-align: right;\n",
       "    }\n",
       "</style>\n",
       "<table border=\"1\" class=\"dataframe\">\n",
       "  <thead>\n",
       "    <tr style=\"text-align: right;\">\n",
       "      <th></th>\n",
       "      <th>기간</th>\n",
       "      <th>구분</th>\n",
       "      <th>전체</th>\n",
       "      <th>남학생</th>\n",
       "      <th>여학생</th>\n",
       "      <th>전체.1</th>\n",
       "      <th>남학생.1</th>\n",
       "      <th>여학생.1</th>\n",
       "      <th>전체.2</th>\n",
       "      <th>남학생.2</th>\n",
       "      <th>여학생.2</th>\n",
       "    </tr>\n",
       "  </thead>\n",
       "  <tbody>\n",
       "    <tr>\n",
       "      <td>0</td>\n",
       "      <td>2018</td>\n",
       "      <td>구분</td>\n",
       "      <td>42.7</td>\n",
       "      <td>34.5</td>\n",
       "      <td>51.5</td>\n",
       "      <td>29.6</td>\n",
       "      <td>24.2</td>\n",
       "      <td>35.4</td>\n",
       "      <td>15.4</td>\n",
       "      <td>11.8</td>\n",
       "      <td>19.2</td>\n",
       "    </tr>\n",
       "  </tbody>\n",
       "</table>\n",
       "</div>"
      ],
      "text/plain": [
       "     기간 구분     전체   남학생   여학생  전체.1  남학생.1  여학생.1  전체.2  남학생.2  여학생.2\n",
       "0  2018  구분  42.7  34.5  51.5  29.6   24.2   35.4  15.4   11.8   19.2"
      ]
     },
     "execution_count": 80,
     "metadata": {},
     "output_type": "execute_result"
    }
   ],
   "source": [
    "# 엑셀에서 2번째 행부터 읽어오기 \n",
    "pd.read_excel('data/mental.xls',header=1) "
   ]
  },
  {
   "cell_type": "code",
   "execution_count": 81,
   "metadata": {},
   "outputs": [
    {
     "data": {
      "text/html": [
       "<div>\n",
       "<style scoped>\n",
       "    .dataframe tbody tr th:only-of-type {\n",
       "        vertical-align: middle;\n",
       "    }\n",
       "\n",
       "    .dataframe tbody tr th {\n",
       "        vertical-align: top;\n",
       "    }\n",
       "\n",
       "    .dataframe thead th {\n",
       "        text-align: right;\n",
       "    }\n",
       "</style>\n",
       "<table border=\"1\" class=\"dataframe\">\n",
       "  <thead>\n",
       "    <tr style=\"text-align: right;\">\n",
       "      <th></th>\n",
       "      <th>전체</th>\n",
       "      <th>남학생</th>\n",
       "      <th>여학생</th>\n",
       "      <th>전체.1</th>\n",
       "      <th>남학생.1</th>\n",
       "      <th>여학생.1</th>\n",
       "      <th>전체.2</th>\n",
       "      <th>남학생.2</th>\n",
       "      <th>여학생.2</th>\n",
       "    </tr>\n",
       "  </thead>\n",
       "  <tbody>\n",
       "    <tr>\n",
       "      <td>0</td>\n",
       "      <td>42.7</td>\n",
       "      <td>34.5</td>\n",
       "      <td>51.5</td>\n",
       "      <td>29.6</td>\n",
       "      <td>24.2</td>\n",
       "      <td>35.4</td>\n",
       "      <td>15.4</td>\n",
       "      <td>11.8</td>\n",
       "      <td>19.2</td>\n",
       "    </tr>\n",
       "  </tbody>\n",
       "</table>\n",
       "</div>"
      ],
      "text/plain": [
       "     전체   남학생   여학생  전체.1  남학생.1  여학생.1  전체.2  남학생.2  여학생.2\n",
       "0  42.7  34.5  51.5  29.6   24.2   35.4  15.4   11.8   19.2"
      ]
     },
     "execution_count": 81,
     "metadata": {},
     "output_type": "execute_result"
    }
   ],
   "source": [
    "# 원하는 컬럼만 읽어오기 \n",
    "pd.read_excel('data/mental.xls',header=1, usecols='C:K')"
   ]
  },
  {
   "cell_type": "code",
   "execution_count": 90,
   "metadata": {},
   "outputs": [
    {
     "data": {
      "text/html": [
       "<div>\n",
       "<style scoped>\n",
       "    .dataframe tbody tr th:only-of-type {\n",
       "        vertical-align: middle;\n",
       "    }\n",
       "\n",
       "    .dataframe tbody tr th {\n",
       "        vertical-align: top;\n",
       "    }\n",
       "\n",
       "    .dataframe thead th {\n",
       "        text-align: right;\n",
       "    }\n",
       "</style>\n",
       "<table border=\"1\" class=\"dataframe\">\n",
       "  <thead>\n",
       "    <tr style=\"text-align: right;\">\n",
       "      <th></th>\n",
       "      <th>스트레스</th>\n",
       "      <th>스트레스남학생</th>\n",
       "      <th>스트레스여학생</th>\n",
       "      <th>우울감경험률</th>\n",
       "      <th>우울남학생</th>\n",
       "      <th>우울여학생</th>\n",
       "      <th>자살생각률</th>\n",
       "      <th>자살남학생</th>\n",
       "      <th>자살여학생</th>\n",
       "    </tr>\n",
       "  </thead>\n",
       "  <tbody>\n",
       "    <tr>\n",
       "      <td>0</td>\n",
       "      <td>42.7</td>\n",
       "      <td>34.5</td>\n",
       "      <td>51.5</td>\n",
       "      <td>29.6</td>\n",
       "      <td>24.2</td>\n",
       "      <td>35.4</td>\n",
       "      <td>15.4</td>\n",
       "      <td>11.8</td>\n",
       "      <td>19.2</td>\n",
       "    </tr>\n",
       "  </tbody>\n",
       "</table>\n",
       "</div>"
      ],
      "text/plain": [
       "   스트레스  스트레스남학생  스트레스여학생  우울감경험률  우울남학생  우울여학생  자살생각률  자살남학생  자살여학생\n",
       "0  42.7     34.5     51.5    29.6   24.2   35.4   15.4   11.8   19.2"
      ]
     },
     "execution_count": 90,
     "metadata": {},
     "output_type": "execute_result"
    }
   ],
   "source": [
    "# 컬럼 이름 변경하기\n",
    "col_names =[\n",
    "    '스트레스','스트레스남학생','스트레스여학생'\n",
    "    ,'우울감경험률','우울남학생','우울여학생'\n",
    "    ,'자살생각률','자살남학생','자살여학생'\n",
    "]\n",
    "raw_data = pd.read_excel('data/mental.xls',header=1\n",
    "              , usecols='C:K'\n",
    "              , names=col_names)\n",
    "raw_data"
   ]
  },
  {
   "cell_type": "code",
   "execution_count": 94,
   "metadata": {},
   "outputs": [
    {
     "data": {
      "text/html": [
       "<div>\n",
       "<style scoped>\n",
       "    .dataframe tbody tr th:only-of-type {\n",
       "        vertical-align: middle;\n",
       "    }\n",
       "\n",
       "    .dataframe tbody tr th {\n",
       "        vertical-align: top;\n",
       "    }\n",
       "\n",
       "    .dataframe thead th {\n",
       "        text-align: right;\n",
       "    }\n",
       "</style>\n",
       "<table border=\"1\" class=\"dataframe\">\n",
       "  <thead>\n",
       "    <tr style=\"text-align: right;\">\n",
       "      <th></th>\n",
       "      <th>스트레스</th>\n",
       "      <th>스트레스남학생</th>\n",
       "      <th>스트레스여학생</th>\n",
       "      <th>우울감경험률</th>\n",
       "      <th>우울남학생</th>\n",
       "      <th>우울여학생</th>\n",
       "      <th>자살생각률</th>\n",
       "      <th>자살남학생</th>\n",
       "      <th>자살여학생</th>\n",
       "    </tr>\n",
       "  </thead>\n",
       "  <tbody>\n",
       "    <tr>\n",
       "      <td>0</td>\n",
       "      <td>42.7</td>\n",
       "      <td>34.5</td>\n",
       "      <td>51.5</td>\n",
       "      <td>29.6</td>\n",
       "      <td>24.2</td>\n",
       "      <td>35.4</td>\n",
       "      <td>15.4</td>\n",
       "      <td>11.8</td>\n",
       "      <td>19.2</td>\n",
       "    </tr>\n",
       "    <tr>\n",
       "      <td>1</td>\n",
       "      <td>57.3</td>\n",
       "      <td>65.5</td>\n",
       "      <td>48.5</td>\n",
       "      <td>70.4</td>\n",
       "      <td>75.8</td>\n",
       "      <td>64.6</td>\n",
       "      <td>84.6</td>\n",
       "      <td>88.2</td>\n",
       "      <td>80.8</td>\n",
       "    </tr>\n",
       "  </tbody>\n",
       "</table>\n",
       "</div>"
      ],
      "text/plain": [
       "   스트레스  스트레스남학생  스트레스여학생  우울감경험률  우울남학생  우울여학생  자살생각률  자살남학생  자살여학생\n",
       "0  42.7     34.5     51.5    29.6   24.2   35.4   15.4   11.8   19.2\n",
       "1  57.3     65.5     48.5    70.4   75.8   64.6   84.6   88.2   80.8"
      ]
     },
     "execution_count": 94,
     "metadata": {},
     "output_type": "execute_result"
    }
   ],
   "source": [
    "# pie 그래프를 그리기 위해 100에서 뺀값 로우로 추가하기 \n",
    "raw_data.loc[1] = 100 - raw_data.loc[0]\n",
    "raw_data"
   ]
  },
  {
   "cell_type": "code",
   "execution_count": 95,
   "metadata": {},
   "outputs": [
    {
     "data": {
      "text/html": [
       "<div>\n",
       "<style scoped>\n",
       "    .dataframe tbody tr th:only-of-type {\n",
       "        vertical-align: middle;\n",
       "    }\n",
       "\n",
       "    .dataframe tbody tr th {\n",
       "        vertical-align: top;\n",
       "    }\n",
       "\n",
       "    .dataframe thead th {\n",
       "        text-align: right;\n",
       "    }\n",
       "</style>\n",
       "<table border=\"1\" class=\"dataframe\">\n",
       "  <thead>\n",
       "    <tr style=\"text-align: right;\">\n",
       "      <th></th>\n",
       "      <th>스트레스</th>\n",
       "      <th>스트레스남학생</th>\n",
       "      <th>스트레스여학생</th>\n",
       "      <th>우울감경험률</th>\n",
       "      <th>우울남학생</th>\n",
       "      <th>우울여학생</th>\n",
       "      <th>자살생각률</th>\n",
       "      <th>자살남학생</th>\n",
       "      <th>자살여학생</th>\n",
       "      <th>응답</th>\n",
       "    </tr>\n",
       "  </thead>\n",
       "  <tbody>\n",
       "    <tr>\n",
       "      <td>0</td>\n",
       "      <td>42.7</td>\n",
       "      <td>34.5</td>\n",
       "      <td>51.5</td>\n",
       "      <td>29.6</td>\n",
       "      <td>24.2</td>\n",
       "      <td>35.4</td>\n",
       "      <td>15.4</td>\n",
       "      <td>11.8</td>\n",
       "      <td>19.2</td>\n",
       "      <td>그렇다</td>\n",
       "    </tr>\n",
       "    <tr>\n",
       "      <td>1</td>\n",
       "      <td>57.3</td>\n",
       "      <td>65.5</td>\n",
       "      <td>48.5</td>\n",
       "      <td>70.4</td>\n",
       "      <td>75.8</td>\n",
       "      <td>64.6</td>\n",
       "      <td>84.6</td>\n",
       "      <td>88.2</td>\n",
       "      <td>80.8</td>\n",
       "      <td>아니다</td>\n",
       "    </tr>\n",
       "  </tbody>\n",
       "</table>\n",
       "</div>"
      ],
      "text/plain": [
       "   스트레스  스트레스남학생  스트레스여학생  우울감경험률  우울남학생  우울여학생  자살생각률  자살남학생  자살여학생   응답\n",
       "0  42.7     34.5     51.5    29.6   24.2   35.4   15.4   11.8   19.2  그렇다\n",
       "1  57.3     65.5     48.5    70.4   75.8   64.6   84.6   88.2   80.8  아니다"
      ]
     },
     "execution_count": 95,
     "metadata": {},
     "output_type": "execute_result"
    }
   ],
   "source": [
    "# 질문에 대한 대답 컬럼 '응답' 추가\n",
    "raw_data['응답'] = ['그렇다','아니다']\n",
    "raw_data"
   ]
  },
  {
   "cell_type": "markdown",
   "metadata": {},
   "source": [
    "#### set_index"
   ]
  },
  {
   "cell_type": "code",
   "execution_count": 97,
   "metadata": {},
   "outputs": [
    {
     "data": {
      "text/html": [
       "<div>\n",
       "<style scoped>\n",
       "    .dataframe tbody tr th:only-of-type {\n",
       "        vertical-align: middle;\n",
       "    }\n",
       "\n",
       "    .dataframe tbody tr th {\n",
       "        vertical-align: top;\n",
       "    }\n",
       "\n",
       "    .dataframe thead th {\n",
       "        text-align: right;\n",
       "    }\n",
       "</style>\n",
       "<table border=\"1\" class=\"dataframe\">\n",
       "  <thead>\n",
       "    <tr style=\"text-align: right;\">\n",
       "      <th></th>\n",
       "      <th>스트레스</th>\n",
       "      <th>스트레스남학생</th>\n",
       "      <th>스트레스여학생</th>\n",
       "      <th>우울감경험률</th>\n",
       "      <th>우울남학생</th>\n",
       "      <th>우울여학생</th>\n",
       "      <th>자살생각률</th>\n",
       "      <th>자살남학생</th>\n",
       "      <th>자살여학생</th>\n",
       "    </tr>\n",
       "    <tr>\n",
       "      <th>응답</th>\n",
       "      <th></th>\n",
       "      <th></th>\n",
       "      <th></th>\n",
       "      <th></th>\n",
       "      <th></th>\n",
       "      <th></th>\n",
       "      <th></th>\n",
       "      <th></th>\n",
       "      <th></th>\n",
       "    </tr>\n",
       "  </thead>\n",
       "  <tbody>\n",
       "    <tr>\n",
       "      <td>그렇다</td>\n",
       "      <td>42.7</td>\n",
       "      <td>34.5</td>\n",
       "      <td>51.5</td>\n",
       "      <td>29.6</td>\n",
       "      <td>24.2</td>\n",
       "      <td>35.4</td>\n",
       "      <td>15.4</td>\n",
       "      <td>11.8</td>\n",
       "      <td>19.2</td>\n",
       "    </tr>\n",
       "    <tr>\n",
       "      <td>아니다</td>\n",
       "      <td>57.3</td>\n",
       "      <td>65.5</td>\n",
       "      <td>48.5</td>\n",
       "      <td>70.4</td>\n",
       "      <td>75.8</td>\n",
       "      <td>64.6</td>\n",
       "      <td>84.6</td>\n",
       "      <td>88.2</td>\n",
       "      <td>80.8</td>\n",
       "    </tr>\n",
       "  </tbody>\n",
       "</table>\n",
       "</div>"
      ],
      "text/plain": [
       "     스트레스  스트레스남학생  스트레스여학생  우울감경험률  우울남학생  우울여학생  자살생각률  자살남학생  자살여학생\n",
       "응답                                                                    \n",
       "그렇다  42.7     34.5     51.5    29.6   24.2   35.4   15.4   11.8   19.2\n",
       "아니다  57.3     65.5     48.5    70.4   75.8   64.6   84.6   88.2   80.8"
      ]
     },
     "execution_count": 97,
     "metadata": {},
     "output_type": "execute_result"
    }
   ],
   "source": [
    "# 응답을 index로 변경하기\n",
    "raw_data.set_index('응답',drop=True,inplace=True)\n",
    "raw_data"
   ]
  },
  {
   "cell_type": "markdown",
   "metadata": {},
   "source": [
    "## 중간정리 코드"
   ]
  },
  {
   "cell_type": "code",
   "execution_count": null,
   "metadata": {},
   "outputs": [],
   "source": [
    "import pandas as pd\n",
    "col_names = ['스트레스', '스트레스남학생', '스트레스여학생', '우울감경험률', \n",
    "             '우울남학생', '우울여학생','자살생각율', '자살남학생', '자살여학생']\n",
    "\n",
    "raw_data = pd.read_excel(\"../data/teenage_mental.xls\", \n",
    "                         header=1, \n",
    "                         usecols=\"C:K\", \n",
    "                         names=col_names)\n",
    "\n",
    "raw_data.loc[1] = 100. - raw_data.loc[0]\n",
    "raw_data['응답'] = ['그렇다','아니다']\n",
    "raw_data.set_index('응답',drop=True, inplace=True)\n",
    "raw_data"
   ]
  },
  {
   "cell_type": "code",
   "execution_count": 99,
   "metadata": {},
   "outputs": [],
   "source": [
    "%matplotlib inline\n",
    "import matplotlib.pyplot as plt\n",
    "\n",
    "from matplotlib import font_manager, rc\n",
    "plt.rcParams['axes.unicode_minus'] = False\n",
    "\n",
    "f_path = 'C:\\Windows\\Fonts\\malgun.ttf'\n",
    "font_name = font_manager.FontProperties(fname=f_path).get_name()\n",
    "rc('font',family=font_name)"
   ]
  },
  {
   "cell_type": "code",
   "execution_count": 213,
   "metadata": {},
   "outputs": [
    {
     "data": {
      "text/plain": [
       "응답\n",
       "그렇다    42.7\n",
       "아니다    57.3\n",
       "Name: 스트레스, dtype: float64"
      ]
     },
     "execution_count": 213,
     "metadata": {},
     "output_type": "execute_result"
    }
   ],
   "source": [
    "type(raw_data['스트레스'])\n",
    "raw_data['스트레스']"
   ]
  },
  {
   "cell_type": "code",
   "execution_count": 102,
   "metadata": {},
   "outputs": [
    {
     "data": {
      "text/plain": [
       "<matplotlib.axes._subplots.AxesSubplot at 0x1aff665d208>"
      ]
     },
     "execution_count": 102,
     "metadata": {},
     "output_type": "execute_result"
    },
    {
     "data": {
      "image/png": "[encoded data removed]",
      "text/plain": [
       "<Figure size 432x288 with 1 Axes>"
      ]
     },
     "metadata": {},
     "output_type": "display_data"
    }
   ],
   "source": [
    "raw_data['스트레스'].plot.pie()"
   ]
  },
  {
   "cell_type": "code",
   "execution_count": 105,
   "metadata": {},
   "outputs": [
    {
     "data": {
      "text/plain": [
       "<matplotlib.axes._subplots.AxesSubplot at 0x1af866a4108>"
      ]
     },
     "execution_count": 105,
     "metadata": {},
     "output_type": "execute_result"
    },
    {
     "data": {
      "image/png": "[encoded data removed]",
      "text/plain": [
       "<Figure size 432x288 with 1 Axes>"
      ]
     },
     "metadata": {},
     "output_type": "display_data"
    }
   ],
   "source": [
    "# pie 그래프의 항목 사이를 원점으로부터 떨어뜨림\n",
    "raw_data['스트레스'].plot.pie(explode=[0,0.05])"
   ]
  },
  {
   "cell_type": "code",
   "execution_count": 110,
   "metadata": {},
   "outputs": [
    {
     "data": {
      "text/plain": [
       "Text(0, 0.5, '')"
      ]
     },
     "execution_count": 110,
     "metadata": {},
     "output_type": "execute_result"
    },
    {
     "data": {
      "image/png": "[encoded data removed]",
      "text/plain": [
       "<Figure size 1152x576 with 3 Axes>"
      ]
     },
     "metadata": {},
     "output_type": "display_data"
    }
   ],
   "source": [
    "# 서브플롯 3개 -ax[0], ax[1], ax[2]\n",
    "f, ax = plt.subplots(1, 3, figsize=(16,8))\n",
    "\n",
    "raw_data['스트레스'].plot.pie(explode=[0,0.02]\n",
    "                         ,ax=ax[0]\n",
    "                         ,autopct='%1.1f%%')\n",
    "ax[0].set_title('스트레스를 받은적 있다')\n",
    "ax[0].set_ylabel('')\n",
    "\n",
    "raw_data['우울감경험률'].plot.pie(explode=[0,0.02]\n",
    "                         ,ax=ax[1]\n",
    "                         ,autopct='%1.1f%%')\n",
    "ax[1].set_title('우울증을 경험한적 있다')\n",
    "ax[1].set_ylabel('')\n",
    "\n",
    "raw_data['자살생각률'].plot.pie(explode=[0,0.02]\n",
    "                         ,ax=ax[2]\n",
    "                         ,autopct='%1.1f%%')\n",
    "ax[2].set_title('자살을 고민한적 있다')\n",
    "ax[2].set_ylabel('')"
   ]
  },
  {
   "cell_type": "code",
   "execution_count": 112,
   "metadata": {},
   "outputs": [
    {
     "name": "stdout",
     "output_type": "stream",
     "text": [
      "AxesSubplot(0.125,0.125;0.775x0.755)\n"
     ]
    },
    {
     "data": {
      "image/png": "[encoded data removed]",
      "text/plain": [
       "<Figure size 432x288 with 1 Axes>"
      ]
     },
     "metadata": {
      "needs_background": "light"
     },
     "output_type": "display_data"
    }
   ],
   "source": [
    "t = raw_data['스트레스'].plot.bar()\n",
    "print(t)"
   ]
  },
  {
   "cell_type": "code",
   "execution_count": 116,
   "metadata": {},
   "outputs": [
    {
     "data": {
      "text/plain": [
       "Text(0, 0.5, '')"
      ]
     },
     "execution_count": 116,
     "metadata": {},
     "output_type": "execute_result"
    },
    {
     "data": {
      "image/png": "[encoded data removed]",
      "text/plain": [
       "<Figure size 1152x360 with 3 Axes>"
      ]
     },
     "metadata": {
      "needs_background": "light"
     },
     "output_type": "display_data"
    }
   ],
   "source": [
    "# 서브플롯 3개 -ax[0], ax[1], ax[2]\n",
    "f, ax = plt.subplots(1, 3, figsize=(16,5))\n",
    "\n",
    "raw_data['스트레스'].plot.bar(ax=ax[0])\n",
    "ax[0].set_title('스트레스를 받은적 있다')\n",
    "ax[0].set_ylabel('')\n",
    "\n",
    "raw_data['우울감경험률'].plot.bar(ax=ax[1])\n",
    "ax[1].set_title('우울증을 경험한적 있다')\n",
    "ax[1].set_ylabel('')\n",
    "\n",
    "raw_data['자살생각률'].plot.bar(ax=ax[2])\n",
    "ax[2].set_title('자살을 고민한적 있다')\n",
    "ax[2].set_ylabel('')"
   ]
  },
  {
   "cell_type": "code",
   "execution_count": null,
   "metadata": {},
   "outputs": [],
   "source": []
  },
  {
   "cell_type": "markdown",
   "metadata": {},
   "source": [
    "# 연습문제"
   ]
  },
  {
   "cell_type": "code",
   "execution_count": 396,
   "metadata": {},
   "outputs": [],
   "source": [
    "%matplotlib inline\n",
    "import matplotlib.pyplot as plt\n",
    "\n",
    "from matplotlib import font_manager, rc\n",
    "plt.rcParams['axes.unicode_minus'] = False\n",
    "\n",
    "f_path = 'C:\\Windows\\Fonts\\malgun.ttf'\n",
    "font_name = font_manager.FontProperties(fname=f_path).get_name()\n",
    "rc('font',family=font_name)"
   ]
  },
  {
   "cell_type": "markdown",
   "metadata": {},
   "source": [
    " "
   ]
  },
  {
   "cell_type": "code",
   "execution_count": 397,
   "metadata": {},
   "outputs": [],
   "source": [
    "import glob\n",
    "data = glob.glob('data/names/yob200*')"
   ]
  },
  {
   "cell_type": "markdown",
   "metadata": {},
   "source": [
    " \n"
   ]
  },
  {
   "cell_type": "code",
   "execution_count": 435,
   "metadata": {},
   "outputs": [
    {
     "data": {
      "text/plain": [
       "[          Name Sex  Count  Year\n",
       " 0        Emily   F  25956  2000\n",
       " 1       Hannah   F  23082  2000\n",
       " 2      Madison   F  19968  2000\n",
       " 3       Ashley   F  17997  2000\n",
       " 4        Sarah   F  17702  2000\n",
       " ...        ...  ..    ...   ...\n",
       " 29767     Zeph   M      5  2000\n",
       " 29768    Zeven   M      5  2000\n",
       " 29769    Ziggy   M      5  2000\n",
       " 29770       Zo   M      5  2000\n",
       " 29771    Zyier   M      5  2000\n",
       " \n",
       " [29772 rows x 4 columns],           Name Sex  Count  Year\n",
       " 0        Emily   F  25057  2001\n",
       " 1      Madison   F  22164  2001\n",
       " 2       Hannah   F  20716  2001\n",
       " 3       Ashley   F  16527  2001\n",
       " 4       Alexis   F  16402  2001\n",
       " ...        ...  ..    ...   ...\n",
       " 30269     Zyad   M      5  2001\n",
       " 30270    Zyere   M      5  2001\n",
       " 30271    Zykel   M      5  2001\n",
       " 30272    Zyrek   M      5  2001\n",
       " 30273  Zyshaun   M      5  2001\n",
       " \n",
       " [30274 rows x 4 columns],           Name Sex  Count  Year\n",
       " 0        Emily   F  24464  2002\n",
       " 1      Madison   F  21773  2002\n",
       " 2       Hannah   F  18822  2002\n",
       " 3         Emma   F  16540  2002\n",
       " 4       Alexis   F  15636  2002\n",
       " ...        ...  ..    ...   ...\n",
       " 30559    Zimri   M      5  2002\n",
       " 30560    Zoran   M      5  2002\n",
       " 30561     Zyen   M      5  2002\n",
       " 30562    Zylan   M      5  2002\n",
       " 30563    Zyonn   M      5  2002\n",
       " \n",
       " [30564 rows x 4 columns],           Name Sex  Count  Year\n",
       " 0        Emily   F  25691  2003\n",
       " 1         Emma   F  22706  2003\n",
       " 2      Madison   F  20199  2003\n",
       " 3       Hannah   F  17637  2003\n",
       " 4       Olivia   F  16148  2003\n",
       " ...        ...  ..    ...   ...\n",
       " 31180   Zorion   M      5  2003\n",
       " 31181  Zxavian   M      5  2003\n",
       " 31182     Zyad   M      5  2003\n",
       " 31183   Zykeem   M      5  2003\n",
       " 31184   Zysean   M      5  2003\n",
       " \n",
       " [31185 rows x 4 columns],            Name Sex  Count  Year\n",
       " 0         Emily   F  25037  2004\n",
       " 1          Emma   F  21607  2004\n",
       " 2       Madison   F  20622  2004\n",
       " 3        Olivia   F  16105  2004\n",
       " 4        Hannah   F  15605  2004\n",
       " ...         ...  ..    ...   ...\n",
       " 32043     Zykee   M      5  2004\n",
       " 32044  Zymarion   M      5  2004\n",
       " 32045    Zymeir   M      5  2004\n",
       " 32046    Zyrell   M      5  2004\n",
       " 32047     Zyron   M      5  2004\n",
       " \n",
       " [32048 rows x 4 columns],             Name Sex  Count  Year\n",
       " 0          Emily   F  23940  2005\n",
       " 1           Emma   F  20344  2005\n",
       " 2        Madison   F  19568  2005\n",
       " 3        Abigail   F  15749  2005\n",
       " 4         Olivia   F  15693  2005\n",
       " ...          ...  ..    ...   ...\n",
       " 32544    Zymiere   M      5  2005\n",
       " 32545     Zyrell   M      5  2005\n",
       " 32546     Zyrian   M      5  2005\n",
       " 32547     Zyshon   M      5  2005\n",
       " 32548  Zytavious   M      5  2005\n",
       " \n",
       " [32549 rows x 4 columns],              Name Sex  Count  Year\n",
       " 0           Emily   F  21404  2006\n",
       " 1            Emma   F  19119  2006\n",
       " 2         Madison   F  18626  2006\n",
       " 3        Isabella   F  18225  2006\n",
       " 4             Ava   F  16939  2006\n",
       " ...           ...  ..    ...   ...\n",
       " 34083      Zymire   M      5  2006\n",
       " 34084  Zyquavious   M      5  2006\n",
       " 34085      Zyrell   M      5  2006\n",
       " 34086     Zyshaun   M      5  2006\n",
       " 34087     Zyshawn   M      5  2006\n",
       " \n",
       " [34088 rows x 4 columns],              Name Sex  Count  Year\n",
       " 0           Emily   F  19355  2007\n",
       " 1        Isabella   F  19139  2007\n",
       " 2            Emma   F  18373  2007\n",
       " 3             Ava   F  18051  2007\n",
       " 4         Madison   F  17961  2007\n",
       " ...           ...  ..    ...   ...\n",
       " 34956       Zylin   M      5  2007\n",
       " 34957       Zyonn   M      5  2007\n",
       " 34958   Zyquarius   M      5  2007\n",
       " 34959  Zyquavious   M      5  2007\n",
       " 34960      Zyrese   M      5  2007\n",
       " \n",
       " [34961 rows x 4 columns],             Name Sex  Count  Year\n",
       " 0           Emma   F  18813  2008\n",
       " 1       Isabella   F  18616  2008\n",
       " 2          Emily   F  17434  2008\n",
       " 3         Olivia   F  17081  2008\n",
       " 4            Ava   F  17039  2008\n",
       " ...          ...  ..    ...   ...\n",
       " 35074     Zymire   M      5  2008\n",
       " 35075  Zyquarius   M      5  2008\n",
       " 35076  Zyquavion   M      5  2008\n",
       " 35077     Zyrell   M      5  2008\n",
       " 35078      Zyren   M      5  2008\n",
       " \n",
       " [35079 rows x 4 columns],             Name Sex  Count  Year\n",
       " 0       Isabella   F  22306  2009\n",
       " 1           Emma   F  17895  2009\n",
       " 2         Olivia   F  17435  2009\n",
       " 3         Sophia   F  16944  2009\n",
       " 4            Ava   F  15873  2009\n",
       " ...          ...  ..    ...   ...\n",
       " 34704  Zyquarius   M      5  2009\n",
       " 34705      Zyran   M      5  2009\n",
       " 34706    Zyreion   M      5  2009\n",
       " 34707     Zyrian   M      5  2009\n",
       " 34708     Zyvion   M      5  2009\n",
       " \n",
       " [34709 rows x 4 columns]]"
      ]
     },
     "execution_count": 435,
     "metadata": {},
     "output_type": "execute_result"
    }
   ],
   "source": [
    "import pandas as pd\n",
    "h=['Name','Sex','Count','Year']\n",
    "data_list = []\n",
    "\n",
    "st = 2000 # 연도\n",
    "c = 0 # 번호\n",
    "for i in data:\n",
    "    data_list.append(pd.read_csv(i, names=h))\n",
    "    data_list[c][\"Year\"] = st\n",
    "    st += 1\n",
    "    c += 1\n",
    "data_list"
   ]
  },
  {
   "cell_type": "code",
   "execution_count": 436,
   "metadata": {},
   "outputs": [
    {
     "data": {
      "text/plain": [
       "(325229, 4)"
      ]
     },
     "execution_count": 436,
     "metadata": {},
     "output_type": "execute_result"
    }
   ],
   "source": [
    "df = pd.concat(data_list)\n",
    "df.shape # 325229,4"
   ]
  },
  {
   "cell_type": "code",
   "execution_count": 437,
   "metadata": {},
   "outputs": [
    {
     "data": {
      "text/html": [
       "<div>\n",
       "<style scoped>\n",
       "    .dataframe tbody tr th:only-of-type {\n",
       "        vertical-align: middle;\n",
       "    }\n",
       "\n",
       "    .dataframe tbody tr th {\n",
       "        vertical-align: top;\n",
       "    }\n",
       "\n",
       "    .dataframe thead th {\n",
       "        text-align: right;\n",
       "    }\n",
       "</style>\n",
       "<table border=\"1\" class=\"dataframe\">\n",
       "  <thead>\n",
       "    <tr style=\"text-align: right;\">\n",
       "      <th></th>\n",
       "      <th>Name</th>\n",
       "      <th>Sex</th>\n",
       "      <th>Count</th>\n",
       "      <th>Year</th>\n",
       "    </tr>\n",
       "  </thead>\n",
       "  <tbody>\n",
       "    <tr>\n",
       "      <td>0</td>\n",
       "      <td>Emily</td>\n",
       "      <td>F</td>\n",
       "      <td>25956</td>\n",
       "      <td>2000</td>\n",
       "    </tr>\n",
       "    <tr>\n",
       "      <td>1</td>\n",
       "      <td>Hannah</td>\n",
       "      <td>F</td>\n",
       "      <td>23082</td>\n",
       "      <td>2000</td>\n",
       "    </tr>\n",
       "    <tr>\n",
       "      <td>2</td>\n",
       "      <td>Madison</td>\n",
       "      <td>F</td>\n",
       "      <td>19968</td>\n",
       "      <td>2000</td>\n",
       "    </tr>\n",
       "    <tr>\n",
       "      <td>3</td>\n",
       "      <td>Ashley</td>\n",
       "      <td>F</td>\n",
       "      <td>17997</td>\n",
       "      <td>2000</td>\n",
       "    </tr>\n",
       "    <tr>\n",
       "      <td>4</td>\n",
       "      <td>Sarah</td>\n",
       "      <td>F</td>\n",
       "      <td>17702</td>\n",
       "      <td>2000</td>\n",
       "    </tr>\n",
       "  </tbody>\n",
       "</table>\n",
       "</div>"
      ],
      "text/plain": [
       "      Name Sex  Count  Year\n",
       "0    Emily   F  25956  2000\n",
       "1   Hannah   F  23082  2000\n",
       "2  Madison   F  19968  2000\n",
       "3   Ashley   F  17997  2000\n",
       "4    Sarah   F  17702  2000"
      ]
     },
     "execution_count": 437,
     "metadata": {},
     "output_type": "execute_result"
    }
   ],
   "source": [
    "df.head(5)"
   ]
  },
  {
   "cell_type": "markdown",
   "metadata": {},
   "source": [
    "#### 카테고리별 값 세기: value_counts(), 데이터 개수 세기: count()"
   ]
  },
  {
   "cell_type": "code",
   "execution_count": 438,
   "metadata": {},
   "outputs": [
    {
     "data": {
      "text/plain": [
       "Sex\n",
       "F    18463899\n",
       "M    19946991\n",
       "Name: Count, dtype: int64"
      ]
     },
     "execution_count": 438,
     "metadata": {},
     "output_type": "execute_result"
    }
   ],
   "source": [
    "# 2000년도 Emily라는 이름의 Female이 25956명 있었다.\n",
    "df.groupby(['Sex'])['Count'].sum() # 성별 총 합. sex로 묶고 'Count'합하자"
   ]
  },
  {
   "cell_type": "code",
   "execution_count": 439,
   "metadata": {},
   "outputs": [
    {
     "data": {
      "text/plain": [
       "<matplotlib.axes._subplots.AxesSubplot at 0x1b0aeec4988>"
      ]
     },
     "execution_count": 439,
     "metadata": {},
     "output_type": "execute_result"
    },
    {
     "data": {
      "image/png": "[encoded data removed]",
      "text/plain": [
       "<Figure size 432x288 with 1 Axes>"
      ]
     },
     "metadata": {},
     "output_type": "display_data"
    }
   ],
   "source": [
    "df.groupby(['Sex'])['Count'].sum().plot.pie(explode=[0,0.05]\n",
    "                   ,startangle=90\n",
    "                    ,autopct = '%.1f%%')"
   ]
  },
  {
   "cell_type": "code",
   "execution_count": 440,
   "metadata": {},
   "outputs": [
    {
     "data": {
      "text/plain": [
       "Text(0, 0.5, 'count')"
      ]
     },
     "execution_count": 440,
     "metadata": {},
     "output_type": "execute_result"
    },
    {
     "data": {
      "image/png": "[encoded data removed]",
      "text/plain": [
       "<Figure size 432x288 with 1 Axes>"
      ]
     },
     "metadata": {
      "needs_background": "light"
     },
     "output_type": "display_data"
    }
   ],
   "source": [
    "import seaborn as sns\n",
    "ax = plt.subplots()\n",
    "ax = sns.countplot(x=df['Year'], hue=df['Sex'], data=df)\n",
    "ax.set_title(\"년도별 남녀 출생 추이\")\n",
    "ax.set_xlabel('년도')\n",
    "ax.set_ylabel('count')"
   ]
  },
  {
   "cell_type": "code",
   "execution_count": 424,
   "metadata": {},
   "outputs": [
    {
     "data": {
      "text/html": [
       "<div>\n",
       "<style scoped>\n",
       "    .dataframe tbody tr th:only-of-type {\n",
       "        vertical-align: middle;\n",
       "    }\n",
       "\n",
       "    .dataframe tbody tr th {\n",
       "        vertical-align: top;\n",
       "    }\n",
       "\n",
       "    .dataframe thead th {\n",
       "        text-align: right;\n",
       "    }\n",
       "</style>\n",
       "<table border=\"1\" class=\"dataframe\">\n",
       "  <thead>\n",
       "    <tr style=\"text-align: right;\">\n",
       "      <th></th>\n",
       "      <th>Sex</th>\n",
       "      <th>Year</th>\n",
       "      <th>Count</th>\n",
       "    </tr>\n",
       "  </thead>\n",
       "  <tbody>\n",
       "    <tr>\n",
       "      <td>0</td>\n",
       "      <td>F</td>\n",
       "      <td>2000</td>\n",
       "      <td>1815295</td>\n",
       "    </tr>\n",
       "    <tr>\n",
       "      <td>1</td>\n",
       "      <td>M</td>\n",
       "      <td>2000</td>\n",
       "      <td>1963202</td>\n",
       "    </tr>\n",
       "    <tr>\n",
       "      <td>2</td>\n",
       "      <td>F</td>\n",
       "      <td>2001</td>\n",
       "      <td>1799834</td>\n",
       "    </tr>\n",
       "    <tr>\n",
       "      <td>3</td>\n",
       "      <td>M</td>\n",
       "      <td>2001</td>\n",
       "      <td>1942034</td>\n",
       "    </tr>\n",
       "    <tr>\n",
       "      <td>4</td>\n",
       "      <td>F</td>\n",
       "      <td>2002</td>\n",
       "      <td>1795973</td>\n",
       "    </tr>\n",
       "    <tr>\n",
       "      <td>5</td>\n",
       "      <td>M</td>\n",
       "      <td>2002</td>\n",
       "      <td>1940525</td>\n",
       "    </tr>\n",
       "    <tr>\n",
       "      <td>6</td>\n",
       "      <td>F</td>\n",
       "      <td>2003</td>\n",
       "      <td>1826173</td>\n",
       "    </tr>\n",
       "    <tr>\n",
       "      <td>7</td>\n",
       "      <td>M</td>\n",
       "      <td>2003</td>\n",
       "      <td>1974274</td>\n",
       "    </tr>\n",
       "    <tr>\n",
       "      <td>8</td>\n",
       "      <td>F</td>\n",
       "      <td>2004</td>\n",
       "      <td>1835091</td>\n",
       "    </tr>\n",
       "    <tr>\n",
       "      <td>9</td>\n",
       "      <td>M</td>\n",
       "      <td>2004</td>\n",
       "      <td>1983722</td>\n",
       "    </tr>\n",
       "    <tr>\n",
       "      <td>10</td>\n",
       "      <td>F</td>\n",
       "      <td>2005</td>\n",
       "      <td>1846525</td>\n",
       "    </tr>\n",
       "    <tr>\n",
       "      <td>11</td>\n",
       "      <td>M</td>\n",
       "      <td>2005</td>\n",
       "      <td>1996022</td>\n",
       "    </tr>\n",
       "    <tr>\n",
       "      <td>12</td>\n",
       "      <td>F</td>\n",
       "      <td>2006</td>\n",
       "      <td>1899824</td>\n",
       "    </tr>\n",
       "    <tr>\n",
       "      <td>13</td>\n",
       "      <td>M</td>\n",
       "      <td>2006</td>\n",
       "      <td>2053753</td>\n",
       "    </tr>\n",
       "    <tr>\n",
       "      <td>14</td>\n",
       "      <td>F</td>\n",
       "      <td>2007</td>\n",
       "      <td>1921053</td>\n",
       "    </tr>\n",
       "    <tr>\n",
       "      <td>15</td>\n",
       "      <td>M</td>\n",
       "      <td>2007</td>\n",
       "      <td>2073784</td>\n",
       "    </tr>\n",
       "    <tr>\n",
       "      <td>16</td>\n",
       "      <td>F</td>\n",
       "      <td>2008</td>\n",
       "      <td>1889069</td>\n",
       "    </tr>\n",
       "    <tr>\n",
       "      <td>17</td>\n",
       "      <td>M</td>\n",
       "      <td>2008</td>\n",
       "      <td>2038194</td>\n",
       "    </tr>\n",
       "    <tr>\n",
       "      <td>18</td>\n",
       "      <td>F</td>\n",
       "      <td>2009</td>\n",
       "      <td>1835062</td>\n",
       "    </tr>\n",
       "    <tr>\n",
       "      <td>19</td>\n",
       "      <td>M</td>\n",
       "      <td>2009</td>\n",
       "      <td>1981481</td>\n",
       "    </tr>\n",
       "  </tbody>\n",
       "</table>\n",
       "</div>"
      ],
      "text/plain": [
       "   Sex  Year    Count\n",
       "0    F  2000  1815295\n",
       "1    M  2000  1963202\n",
       "2    F  2001  1799834\n",
       "3    M  2001  1942034\n",
       "4    F  2002  1795973\n",
       "5    M  2002  1940525\n",
       "6    F  2003  1826173\n",
       "7    M  2003  1974274\n",
       "8    F  2004  1835091\n",
       "9    M  2004  1983722\n",
       "10   F  2005  1846525\n",
       "11   M  2005  1996022\n",
       "12   F  2006  1899824\n",
       "13   M  2006  2053753\n",
       "14   F  2007  1921053\n",
       "15   M  2007  2073784\n",
       "16   F  2008  1889069\n",
       "17   M  2008  2038194\n",
       "18   F  2009  1835062\n",
       "19   M  2009  1981481"
      ]
     },
     "execution_count": 424,
     "metadata": {},
     "output_type": "execute_result"
    }
   ],
   "source": [
    "df.groupby(['Year','Sex'])['Count'].sum().reset_index(level=0).reset_index(level=0)"
   ]
  },
  {
   "cell_type": "code",
   "execution_count": 434,
   "metadata": {},
   "outputs": [
    {
     "data": {
      "text/plain": [
       "Text(0, 0.5, 'count')"
      ]
     },
     "execution_count": 434,
     "metadata": {},
     "output_type": "execute_result"
    },
    {
     "data": {
      "image/png": "[encoded data removed]",
      "text/plain": [
       "<Figure size 432x288 with 1 Axes>"
      ]
     },
     "metadata": {
      "needs_background": "light"
     },
     "output_type": "display_data"
    }
   ],
   "source": [
    "import seaborn as sns\n",
    "ax = plt.subplot()\n",
    "ax = sns.barplot('Year'\n",
    "      ,'Count'\n",
    "      ,data=df.groupby(['Year','Sex']).sum().reset_index(level=0).reset_index(level=0)\n",
    "      ,hue='Sex')\n",
    "ax.set_title('연도별 남/여 숫자')\n",
    "ax.set_xlabel(\"year\")\n",
    "ax.set_ylabel(\"count\")"
   ]
  },
  {
   "cell_type": "code",
   "execution_count": null,
   "metadata": {},
   "outputs": [],
   "source": []
  },
  {
   "cell_type": "code",
   "execution_count": 370,
   "metadata": {},
   "outputs": [
    {
     "name": "stdout",
     "output_type": "stream",
     "text": [
      "['data/names\\\\yob2000.txt', 'data/names\\\\yob2001.txt', 'data/names\\\\yob2002.txt', 'data/names\\\\yob2003.txt', 'data/names\\\\yob2004.txt', 'data/names\\\\yob2005.txt', 'data/names\\\\yob2006.txt', 'data/names\\\\yob2007.txt', 'data/names\\\\yob2008.txt', 'data/names\\\\yob2009.txt']\n",
      "[          name sex  number  year\n",
      "0        Emily   F   25956  2000\n",
      "1       Hannah   F   23082  2000\n",
      "2      Madison   F   19968  2000\n",
      "3       Ashley   F   17997  2000\n",
      "4        Sarah   F   17702  2000\n",
      "...        ...  ..     ...   ...\n",
      "29767     Zeph   M       5  2000\n",
      "29768    Zeven   M       5  2000\n",
      "29769    Ziggy   M       5  2000\n",
      "29770       Zo   M       5  2000\n",
      "29771    Zyier   M       5  2000\n",
      "\n",
      "[29772 rows x 4 columns],           name sex  number  year\n",
      "0        Emily   F   25057  2001\n",
      "1      Madison   F   22164  2001\n",
      "2       Hannah   F   20716  2001\n",
      "3       Ashley   F   16527  2001\n",
      "4       Alexis   F   16402  2001\n",
      "...        ...  ..     ...   ...\n",
      "30269     Zyad   M       5  2001\n",
      "30270    Zyere   M       5  2001\n",
      "30271    Zykel   M       5  2001\n",
      "30272    Zyrek   M       5  2001\n",
      "30273  Zyshaun   M       5  2001\n",
      "\n",
      "[30274 rows x 4 columns],           name sex  number  year\n",
      "0        Emily   F   24464  2002\n",
      "1      Madison   F   21773  2002\n",
      "2       Hannah   F   18822  2002\n",
      "3         Emma   F   16540  2002\n",
      "4       Alexis   F   15636  2002\n",
      "...        ...  ..     ...   ...\n",
      "30559    Zimri   M       5  2002\n",
      "30560    Zoran   M       5  2002\n",
      "30561     Zyen   M       5  2002\n",
      "30562    Zylan   M       5  2002\n",
      "30563    Zyonn   M       5  2002\n",
      "\n",
      "[30564 rows x 4 columns],           name sex  number  year\n",
      "0        Emily   F   25691  2003\n",
      "1         Emma   F   22706  2003\n",
      "2      Madison   F   20199  2003\n",
      "3       Hannah   F   17637  2003\n",
      "4       Olivia   F   16148  2003\n",
      "...        ...  ..     ...   ...\n",
      "31180   Zorion   M       5  2003\n",
      "31181  Zxavian   M       5  2003\n",
      "31182     Zyad   M       5  2003\n",
      "31183   Zykeem   M       5  2003\n",
      "31184   Zysean   M       5  2003\n",
      "\n",
      "[31185 rows x 4 columns],            name sex  number  year\n",
      "0         Emily   F   25037  2004\n",
      "1          Emma   F   21607  2004\n",
      "2       Madison   F   20622  2004\n",
      "3        Olivia   F   16105  2004\n",
      "4        Hannah   F   15605  2004\n",
      "...         ...  ..     ...   ...\n",
      "32043     Zykee   M       5  2004\n",
      "32044  Zymarion   M       5  2004\n",
      "32045    Zymeir   M       5  2004\n",
      "32046    Zyrell   M       5  2004\n",
      "32047     Zyron   M       5  2004\n",
      "\n",
      "[32048 rows x 4 columns],             name sex  number  year\n",
      "0          Emily   F   23940  2005\n",
      "1           Emma   F   20344  2005\n",
      "2        Madison   F   19568  2005\n",
      "3        Abigail   F   15749  2005\n",
      "4         Olivia   F   15693  2005\n",
      "...          ...  ..     ...   ...\n",
      "32544    Zymiere   M       5  2005\n",
      "32545     Zyrell   M       5  2005\n",
      "32546     Zyrian   M       5  2005\n",
      "32547     Zyshon   M       5  2005\n",
      "32548  Zytavious   M       5  2005\n",
      "\n",
      "[32549 rows x 4 columns],              name sex  number  year\n",
      "0           Emily   F   21404  2006\n",
      "1            Emma   F   19119  2006\n",
      "2         Madison   F   18626  2006\n",
      "3        Isabella   F   18225  2006\n",
      "4             Ava   F   16939  2006\n",
      "...           ...  ..     ...   ...\n",
      "34083      Zymire   M       5  2006\n",
      "34084  Zyquavious   M       5  2006\n",
      "34085      Zyrell   M       5  2006\n",
      "34086     Zyshaun   M       5  2006\n",
      "34087     Zyshawn   M       5  2006\n",
      "\n",
      "[34088 rows x 4 columns],              name sex  number  year\n",
      "0           Emily   F   19355  2007\n",
      "1        Isabella   F   19139  2007\n",
      "2            Emma   F   18373  2007\n",
      "3             Ava   F   18051  2007\n",
      "4         Madison   F   17961  2007\n",
      "...           ...  ..     ...   ...\n",
      "34956       Zylin   M       5  2007\n",
      "34957       Zyonn   M       5  2007\n",
      "34958   Zyquarius   M       5  2007\n",
      "34959  Zyquavious   M       5  2007\n",
      "34960      Zyrese   M       5  2007\n",
      "\n",
      "[34961 rows x 4 columns],             name sex  number  year\n",
      "0           Emma   F   18813  2008\n",
      "1       Isabella   F   18616  2008\n",
      "2          Emily   F   17434  2008\n",
      "3         Olivia   F   17081  2008\n",
      "4            Ava   F   17039  2008\n",
      "...          ...  ..     ...   ...\n",
      "35074     Zymire   M       5  2008\n",
      "35075  Zyquarius   M       5  2008\n",
      "35076  Zyquavion   M       5  2008\n",
      "35077     Zyrell   M       5  2008\n",
      "35078      Zyren   M       5  2008\n",
      "\n",
      "[35079 rows x 4 columns],             name sex  number  year\n",
      "0       Isabella   F   22306  2009\n",
      "1           Emma   F   17895  2009\n",
      "2         Olivia   F   17435  2009\n",
      "3         Sophia   F   16944  2009\n",
      "4            Ava   F   15873  2009\n",
      "...          ...  ..     ...   ...\n",
      "34704  Zyquarius   M       5  2009\n",
      "34705      Zyran   M       5  2009\n",
      "34706    Zyreion   M       5  2009\n",
      "34707     Zyrian   M       5  2009\n",
      "34708     Zyvion   M       5  2009\n",
      "\n",
      "[34709 rows x 4 columns]]\n"
     ]
    }
   ],
   "source": [
    "import pandas as pd\n",
    "import glob\n",
    "birth = glob.glob('data/names/yob200*')\n",
    "birth_2010_2019 = []\n",
    "print(birth)\n",
    "\n",
    "i = 2000\n",
    "for file_name in birth:\n",
    "    df = pd.read_csv(file_name, sep = ',', names=['name', 'sex','number'])\n",
    "    df['year'] = i\n",
    "    i += 1\n",
    "    birth_2010_2019.append(df)\n",
    "    \n",
    "print(birth_2010_2019)\n"
   ]
  },
  {
   "cell_type": "code",
   "execution_count": 372,
   "metadata": {},
   "outputs": [
    {
     "data": {
      "text/html": [
       "<div>\n",
       "<style scoped>\n",
       "    .dataframe tbody tr th:only-of-type {\n",
       "        vertical-align: middle;\n",
       "    }\n",
       "\n",
       "    .dataframe tbody tr th {\n",
       "        vertical-align: top;\n",
       "    }\n",
       "\n",
       "    .dataframe thead th {\n",
       "        text-align: right;\n",
       "    }\n",
       "</style>\n",
       "<table border=\"1\" class=\"dataframe\">\n",
       "  <thead>\n",
       "    <tr style=\"text-align: right;\">\n",
       "      <th></th>\n",
       "      <th>name</th>\n",
       "      <th>sex</th>\n",
       "      <th>number</th>\n",
       "      <th>year</th>\n",
       "    </tr>\n",
       "  </thead>\n",
       "  <tbody>\n",
       "    <tr>\n",
       "      <td>0</td>\n",
       "      <td>Emily</td>\n",
       "      <td>F</td>\n",
       "      <td>25956</td>\n",
       "      <td>2000</td>\n",
       "    </tr>\n",
       "    <tr>\n",
       "      <td>1</td>\n",
       "      <td>Hannah</td>\n",
       "      <td>F</td>\n",
       "      <td>23082</td>\n",
       "      <td>2000</td>\n",
       "    </tr>\n",
       "    <tr>\n",
       "      <td>2</td>\n",
       "      <td>Madison</td>\n",
       "      <td>F</td>\n",
       "      <td>19968</td>\n",
       "      <td>2000</td>\n",
       "    </tr>\n",
       "    <tr>\n",
       "      <td>3</td>\n",
       "      <td>Ashley</td>\n",
       "      <td>F</td>\n",
       "      <td>17997</td>\n",
       "      <td>2000</td>\n",
       "    </tr>\n",
       "    <tr>\n",
       "      <td>4</td>\n",
       "      <td>Sarah</td>\n",
       "      <td>F</td>\n",
       "      <td>17702</td>\n",
       "      <td>2000</td>\n",
       "    </tr>\n",
       "    <tr>\n",
       "      <td>...</td>\n",
       "      <td>...</td>\n",
       "      <td>...</td>\n",
       "      <td>...</td>\n",
       "      <td>...</td>\n",
       "    </tr>\n",
       "    <tr>\n",
       "      <td>34704</td>\n",
       "      <td>Zyquarius</td>\n",
       "      <td>M</td>\n",
       "      <td>5</td>\n",
       "      <td>2009</td>\n",
       "    </tr>\n",
       "    <tr>\n",
       "      <td>34705</td>\n",
       "      <td>Zyran</td>\n",
       "      <td>M</td>\n",
       "      <td>5</td>\n",
       "      <td>2009</td>\n",
       "    </tr>\n",
       "    <tr>\n",
       "      <td>34706</td>\n",
       "      <td>Zyreion</td>\n",
       "      <td>M</td>\n",
       "      <td>5</td>\n",
       "      <td>2009</td>\n",
       "    </tr>\n",
       "    <tr>\n",
       "      <td>34707</td>\n",
       "      <td>Zyrian</td>\n",
       "      <td>M</td>\n",
       "      <td>5</td>\n",
       "      <td>2009</td>\n",
       "    </tr>\n",
       "    <tr>\n",
       "      <td>34708</td>\n",
       "      <td>Zyvion</td>\n",
       "      <td>M</td>\n",
       "      <td>5</td>\n",
       "      <td>2009</td>\n",
       "    </tr>\n",
       "  </tbody>\n",
       "</table>\n",
       "<p>325229 rows × 4 columns</p>\n",
       "</div>"
      ],
      "text/plain": [
       "            name sex  number  year\n",
       "0          Emily   F   25956  2000\n",
       "1         Hannah   F   23082  2000\n",
       "2        Madison   F   19968  2000\n",
       "3         Ashley   F   17997  2000\n",
       "4          Sarah   F   17702  2000\n",
       "...          ...  ..     ...   ...\n",
       "34704  Zyquarius   M       5  2009\n",
       "34705      Zyran   M       5  2009\n",
       "34706    Zyreion   M       5  2009\n",
       "34707     Zyrian   M       5  2009\n",
       "34708     Zyvion   M       5  2009\n",
       "\n",
       "[325229 rows x 4 columns]"
      ]
     },
     "execution_count": 372,
     "metadata": {},
     "output_type": "execute_result"
    }
   ],
   "source": [
    "\n",
    "\n",
    "# 1번 : 2000~2009에 출생한 남/여 파일을 읽어서 concat 시키고\n",
    "birth_2010_2019_concat = pd.concat(birth_2010_2019, axis=0)\n",
    "birth_2010_2019_concat"
   ]
  },
  {
   "cell_type": "code",
   "execution_count": 373,
   "metadata": {},
   "outputs": [
    {
     "name": "stdout",
     "output_type": "stream",
     "text": [
      "325229\n"
     ]
    }
   ],
   "source": [
    "\n",
    "# 2번 : 2000~2009에 출생한 전체 남/녀 수의 합을 구하세요.\n",
    "print(birth_2010_2019_concat.shape[0])\n"
   ]
  },
  {
   "cell_type": "code",
   "execution_count": 374,
   "metadata": {},
   "outputs": [
    {
     "data": {
      "text/plain": [
       "<matplotlib.axes._subplots.AxesSubplot at 0x1b0a34e8c08>"
      ]
     },
     "execution_count": 374,
     "metadata": {},
     "output_type": "execute_result"
    },
    {
     "data": {
      "image/png": "[encoded data removed]",
      "text/plain": [
       "<Figure size 1152x576 with 2 Axes>"
      ]
     },
     "metadata": {
      "needs_background": "light"
     },
     "output_type": "display_data"
    }
   ],
   "source": [
    "\n",
    "# 3번 : \n",
    "import seaborn as sns\n",
    "f, ax = plt.subplots(1,2, figsize=(16,8))\n",
    "\n",
    "birth_2010_2019_concat['sex'].value_counts().plot.pie(ax=ax[0], startangle=90)\n",
    "\n",
    "sns.countplot(x='year', hue='sex', data=birth_2010_2019_concat)"
   ]
  }
 ],
 "metadata": {
  "kernelspec": {
   "display_name": "Python 3",
   "language": "python",
   "name": "python3"
  },
  "language_info": {
   "codemirror_mode": {
    "name": "ipython",
    "version": 3
   },
   "file_extension": ".py",
   "mimetype": "text/x-python",
   "name": "python",
   "nbconvert_exporter": "python",
   "pygments_lexer": "ipython3",
   "version": "3.7.4"
  }
 },
 "nbformat": 4,
 "nbformat_minor": 2
}
