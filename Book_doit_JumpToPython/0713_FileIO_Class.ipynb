{
 "cells": [
  {
   "cell_type": "markdown",
   "metadata": {},
   "source": [
    "# 파일 입출력"
   ]
  },
  {
   "cell_type": "markdown",
   "metadata": {},
   "source": [
    "    1. 파일쓰기"
   ]
  },
  {
   "cell_type": "code",
   "execution_count": 73,
   "metadata": {},
   "outputs": [],
   "source": [
    "f = open(\"C:\\\\SeSAC\\\\python-study\\\\doit.txt\",'w')\n",
    "for i in range(10):\n",
    "    data = f\"{i}번째 줄입니다 \\n\" \n",
    "    f.write(data)\n",
    "f.close()"
   ]
  },
  {
   "cell_type": "markdown",
   "metadata": {},
   "source": [
    "    2.readline()\n",
    "    파일의 한 줄을 가져와 문자열로 반환한다.파일 포인터는 그 다음줄로 이동한다."
   ]
  },
  {
   "cell_type": "code",
   "execution_count": 13,
   "metadata": {},
   "outputs": [
    {
     "name": "stdout",
     "output_type": "stream",
     "text": [
      "0번째 줄입니다 \n",
      "\n",
      "1번째 줄입니다 \n",
      "\n",
      "2번째 줄입니다 \n",
      "\n",
      "3번째 줄입니다 \n",
      "\n",
      "4번째 줄입니다 \n",
      "\n",
      "5번째 줄입니다 \n",
      "\n",
      "6번째 줄입니다 \n",
      "\n",
      "7번째 줄입니다 \n",
      "\n",
      "8번째 줄입니다 \n",
      "\n",
      "9번째 줄입니다 \n"
     ]
    }
   ],
   "source": [
    "f = open(\"C:\\\\SeSAC\\\\python-study\\\\doit.txt\",'r')\n",
    "while True:\n",
    "    line = f.readline()\n",
    "    if not line: break\n",
    "    print(line)\n",
    "f.close()"
   ]
  },
  {
   "cell_type": "markdown",
   "metadata": {},
   "source": [
    "    3. readlines()\n",
    "    파일 내용 전체를 가져와 리스트로 반환합니다. 각 줄은 문자열 형태로 리스트의 요소로 저장됩니다."
   ]
  },
  {
   "cell_type": "code",
   "execution_count": 19,
   "metadata": {},
   "outputs": [
    {
     "name": "stdout",
     "output_type": "stream",
     "text": [
      "['0번째 줄입니다 \\n', '1번째 줄입니다 \\n', '2번째 줄입니다 \\n', '3번째 줄입니다 \\n', '4번째 줄입니다 \\n', '5번째 줄입니다 \\n', '6번째 줄입니다 \\n', '7번째 줄입니다 \\n', '8번째 줄입니다 \\n', '9번째 줄입니다 ']\n",
      "0번째 줄입니다 \n",
      "\n",
      "1번째 줄입니다 \n",
      "\n",
      "2번째 줄입니다 \n",
      "\n",
      "3번째 줄입니다 \n",
      "\n",
      "4번째 줄입니다 \n",
      "\n",
      "5번째 줄입니다 \n",
      "\n",
      "6번째 줄입니다 \n",
      "\n",
      "7번째 줄입니다 \n",
      "\n",
      "8번째 줄입니다 \n",
      "\n",
      "9번째 줄입니다 \n"
     ]
    }
   ],
   "source": [
    "f = open(\"c:\\\\Sesac\\\\python-study\\\\doit.txt\",\"r\")\n",
    "lines = f.readlines()\n",
    "print(lines)\n",
    "for line in lines:\n",
    "    print(line)\n",
    "f.close()"
   ]
  },
  {
   "cell_type": "markdown",
   "metadata": {},
   "source": [
    "    3. read()\n",
    "    readlines()와 마찬가지로 파일 내용 전체를 읽고, 파일 내용 전체를 하나의 문자열로 반환합니다.\n",
    "    각각의 줄은 '\\n' 문자로 구분됩니다.\n",
    "파일 내용 전체를 하나의 문자열로 반환하는게 포인트"
   ]
  },
  {
   "cell_type": "code",
   "execution_count": 20,
   "metadata": {},
   "outputs": [
    {
     "name": "stdout",
     "output_type": "stream",
     "text": [
      "0번째 줄입니다 \n",
      "1번째 줄입니다 \n",
      "2번째 줄입니다 \n",
      "3번째 줄입니다 \n",
      "4번째 줄입니다 \n",
      "5번째 줄입니다 \n",
      "6번째 줄입니다 \n",
      "7번째 줄입니다 \n",
      "8번째 줄입니다 \n",
      "9번째 줄입니다 \n"
     ]
    }
   ],
   "source": [
    "f = open(\"c:\\\\Sesac\\\\python-study\\\\doit.txt\",\"r\")\n",
    "data = f.read()\n",
    "print(data)\n",
    "f.close()"
   ]
  },
  {
   "cell_type": "markdown",
   "metadata": {},
   "source": [
    "    4. File I/O - 'a'사용"
   ]
  },
  {
   "cell_type": "code",
   "execution_count": 21,
   "metadata": {},
   "outputs": [],
   "source": [
    "f = open(\"c:\\\\Sesac\\\\python-study\\\\doit.txt\",\"a\")\n",
    "for i in range(11,21):\n",
    "    data = f\"{i}번째 줄입니다. \\n\"\n",
    "    f.write(data)\n",
    "f.close()"
   ]
  },
  {
   "cell_type": "code",
   "execution_count": 22,
   "metadata": {},
   "outputs": [
    {
     "name": "stdout",
     "output_type": "stream",
     "text": [
      "0번째 줄입니다 \n",
      "\n",
      "1번째 줄입니다 \n",
      "\n",
      "2번째 줄입니다 \n",
      "\n",
      "3번째 줄입니다 \n",
      "\n",
      "4번째 줄입니다 \n",
      "\n",
      "5번째 줄입니다 \n",
      "\n",
      "6번째 줄입니다 \n",
      "\n",
      "7번째 줄입니다 \n",
      "\n",
      "8번째 줄입니다 \n",
      "\n",
      "9번째 줄입니다 11번째 줄입니다. \n",
      "\n",
      "12번째 줄입니다. \n",
      "\n",
      "13번째 줄입니다. \n",
      "\n",
      "14번째 줄입니다. \n",
      "\n",
      "15번째 줄입니다. \n",
      "\n",
      "16번째 줄입니다. \n",
      "\n",
      "17번째 줄입니다. \n",
      "\n",
      "18번째 줄입니다. \n",
      "\n",
      "19번째 줄입니다. \n",
      "\n",
      "20번째 줄입니다. \n",
      "\n"
     ]
    }
   ],
   "source": [
    "f = open(\"c:\\\\Sesac\\\\python-study\\\\doit.txt\",\"r\")\n",
    "while True:\n",
    "    line = f.readline()\n",
    "    if line == '':\n",
    "        break\n",
    "    print(line)\n",
    "f.close()"
   ]
  },
  {
   "cell_type": "markdown",
   "metadata": {},
   "source": [
    "    5. with문과 함께 사용"
   ]
  },
  {
   "cell_type": "code",
   "execution_count": 60,
   "metadata": {},
   "outputs": [
    {
     "name": "stdout",
     "output_type": "stream",
     "text": [
      "['I', 'have', 'a', 'dream,', 'a', 'song', 'to', 'sing\\nTo', 'help', 'me', 'cope', 'with', 'anything\\nIf', 'you', 'see', 'the', 'wonder', 'of', 'a', 'fairy', 'tale\\nYou', 'can', 'take', 'the', 'future', 'even', 'if', 'you', 'fail\\nI', 'believe', 'in', 'angels\\nSomething', 'good', 'in', 'everything', 'I', 'see\\nI', 'believe', 'in', 'angels\\nWhen', 'I', 'know', 'the', 'time', 'is', 'right', 'for', \"me\\nI'll\", 'cross', 'the', 'stream', '-', 'I', 'have', 'a', 'dream\\n\\nI', 'have', 'a', 'dream,', 'a', 'fantasy\\nTo', 'help', 'me', 'through', 'reality\\nAnd', 'my', 'destination', 'makes', 'it', 'worth', 'the', 'while\\nPushing', 'through', 'the', 'darkness', 'still', 'another', 'mile\\nI', 'believe', 'in', 'angels\\nSomething', 'good', 'in', 'everything', 'I', 'see\\nI', 'believe', 'in', 'angels\\nWhen', 'I', 'know', 'the', 'time', 'is', 'right', 'for', \"me\\nI'll\", 'cross', 'the', 'stream', '-', 'I', 'have', 'a', \"dream\\nI'll\", 'cross', 'the', 'stream', '-', 'I', 'have', 'a', 'dream\\n\\nI', 'have', 'a', 'dream,', 'a', 'song', 'to', 'sing\\nTo', 'help', 'me', 'cope', 'with', 'anything\\nIf', 'you', 'see', 'the', 'wonder', 'of', 'a', 'fairy', 'tale\\nYou', 'can', 'take', 'the', 'future', 'even', 'if', 'you', 'fail\\nI', 'believe', 'in', 'angels\\nSomething', 'good', 'in', 'everything', 'I', 'see\\nI', 'believe', 'in', 'angels\\nWhen', 'I', 'know', 'the', 'time', 'is', 'right', 'for', \"me\\nI'll\", 'cross', 'the', 'stream', '-', 'I', 'have', 'a', \"dream\\nI'll\", 'cross', 'the', 'stream', '-', 'I', 'have', 'a', 'dream']\n",
      "['I have a dream, a song to sing', 'To help me cope with anything', 'If you see the wonder of a fairy tale', 'You can take the future even if you fail', 'I believe in angels', 'Something good in everything I see', 'I believe in angels', 'When I know the time is right for me', \"I'll cross the stream - I have a dream\", '', 'I have a dream, a fantasy', 'To help me through reality', 'And my destination makes it worth the while', 'Pushing through the darkness still another mile', 'I believe in angels', 'Something good in everything I see', 'I believe in angels', 'When I know the time is right for me', \"I'll cross the stream - I have a dream\", \"I'll cross the stream - I have a dream\", '', 'I have a dream, a song to sing', 'To help me cope with anything', 'If you see the wonder of a fairy tale', 'You can take the future even if you fail', 'I believe in angels', 'Something good in everything I see', 'I believe in angels', 'When I know the time is right for me', \"I'll cross the stream - I have a dream\", \"I'll cross the stream - I have a dream\"]\n",
      "31\n"
     ]
    }
   ],
   "source": [
    "with open(\"C:\\\\SeSAC\\\\python-study\\\\dream1.txt\",\"r\") as my_file:\n",
    "    contents = my_file.read()\n",
    "    word_list = contents.split(\" \")\n",
    "    line_list = contents.split(\"\\n\")\n",
    "\n",
    "print(word_list)\n",
    "print(line_list)\n",
    "print(len(line_list))"
   ]
  },
  {
   "cell_type": "markdown",
   "metadata": {},
   "source": [
    "# 클래스"
   ]
  },
  {
   "cell_type": "markdown",
   "metadata": {},
   "source": [
    "    1. 계산기 기본"
   ]
  },
  {
   "cell_type": "code",
   "execution_count": null,
   "metadata": {},
   "outputs": [],
   "source": [
    "class Calculator:\n",
    "    def __init__(self):\n",
    "        self.result = 0\n",
    "        self.first = 0\n",
    "        self.second = 0\n",
    "        \n",
    "    def setdata(self, first, second):\n",
    "        self.first = first\n",
    "        self.second = second\n",
    "        \n",
    "    def add(self, num):\n",
    "        self.result += num\n",
    "        \n",
    "    return self.result1"
   ]
  },
  {
   "cell_type": "markdown",
   "metadata": {},
   "source": [
    "    2. 계산기"
   ]
  },
  {
   "cell_type": "code",
   "execution_count": 105,
   "metadata": {},
   "outputs": [
    {
     "name": "stdout",
     "output_type": "stream",
     "text": [
      "2169827109320 2169827107080 False\n",
      "-10\n",
      "27\n"
     ]
    },
    {
     "data": {
      "text/plain": [
       "30"
      ]
     },
     "execution_count": 105,
     "metadata": {},
     "output_type": "execute_result"
    }
   ],
   "source": [
    "class FourCal:\n",
    "    def __init__(self, first, second):\n",
    "        self.first = first\n",
    "        self.second = second\n",
    "        \n",
    "    def setdata(self, first, second):\n",
    "        self.first = first\n",
    "        self.second = second\n",
    "    \n",
    "    def add(self):\n",
    "        result = self.first + self.second\n",
    "        return result\n",
    "    def mul(self):\n",
    "        result = self.first * self.second\n",
    "        return result\n",
    "    def sub(self):\n",
    "        result = self.first - self.second\n",
    "        return result\n",
    "    def div(self):\n",
    "        result = self.first / self.second\n",
    "        return result\n",
    "    \n",
    "a = FourCal(10,20)\n",
    "b = FourCal(10,20)\n",
    "print(id(a), id(b), a is b)\n",
    "print(a.sub())\n",
    "a.setdata(30,3)\n",
    "print(a.sub())\n",
    "a.first"
   ]
  },
  {
   "cell_type": "markdown",
   "metadata": {},
   "source": [
    "    3. 상속"
   ]
  },
  {
   "cell_type": "code",
   "execution_count": 107,
   "metadata": {},
   "outputs": [
    {
     "name": "stdout",
     "output_type": "stream",
     "text": [
      "7\n",
      "32\n"
     ]
    }
   ],
   "source": [
    "class MoreFourCal(FourCal):\n",
    "    def pow(self):\n",
    "        result = self.first ** self.second\n",
    "        return result\n",
    "    \n",
    "c = MoreFourCal(2,5)\n",
    "print(c.add())\n",
    "print(c.pow())"
   ]
  },
  {
   "cell_type": "markdown",
   "metadata": {},
   "source": [
    "    4. 모듈\n",
    "작업디렉토리랑 동일한 경로에 있어야한다.\n",
    "\n",
    "그게 아니라면 import할 파일의 path를 추가해 줘야 한다.\n",
    "\n",
    "sys.path.append(\"파일이 있는 절대경로\")"
   ]
  },
  {
   "cell_type": "code",
   "execution_count": 124,
   "metadata": {},
   "outputs": [
    {
     "data": {
      "text/plain": [
       "7"
      ]
     },
     "execution_count": 124,
     "metadata": {},
     "output_type": "execute_result"
    }
   ],
   "source": [
    "from mod1 import add, sub\n",
    "\n",
    "mod1.add(3,4)"
   ]
  },
  {
   "cell_type": "code",
   "execution_count": 122,
   "metadata": {},
   "outputs": [
    {
     "name": "stdout",
     "output_type": "stream",
     "text": [
      "Modeule1.py의 func1()이 호출됨\n"
     ]
    }
   ],
   "source": [
    "from Module1 import func1, func2, func3\n",
    "func1()"
   ]
  },
  {
   "cell_type": "code",
   "execution_count": null,
   "metadata": {},
   "outputs": [],
   "source": []
  },
  {
   "cell_type": "code",
   "execution_count": null,
   "metadata": {},
   "outputs": [],
   "source": []
  },
  {
   "cell_type": "code",
   "execution_count": null,
   "metadata": {},
   "outputs": [],
   "source": []
  },
  {
   "cell_type": "markdown",
   "metadata": {},
   "source": [
    "## 연습문제"
   ]
  },
  {
   "cell_type": "markdown",
   "metadata": {},
   "source": [
    "    1. 파일 읽기"
   ]
  },
  {
   "cell_type": "code",
   "execution_count": 41,
   "metadata": {},
   "outputs": [
    {
     "name": "stdout",
     "output_type": "stream",
     "text": [
      "I have a dream, a song to sing\n",
      "\n",
      "To help me cope with anything\n",
      "\n",
      "If you see the wonder of a fairy tale\n",
      "\n",
      "You can take the future even if you fail\n",
      "\n",
      "I believe in angels\n",
      "\n",
      "Something good in everything I see\n",
      "\n",
      "I believe in angels\n",
      "\n",
      "When I know the time is right for me\n",
      "\n",
      "I'll cross the stream - I have a dream\n",
      "\n",
      "\n",
      "\n",
      "I have a dream, a fantasy\n",
      "\n",
      "To help me through reality\n",
      "\n",
      "And my destination makes it worth the while\n",
      "\n",
      "Pushing through the darkness still another mile\n",
      "\n",
      "I believe in angels\n",
      "\n",
      "Something good in everything I see\n",
      "\n",
      "I believe in angels\n",
      "\n",
      "When I know the time is right for me\n",
      "\n",
      "I'll cross the stream - I have a dream\n",
      "\n",
      "I'll cross the stream - I have a dream\n",
      "\n",
      "\n",
      "\n",
      "I have a dream, a song to sing\n",
      "\n",
      "To help me cope with anything\n",
      "\n",
      "If you see the wonder of a fairy tale\n",
      "\n",
      "You can take the future even if you fail\n",
      "\n",
      "I believe in angels\n",
      "\n",
      "Something good in everything I see\n",
      "\n",
      "I believe in angels\n",
      "\n",
      "When I know the time is right for me\n",
      "\n",
      "I'll cross the stream - I have a dream\n",
      "\n",
      "I'll cross the stream - I have a dream\n"
     ]
    }
   ],
   "source": [
    "f = open(\"C:\\SeSAC\\python-study\\dream1.txt\",'r')\n",
    "while True:\n",
    "    line = f.readline()\n",
    "    if line == \"\":\n",
    "        break\n",
    "    print(line)\n",
    "f.close()"
   ]
  },
  {
   "cell_type": "markdown",
   "metadata": {},
   "source": [
    "    2. 자동차"
   ]
  },
  {
   "cell_type": "code",
   "execution_count": 80,
   "metadata": {},
   "outputs": [
    {
     "name": "stdout",
     "output_type": "stream",
     "text": [
      "자동차1의 색상은 빨강이며, 현재 속도는 35km입니다.\n",
      "자동차2의 색상은 파랑이며, 현재 속도는 60km입니다.\n",
      "자동차3의 색상은 노랑이며, 현재 속도는 0km입니다.\n"
     ]
    }
   ],
   "source": [
    "# 자동차 클래스 만들기\n",
    "class Car:\n",
    "    def __init__(self):\n",
    "        self.color = \"ㄷ\"\n",
    "        self.speed = 0\n",
    "        \n",
    "    def upSpeed(self, value) :\n",
    "        self.speed += value\n",
    "        if self.speed > 150:\n",
    "            print(\"최대 속도는 150입니다.\")\n",
    "            self.speed = 150\n",
    "        \n",
    "    def downSpeed(self, value) :\n",
    "        self.speed -= value\n",
    "\n",
    "\n",
    "##메인 코드 부분##\n",
    "myCar1 = Car()\n",
    "myCar1.color = \"빨강\"\n",
    "myCar1.speed = 5\n",
    "\n",
    "myCar2 = Car()\n",
    "myCar2.color = \"파랑\"\n",
    "myCar2.speed = 0\n",
    "\n",
    "myCar3 = Car()\n",
    "myCar3.color = \"노랑\"\n",
    "myCar3.speed =0\n",
    "\n",
    "myCar1.upSpeed(30)\n",
    "print(\"자동차1의 색상은 %s이며, 현재 속도는 %dkm입니다.\" % (myCar1.color, myCar1.speed))\n",
    "\n",
    "myCar2.upSpeed(60)\n",
    "print(\"자동차2의 색상은 %s이며, 현재 속도는 %dkm입니다.\" % (myCar2.color, myCar2.speed))\n",
    "\n",
    "myCar3.upSpeed(0)\n",
    "print(\"자동차3의 색상은 %s이며, 현재 속도는 %dkm입니다.\" % (myCar3.color, myCar3.speed))"
   ]
  },
  {
   "cell_type": "markdown",
   "metadata": {},
   "source": [
    "    3. 세단 추가"
   ]
  },
  {
   "cell_type": "code",
   "execution_count": 106,
   "metadata": {},
   "outputs": [
    {
     "name": "stdout",
     "output_type": "stream",
     "text": [
      "70\n",
      "자동차 입니다.\n",
      "--\n",
      "130\n",
      "세단 입니다.\n"
     ]
    }
   ],
   "source": [
    "class Car:\n",
    "    speed=30\n",
    "    color = \"\"\n",
    "    \n",
    "    def upspeed(self, value):\n",
    "        self.speed += value\n",
    "        \n",
    "    def setcolor(self,value):\n",
    "        self.color = value\n",
    "    def showcolor(self):\n",
    "        return self.color\n",
    "    def klaxon(self):\n",
    "        print(\"자동차 입니다.\")\n",
    "        \n",
    "class Sedan(Car):\n",
    "    def upspeed(self,value):\n",
    "        self.speed += value\n",
    "        \n",
    "    def klaxon(self):\n",
    "        print(\"세단 입니다.\")\n",
    "    \n",
    "car = Car()\n",
    "car.setcolor(\"빨강\")\n",
    "car.upspeed(40)\n",
    "print(car.speed)\n",
    "car.klaxon()\n",
    "\n",
    "print(\"--\")\n",
    "\n",
    "sedan = Sedan()\n",
    "sedan.upspeed(100)\n",
    "print(sedan.speed)\n",
    "sedan.klaxon()\n"
   ]
  },
  {
   "cell_type": "markdown",
   "metadata": {},
   "source": [
    "    4. Sonata추가"
   ]
  },
  {
   "cell_type": "code",
   "execution_count": 7,
   "metadata": {},
   "outputs": [
    {
     "name": "stdout",
     "output_type": "stream",
     "text": [
      "200\n",
      "자동차 입니다.\n",
      "--\n",
      "150\n",
      "세단 입니다.\n",
      "--\n",
      "150\n"
     ]
    }
   ],
   "source": [
    "class Car:\n",
    "    speed=0\n",
    "    color = \"\"\n",
    "    \n",
    "    def upspeed(self, value):\n",
    "        self.speed += value\n",
    "    def downspeed(self, value):\n",
    "        self.speed -= value  \n",
    "        \n",
    "    def setcolor(self,value):\n",
    "        self.color = value\n",
    "    def showcolor(self):\n",
    "        return self.color\n",
    "    def klaxon(self):\n",
    "        print(\"자동차 입니다.\")\n",
    "        \n",
    "class Sedan(Car):\n",
    "    def upspeed(self,value):\n",
    "        self.speed += value\n",
    "        \n",
    "    def klaxon(self):\n",
    "        print(\"세단 입니다.\")\n",
    "\n",
    "class Sonata(Sedan):\n",
    "    pass\n",
    "\n",
    "car = Car()\n",
    "car.setcolor(\"빨강\")\n",
    "car.upspeed(200)\n",
    "print(car.speed)\n",
    "car.klaxon()\n",
    "\n",
    "print(\"--\")\n",
    "\n",
    "sedan = Sedan()\n",
    "sedan.upspeed(150)\n",
    "print(sedan.speed)\n",
    "sedan.klaxon()\n",
    "\n",
    "print(\"--\")\n",
    "\n",
    "sonata = Sonata()\n",
    "sonata.upspeed(150)\n",
    "print(sonata.speed)\n"
   ]
  },
  {
   "cell_type": "markdown",
   "metadata": {},
   "source": [
    "    5. 로또"
   ]
  },
  {
   "cell_type": "code",
   "execution_count": 84,
   "metadata": {},
   "outputs": [
    {
     "name": "stdout",
     "output_type": "stream",
     "text": [
      "{1, 42, 45, 21, 26, 27, 29}\n"
     ]
    }
   ],
   "source": [
    "import random\n",
    "\n",
    "# 함수선언부분\n",
    "def getNumber():\n",
    "    return random.randrange(1,46)\n",
    "getNumber()\n",
    "\n",
    "lotto = set()\n",
    "num = 0\n",
    "\n",
    "while num<7:\n",
    "    get_n = getNumber()\n",
    "    if get_n not in lotto:\n",
    "        lotto.add(get_n)\n",
    "        num += 1\n",
    "    \n",
    "print(lotto)"
   ]
  },
  {
   "cell_type": "markdown",
   "metadata": {},
   "source": [
    "1. \n",
    "//if elif else\n",
    "\n",
    "20~26세 대학생, 17세 이상이면 고등학생, 14세 이상이면 중학생, 8세 이상이면 초등학생 나머지는 나이와 학생\n",
    "\n",
    "이 아닙니다라고 출력하세요.\n",
    "\n",
    "출력 결과)\n",
    "\n",
    "당신이 태어난 연도를 입력하세요. 2010\n",
    "\n",
    "초등학생\n",
    "\n",
    "당신이 태어난 연도를 입력하세요. 1988\n",
    "\n",
    "나이는 33세 학생이 아닙니다."
   ]
  },
  {
   "cell_type": "code",
   "execution_count": null,
   "metadata": {},
   "outputs": [],
   "source": []
  },
  {
   "cell_type": "code",
   "execution_count": null,
   "metadata": {},
   "outputs": [],
   "source": []
  },
  {
   "cell_type": "code",
   "execution_count": null,
   "metadata": {},
   "outputs": [],
   "source": []
  },
  {
   "cell_type": "code",
   "execution_count": null,
   "metadata": {},
   "outputs": [],
   "source": []
  }
 ],
 "metadata": {
  "kernelspec": {
   "display_name": "Python 3",
   "language": "python",
   "name": "python3"
  },
  "language_info": {
   "codemirror_mode": {
    "name": "ipython",
    "version": 3
   },
   "file_extension": ".py",
   "mimetype": "text/x-python",
   "name": "python",
   "nbconvert_exporter": "python",
   "pygments_lexer": "ipython3",
   "version": "3.7.4"
  }
 },
 "nbformat": 4,
 "nbformat_minor": 2
}
